{
 "cells": [
  {
   "cell_type": "markdown",
   "metadata": {},
   "source": [
    "# Training Convolutional Neural Nets for Anomaly Detection at L1Trigger"
   ]
  },
  {
   "cell_type": "markdown",
   "metadata": {},
   "source": [
    "## Packages"
   ]
  },
  {
   "cell_type": "code",
   "execution_count": 1,
   "metadata": {},
   "outputs": [
    {
     "name": "stderr",
     "output_type": "stream",
     "text": [
      "Using TensorFlow backend.\n"
     ]
    }
   ],
   "source": [
    "import numpy as np\n",
    "import pandas as pd\n",
    "import tensorflow as tf\n",
    "import matplotlib.pyplot as plt\n",
    "import seaborn as sns\n",
    "from sklearn.model_selection import train_test_split\n",
    "from sklearn.preprocessing import StandardScaler\n",
    "from tensorflow import keras\n",
    "from tensorflow.keras import layers, models\n",
    "from keras.initializers import glorot_uniform\n",
    "from sklearn.metrics import roc_curve, auc\n",
    "\n",
    "import keras_tuner\n",
    "from keras_tuner import Hyperband\n",
    "\n",
    "import joblib"
   ]
  },
  {
   "cell_type": "markdown",
   "metadata": {},
   "source": [
    "## Read input csv files into pandas"
   ]
  },
  {
   "cell_type": "code",
   "execution_count": 2,
   "metadata": {},
   "outputs": [
    {
     "data": {
      "text/html": [
       "<div>\n",
       "<style scoped>\n",
       "    .dataframe tbody tr th:only-of-type {\n",
       "        vertical-align: middle;\n",
       "    }\n",
       "\n",
       "    .dataframe tbody tr th {\n",
       "        vertical-align: top;\n",
       "    }\n",
       "\n",
       "    .dataframe thead th {\n",
       "        text-align: right;\n",
       "    }\n",
       "</style>\n",
       "<table border=\"1\" class=\"dataframe\">\n",
       "  <thead>\n",
       "    <tr style=\"text-align: right;\">\n",
       "      <th></th>\n",
       "      <th>event</th>\n",
       "      <th>eta</th>\n",
       "      <th>phi</th>\n",
       "      <th>et</th>\n",
       "      <th>position</th>\n",
       "      <th>electron</th>\n",
       "      <th>tau</th>\n",
       "    </tr>\n",
       "  </thead>\n",
       "  <tbody>\n",
       "    <tr>\n",
       "      <th>0</th>\n",
       "      <td>0</td>\n",
       "      <td>6</td>\n",
       "      <td>3</td>\n",
       "      <td>0</td>\n",
       "      <td>0</td>\n",
       "      <td>1</td>\n",
       "      <td>1</td>\n",
       "    </tr>\n",
       "    <tr>\n",
       "      <th>1</th>\n",
       "      <td>0</td>\n",
       "      <td>7</td>\n",
       "      <td>3</td>\n",
       "      <td>1</td>\n",
       "      <td>0</td>\n",
       "      <td>1</td>\n",
       "      <td>1</td>\n",
       "    </tr>\n",
       "    <tr>\n",
       "      <th>2</th>\n",
       "      <td>0</td>\n",
       "      <td>5</td>\n",
       "      <td>3</td>\n",
       "      <td>0</td>\n",
       "      <td>0</td>\n",
       "      <td>1</td>\n",
       "      <td>1</td>\n",
       "    </tr>\n",
       "    <tr>\n",
       "      <th>3</th>\n",
       "      <td>0</td>\n",
       "      <td>8</td>\n",
       "      <td>3</td>\n",
       "      <td>0</td>\n",
       "      <td>0</td>\n",
       "      <td>1</td>\n",
       "      <td>1</td>\n",
       "    </tr>\n",
       "    <tr>\n",
       "      <th>4</th>\n",
       "      <td>0</td>\n",
       "      <td>4</td>\n",
       "      <td>3</td>\n",
       "      <td>0</td>\n",
       "      <td>0</td>\n",
       "      <td>1</td>\n",
       "      <td>1</td>\n",
       "    </tr>\n",
       "    <tr>\n",
       "      <th>...</th>\n",
       "      <td>...</td>\n",
       "      <td>...</td>\n",
       "      <td>...</td>\n",
       "      <td>...</td>\n",
       "      <td>...</td>\n",
       "      <td>...</td>\n",
       "      <td>...</td>\n",
       "    </tr>\n",
       "    <tr>\n",
       "      <th>79573531</th>\n",
       "      <td>315767</td>\n",
       "      <td>11</td>\n",
       "      <td>14</td>\n",
       "      <td>0</td>\n",
       "      <td>0</td>\n",
       "      <td>1</td>\n",
       "      <td>1</td>\n",
       "    </tr>\n",
       "    <tr>\n",
       "      <th>79573532</th>\n",
       "      <td>315767</td>\n",
       "      <td>1</td>\n",
       "      <td>14</td>\n",
       "      <td>0</td>\n",
       "      <td>0</td>\n",
       "      <td>1</td>\n",
       "      <td>1</td>\n",
       "    </tr>\n",
       "    <tr>\n",
       "      <th>79573533</th>\n",
       "      <td>315767</td>\n",
       "      <td>12</td>\n",
       "      <td>14</td>\n",
       "      <td>0</td>\n",
       "      <td>0</td>\n",
       "      <td>1</td>\n",
       "      <td>1</td>\n",
       "    </tr>\n",
       "    <tr>\n",
       "      <th>79573534</th>\n",
       "      <td>315767</td>\n",
       "      <td>0</td>\n",
       "      <td>14</td>\n",
       "      <td>0</td>\n",
       "      <td>0</td>\n",
       "      <td>1</td>\n",
       "      <td>1</td>\n",
       "    </tr>\n",
       "    <tr>\n",
       "      <th>79573535</th>\n",
       "      <td>315767</td>\n",
       "      <td>13</td>\n",
       "      <td>14</td>\n",
       "      <td>0</td>\n",
       "      <td>0</td>\n",
       "      <td>1</td>\n",
       "      <td>1</td>\n",
       "    </tr>\n",
       "  </tbody>\n",
       "</table>\n",
       "<p>79573536 rows × 7 columns</p>\n",
       "</div>"
      ],
      "text/plain": [
       "           event  eta  phi  et  position  electron  tau\n",
       "0              0    6    3   0         0         1    1\n",
       "1              0    7    3   1         0         1    1\n",
       "2              0    5    3   0         0         1    1\n",
       "3              0    8    3   0         0         1    1\n",
       "4              0    4    3   0         0         1    1\n",
       "...          ...  ...  ...  ..       ...       ...  ...\n",
       "79573531  315767   11   14   0         0         1    1\n",
       "79573532  315767    1   14   0         0         1    1\n",
       "79573533  315767   12   14   0         0         1    1\n",
       "79573534  315767    0   14   0         0         1    1\n",
       "79573535  315767   13   14   0         0         1    1\n",
       "\n",
       "[79573536 rows x 7 columns]"
      ]
     },
     "execution_count": 2,
     "metadata": {},
     "output_type": "execute_result"
    }
   ],
   "source": [
    "#ZeroBias data for training\n",
    "df_zb = pd.read_csv('L1TRegionDump.csv')\n",
    "df_zb"
   ]
  },
  {
   "cell_type": "code",
   "execution_count": 3,
   "metadata": {},
   "outputs": [
    {
     "data": {
      "text/html": [
       "<div>\n",
       "<style scoped>\n",
       "    .dataframe tbody tr th:only-of-type {\n",
       "        vertical-align: middle;\n",
       "    }\n",
       "\n",
       "    .dataframe tbody tr th {\n",
       "        vertical-align: top;\n",
       "    }\n",
       "\n",
       "    .dataframe thead th {\n",
       "        text-align: right;\n",
       "    }\n",
       "</style>\n",
       "<table border=\"1\" class=\"dataframe\">\n",
       "  <thead>\n",
       "    <tr style=\"text-align: right;\">\n",
       "      <th></th>\n",
       "      <th>event</th>\n",
       "      <th>eta</th>\n",
       "      <th>phi</th>\n",
       "      <th>et</th>\n",
       "      <th>position</th>\n",
       "      <th>electron</th>\n",
       "      <th>tau</th>\n",
       "    </tr>\n",
       "  </thead>\n",
       "  <tbody>\n",
       "    <tr>\n",
       "      <th>124</th>\n",
       "      <td>0</td>\n",
       "      <td>0</td>\n",
       "      <td>17</td>\n",
       "      <td>7</td>\n",
       "      <td>10</td>\n",
       "      <td>0</td>\n",
       "      <td>0</td>\n",
       "    </tr>\n",
       "    <tr>\n",
       "      <th>122</th>\n",
       "      <td>0</td>\n",
       "      <td>1</td>\n",
       "      <td>17</td>\n",
       "      <td>0</td>\n",
       "      <td>0</td>\n",
       "      <td>1</td>\n",
       "      <td>1</td>\n",
       "    </tr>\n",
       "    <tr>\n",
       "      <th>120</th>\n",
       "      <td>0</td>\n",
       "      <td>2</td>\n",
       "      <td>17</td>\n",
       "      <td>0</td>\n",
       "      <td>0</td>\n",
       "      <td>1</td>\n",
       "      <td>1</td>\n",
       "    </tr>\n",
       "    <tr>\n",
       "      <th>118</th>\n",
       "      <td>0</td>\n",
       "      <td>3</td>\n",
       "      <td>17</td>\n",
       "      <td>1</td>\n",
       "      <td>15</td>\n",
       "      <td>1</td>\n",
       "      <td>1</td>\n",
       "    </tr>\n",
       "    <tr>\n",
       "      <th>116</th>\n",
       "      <td>0</td>\n",
       "      <td>4</td>\n",
       "      <td>17</td>\n",
       "      <td>1</td>\n",
       "      <td>13</td>\n",
       "      <td>1</td>\n",
       "      <td>1</td>\n",
       "    </tr>\n",
       "    <tr>\n",
       "      <th>...</th>\n",
       "      <td>...</td>\n",
       "      <td>...</td>\n",
       "      <td>...</td>\n",
       "      <td>...</td>\n",
       "      <td>...</td>\n",
       "      <td>...</td>\n",
       "      <td>...</td>\n",
       "    </tr>\n",
       "    <tr>\n",
       "      <th>79573415</th>\n",
       "      <td>315767</td>\n",
       "      <td>9</td>\n",
       "      <td>0</td>\n",
       "      <td>0</td>\n",
       "      <td>0</td>\n",
       "      <td>1</td>\n",
       "      <td>1</td>\n",
       "    </tr>\n",
       "    <tr>\n",
       "      <th>79573417</th>\n",
       "      <td>315767</td>\n",
       "      <td>10</td>\n",
       "      <td>0</td>\n",
       "      <td>0</td>\n",
       "      <td>0</td>\n",
       "      <td>1</td>\n",
       "      <td>1</td>\n",
       "    </tr>\n",
       "    <tr>\n",
       "      <th>79573419</th>\n",
       "      <td>315767</td>\n",
       "      <td>11</td>\n",
       "      <td>0</td>\n",
       "      <td>0</td>\n",
       "      <td>0</td>\n",
       "      <td>1</td>\n",
       "      <td>1</td>\n",
       "    </tr>\n",
       "    <tr>\n",
       "      <th>79573421</th>\n",
       "      <td>315767</td>\n",
       "      <td>12</td>\n",
       "      <td>0</td>\n",
       "      <td>0</td>\n",
       "      <td>0</td>\n",
       "      <td>1</td>\n",
       "      <td>1</td>\n",
       "    </tr>\n",
       "    <tr>\n",
       "      <th>79573423</th>\n",
       "      <td>315767</td>\n",
       "      <td>13</td>\n",
       "      <td>0</td>\n",
       "      <td>0</td>\n",
       "      <td>0</td>\n",
       "      <td>1</td>\n",
       "      <td>1</td>\n",
       "    </tr>\n",
       "  </tbody>\n",
       "</table>\n",
       "<p>79573536 rows × 7 columns</p>\n",
       "</div>"
      ],
      "text/plain": [
       "           event  eta  phi  et  position  electron  tau\n",
       "124            0    0   17   7        10         0    0\n",
       "122            0    1   17   0         0         1    1\n",
       "120            0    2   17   0         0         1    1\n",
       "118            0    3   17   1        15         1    1\n",
       "116            0    4   17   1        13         1    1\n",
       "...          ...  ...  ...  ..       ...       ...  ...\n",
       "79573415  315767    9    0   0         0         1    1\n",
       "79573417  315767   10    0   0         0         1    1\n",
       "79573419  315767   11    0   0         0         1    1\n",
       "79573421  315767   12    0   0         0         1    1\n",
       "79573423  315767   13    0   0         0         1    1\n",
       "\n",
       "[79573536 rows x 7 columns]"
      ]
     },
     "execution_count": 3,
     "metadata": {},
     "output_type": "execute_result"
    }
   ],
   "source": [
    "#Original ZB data is sorted by event # only, where eta and phi are not sorted properly\n",
    "#Re-sort here for easier 2D plotting and data pre-processing later\n",
    "#e.g. in each event block (252 rows), rank phi first from 17 to 0, then for each phi value rank eta from 0 to 13\n",
    "df_zb = df_zb.sort_values(by = ['event', 'phi', 'eta'], ascending = [True, False, True])\n",
    "df_zb"
   ]
  },
  {
   "cell_type": "code",
   "execution_count": 4,
   "metadata": {},
   "outputs": [
    {
     "data": {
      "text/html": [
       "<div>\n",
       "<style scoped>\n",
       "    .dataframe tbody tr th:only-of-type {\n",
       "        vertical-align: middle;\n",
       "    }\n",
       "\n",
       "    .dataframe tbody tr th {\n",
       "        vertical-align: top;\n",
       "    }\n",
       "\n",
       "    .dataframe thead th {\n",
       "        text-align: right;\n",
       "    }\n",
       "</style>\n",
       "<table border=\"1\" class=\"dataframe\">\n",
       "  <thead>\n",
       "    <tr style=\"text-align: right;\">\n",
       "      <th></th>\n",
       "      <th>eta</th>\n",
       "      <th>phi</th>\n",
       "      <th>et</th>\n",
       "      <th>position</th>\n",
       "      <th>electron</th>\n",
       "      <th>tau</th>\n",
       "    </tr>\n",
       "  </thead>\n",
       "  <tbody>\n",
       "    <tr>\n",
       "      <th>0</th>\n",
       "      <td>0</td>\n",
       "      <td>0</td>\n",
       "      <td>14</td>\n",
       "      <td>1</td>\n",
       "      <td>0</td>\n",
       "      <td>1</td>\n",
       "    </tr>\n",
       "    <tr>\n",
       "      <th>1</th>\n",
       "      <td>0</td>\n",
       "      <td>1</td>\n",
       "      <td>14</td>\n",
       "      <td>0</td>\n",
       "      <td>0</td>\n",
       "      <td>1</td>\n",
       "    </tr>\n",
       "    <tr>\n",
       "      <th>2</th>\n",
       "      <td>0</td>\n",
       "      <td>2</td>\n",
       "      <td>14</td>\n",
       "      <td>0</td>\n",
       "      <td>0</td>\n",
       "      <td>1</td>\n",
       "    </tr>\n",
       "    <tr>\n",
       "      <th>3</th>\n",
       "      <td>0</td>\n",
       "      <td>3</td>\n",
       "      <td>14</td>\n",
       "      <td>0</td>\n",
       "      <td>0</td>\n",
       "      <td>1</td>\n",
       "    </tr>\n",
       "    <tr>\n",
       "      <th>4</th>\n",
       "      <td>0</td>\n",
       "      <td>4</td>\n",
       "      <td>14</td>\n",
       "      <td>1</td>\n",
       "      <td>1</td>\n",
       "      <td>1</td>\n",
       "    </tr>\n",
       "    <tr>\n",
       "      <th>...</th>\n",
       "      <td>...</td>\n",
       "      <td>...</td>\n",
       "      <td>...</td>\n",
       "      <td>...</td>\n",
       "      <td>...</td>\n",
       "      <td>...</td>\n",
       "    </tr>\n",
       "    <tr>\n",
       "      <th>251995</th>\n",
       "      <td>13</td>\n",
       "      <td>13</td>\n",
       "      <td>0</td>\n",
       "      <td>0</td>\n",
       "      <td>0</td>\n",
       "      <td>0</td>\n",
       "    </tr>\n",
       "    <tr>\n",
       "      <th>251996</th>\n",
       "      <td>13</td>\n",
       "      <td>14</td>\n",
       "      <td>1</td>\n",
       "      <td>11</td>\n",
       "      <td>1</td>\n",
       "      <td>1</td>\n",
       "    </tr>\n",
       "    <tr>\n",
       "      <th>251997</th>\n",
       "      <td>13</td>\n",
       "      <td>15</td>\n",
       "      <td>0</td>\n",
       "      <td>0</td>\n",
       "      <td>0</td>\n",
       "      <td>1</td>\n",
       "    </tr>\n",
       "    <tr>\n",
       "      <th>251998</th>\n",
       "      <td>13</td>\n",
       "      <td>16</td>\n",
       "      <td>0</td>\n",
       "      <td>15</td>\n",
       "      <td>1</td>\n",
       "      <td>1</td>\n",
       "    </tr>\n",
       "    <tr>\n",
       "      <th>251999</th>\n",
       "      <td>13</td>\n",
       "      <td>17</td>\n",
       "      <td>0</td>\n",
       "      <td>0</td>\n",
       "      <td>0</td>\n",
       "      <td>0</td>\n",
       "    </tr>\n",
       "  </tbody>\n",
       "</table>\n",
       "<p>252000 rows × 6 columns</p>\n",
       "</div>"
      ],
      "text/plain": [
       "        eta  phi  et  position  electron  tau\n",
       "0         0    0  14         1         0    1\n",
       "1         0    1  14         0         0    1\n",
       "2         0    2  14         0         0    1\n",
       "3         0    3  14         0         0    1\n",
       "4         0    4  14         1         1    1\n",
       "...     ...  ...  ..       ...       ...  ...\n",
       "251995   13   13   0         0         0    0\n",
       "251996   13   14   1        11         1    1\n",
       "251997   13   15   0         0         0    1\n",
       "251998   13   16   0        15         1    1\n",
       "251999   13   17   0         0         0    0\n",
       "\n",
       "[252000 rows x 6 columns]"
      ]
     },
     "execution_count": 4,
     "metadata": {},
     "output_type": "execute_result"
    }
   ],
   "source": [
    "#Simulated VBFH->bb signal for test inference only (not to be used in training)\n",
    "df_vbfh = pd.read_csv('cms-vbfh.csv')\n",
    "df_vbfh"
   ]
  },
  {
   "cell_type": "code",
   "execution_count": 5,
   "metadata": {},
   "outputs": [
    {
     "data": {
      "text/html": [
       "<div>\n",
       "<style scoped>\n",
       "    .dataframe tbody tr th:only-of-type {\n",
       "        vertical-align: middle;\n",
       "    }\n",
       "\n",
       "    .dataframe tbody tr th {\n",
       "        vertical-align: top;\n",
       "    }\n",
       "\n",
       "    .dataframe thead th {\n",
       "        text-align: right;\n",
       "    }\n",
       "</style>\n",
       "<table border=\"1\" class=\"dataframe\">\n",
       "  <thead>\n",
       "    <tr style=\"text-align: right;\">\n",
       "      <th></th>\n",
       "      <th>eta</th>\n",
       "      <th>phi</th>\n",
       "      <th>et</th>\n",
       "      <th>position</th>\n",
       "      <th>electron</th>\n",
       "      <th>tau</th>\n",
       "      <th>event</th>\n",
       "    </tr>\n",
       "  </thead>\n",
       "  <tbody>\n",
       "    <tr>\n",
       "      <th>17</th>\n",
       "      <td>0</td>\n",
       "      <td>17</td>\n",
       "      <td>0</td>\n",
       "      <td>0</td>\n",
       "      <td>0</td>\n",
       "      <td>0</td>\n",
       "      <td>0</td>\n",
       "    </tr>\n",
       "    <tr>\n",
       "      <th>35</th>\n",
       "      <td>1</td>\n",
       "      <td>17</td>\n",
       "      <td>0</td>\n",
       "      <td>0</td>\n",
       "      <td>0</td>\n",
       "      <td>0</td>\n",
       "      <td>0</td>\n",
       "    </tr>\n",
       "    <tr>\n",
       "      <th>53</th>\n",
       "      <td>2</td>\n",
       "      <td>17</td>\n",
       "      <td>0</td>\n",
       "      <td>0</td>\n",
       "      <td>0</td>\n",
       "      <td>0</td>\n",
       "      <td>0</td>\n",
       "    </tr>\n",
       "    <tr>\n",
       "      <th>71</th>\n",
       "      <td>3</td>\n",
       "      <td>17</td>\n",
       "      <td>0</td>\n",
       "      <td>0</td>\n",
       "      <td>0</td>\n",
       "      <td>0</td>\n",
       "      <td>0</td>\n",
       "    </tr>\n",
       "    <tr>\n",
       "      <th>89</th>\n",
       "      <td>4</td>\n",
       "      <td>17</td>\n",
       "      <td>4</td>\n",
       "      <td>15</td>\n",
       "      <td>1</td>\n",
       "      <td>1</td>\n",
       "      <td>0</td>\n",
       "    </tr>\n",
       "    <tr>\n",
       "      <th>...</th>\n",
       "      <td>...</td>\n",
       "      <td>...</td>\n",
       "      <td>...</td>\n",
       "      <td>...</td>\n",
       "      <td>...</td>\n",
       "      <td>...</td>\n",
       "      <td>...</td>\n",
       "    </tr>\n",
       "    <tr>\n",
       "      <th>251910</th>\n",
       "      <td>9</td>\n",
       "      <td>0</td>\n",
       "      <td>0</td>\n",
       "      <td>0</td>\n",
       "      <td>0</td>\n",
       "      <td>0</td>\n",
       "      <td>999</td>\n",
       "    </tr>\n",
       "    <tr>\n",
       "      <th>251928</th>\n",
       "      <td>10</td>\n",
       "      <td>0</td>\n",
       "      <td>0</td>\n",
       "      <td>0</td>\n",
       "      <td>0</td>\n",
       "      <td>0</td>\n",
       "      <td>999</td>\n",
       "    </tr>\n",
       "    <tr>\n",
       "      <th>251946</th>\n",
       "      <td>11</td>\n",
       "      <td>0</td>\n",
       "      <td>0</td>\n",
       "      <td>0</td>\n",
       "      <td>0</td>\n",
       "      <td>0</td>\n",
       "      <td>999</td>\n",
       "    </tr>\n",
       "    <tr>\n",
       "      <th>251964</th>\n",
       "      <td>12</td>\n",
       "      <td>0</td>\n",
       "      <td>0</td>\n",
       "      <td>0</td>\n",
       "      <td>0</td>\n",
       "      <td>0</td>\n",
       "      <td>999</td>\n",
       "    </tr>\n",
       "    <tr>\n",
       "      <th>251982</th>\n",
       "      <td>13</td>\n",
       "      <td>0</td>\n",
       "      <td>0</td>\n",
       "      <td>0</td>\n",
       "      <td>0</td>\n",
       "      <td>0</td>\n",
       "      <td>999</td>\n",
       "    </tr>\n",
       "  </tbody>\n",
       "</table>\n",
       "<p>252000 rows × 7 columns</p>\n",
       "</div>"
      ],
      "text/plain": [
       "        eta  phi  et  position  electron  tau  event\n",
       "17        0   17   0         0         0    0      0\n",
       "35        1   17   0         0         0    0      0\n",
       "53        2   17   0         0         0    0      0\n",
       "71        3   17   0         0         0    0      0\n",
       "89        4   17   4        15         1    1      0\n",
       "...     ...  ...  ..       ...       ...  ...    ...\n",
       "251910    9    0   0         0         0    0    999\n",
       "251928   10    0   0         0         0    0    999\n",
       "251946   11    0   0         0         0    0    999\n",
       "251964   12    0   0         0         0    0    999\n",
       "251982   13    0   0         0         0    0    999\n",
       "\n",
       "[252000 rows x 7 columns]"
      ]
     },
     "execution_count": 5,
     "metadata": {},
     "output_type": "execute_result"
    }
   ],
   "source": [
    "#VBFH csv file has the column 'event' missing\n",
    "#Make one here and then sort the same way as above\n",
    "vbfh_event_col = []\n",
    "for i in range(round(df_vbfh.shape[0]/252)):\n",
    "    for j in range(252):\n",
    "        vbfh_event_col.append(i)\n",
    "\n",
    "df_vbfh['event'] = vbfh_event_col\n",
    "df_vbfh = df_vbfh.sort_values(by = ['event', 'phi', 'eta'], ascending = [True, False, True])\n",
    "df_vbfh"
   ]
  },
  {
   "cell_type": "code",
   "execution_count": null,
   "metadata": {},
   "outputs": [],
   "source": [
    "df_zb.shape\n",
    "print(df_zb['eta'].min())\n",
    "print(df_zb['eta'].max())\n",
    "print(df_zb['phi'].min())\n",
    "print(df_zb['phi'].max())\n",
    "print(df_zb['et'].min())\n",
    "print(df_zb['et'].max())\n",
    "print(df_zb['position'].min())\n",
    "print(df_zb['position'].max())"
   ]
  },
  {
   "cell_type": "code",
   "execution_count": null,
   "metadata": {},
   "outputs": [],
   "source": [
    "df_vbfh.shape\n",
    "print(df_vbfh['eta'].min())\n",
    "print(df_vbfh['eta'].max())\n",
    "print(df_vbfh['phi'].min())\n",
    "print(df_vbfh['phi'].max())\n",
    "print(df_vbfh['et'].min())\n",
    "print(df_vbfh['et'].max())\n",
    "print(df_vbfh['position'].min())\n",
    "print(df_vbfh['position'].max())"
   ]
  },
  {
   "cell_type": "markdown",
   "metadata": {},
   "source": [
    "## Plot 2D CaloRegion (18 phi * 14 eta) heatmap to visualize data"
   ]
  },
  {
   "cell_type": "markdown",
   "metadata": {},
   "source": [
    "### Raw ZB data"
   ]
  },
  {
   "cell_type": "code",
   "execution_count": null,
   "metadata": {},
   "outputs": [],
   "source": [
    "#Randomly select N events from raw ZB for plotting\n",
    "N = 5\n",
    "np.random.seed(0)\n",
    "event_idx = np.random.randint(low = df_zb['event'].min(), high = df_zb['event'].max() + 1, size = N)\n",
    "df_zb_example = []\n",
    "df_zb_ET = []\n",
    "df_zb_EleTauBits = []\n",
    "\n",
    "for i in range(N):\n",
    "    df_zb_example.append(df_zb.loc[df_zb['event'] == event_idx[i]])\n",
    "    \n",
    "    #Add EG/Tau bit labels for plotting purpose only\n",
    "    EleTauBits = []\n",
    "    for index, row in df_zb_example[i].iterrows():\n",
    "        if row['electron'] == 1 and row['tau'] == 1:\n",
    "            EleTauBits.append('1,1')\n",
    "        if row['electron'] == 1 and row['tau'] == 0:\n",
    "            EleTauBits.append('1,0')\n",
    "        if row['electron'] == 0 and row['tau'] == 1:\n",
    "            EleTauBits.append('0,1')\n",
    "        if row['electron'] == 0 and row['tau'] == 0:\n",
    "            EleTauBits.append('0,0')\n",
    "    df_zb_example[i]['EleTauBits'] = EleTauBits\n",
    "    \n",
    "    #ET as heatmap intensity\n",
    "    df_zb_ET.append(df_zb_example[i].pivot('phi','eta','et'))\n",
    "    df_zb_ET[i] = df_zb_ET[i].sort_values('phi', ascending = False)#sorted this way so plots look exactly as conventional CaloRegion map\n",
    "    \n",
    "    #EG/Tau bits as alternative annotation\n",
    "    df_zb_EleTauBits.append(df_zb_example[i].pivot('phi','eta','EleTauBits'))\n",
    "    df_zb_EleTauBits[i] = df_zb_EleTauBits[i].sort_values('phi', ascending = False)\n",
    "    "
   ]
  },
  {
   "cell_type": "code",
   "execution_count": null,
   "metadata": {
    "scrolled": true
   },
   "outputs": [],
   "source": [
    "#Draw heatmap with annotation being ET value\n",
    "for i in range(N):\n",
    "    fig, ax = plt.subplots(figsize = (7,7))\n",
    "    ax = sns.heatmap(df_zb_ET[i], vmin = 0, vmax = 100, annot = True, linewidths = 0.1, cmap = \"Reds\", cbar_kws={'label': 'ET (GeV)'})\n",
    "    ax.set_title('Event #: ' + str(event_idx[i]))\n",
    "    print('Event #: ' + str(event_idx[i]))\n",
    "plt.show()"
   ]
  },
  {
   "cell_type": "code",
   "execution_count": null,
   "metadata": {
    "scrolled": true
   },
   "outputs": [],
   "source": [
    "#Draw heatmap with annotation being EG/Tau bits\n",
    "for i in range(N):\n",
    "    fig, ax = plt.subplots(figsize = (7,7))\n",
    "    ax = sns.heatmap(df_zb_ET[i], vmin = 0, vmax = 100, annot = df_zb_EleTauBits[i], fmt = '', linewidths = 0.1, cmap = \"Reds\", cbar_kws={'label': 'ET (GeV)'})\n",
    "    ax.set_title('Event #: ' + str(event_idx[i]))\n",
    "    print('Event #: ' + str(event_idx[i]))\n",
    "plt.show()"
   ]
  },
  {
   "cell_type": "markdown",
   "metadata": {},
   "source": [
    "### Simulated VBFH sample"
   ]
  },
  {
   "cell_type": "code",
   "execution_count": null,
   "metadata": {},
   "outputs": [],
   "source": [
    "#Randomly select N events from MC signal for plotting\n",
    "N = 5\n",
    "np.random.seed(0)\n",
    "event_idx = np.random.randint(low = df_vbfh['event'].min(), high = df_vbfh['event'].max() + 1, size = N)\n",
    "df_vbfh_example = []\n",
    "df_vbfh_ET = []\n",
    "df_vbfh_EleTauBits = []\n",
    "\n",
    "for i in range(N):\n",
    "    df_vbfh_example.append(df_vbfh.loc[df_vbfh['event'] == event_idx[i]])\n",
    "    \n",
    "    #Add EG/Tau bit labels for plotting purpose only\n",
    "    EleTauBits = []\n",
    "    for index, row in df_vbfh_example[i].iterrows():\n",
    "        if row['electron'] == 1 and row['tau'] == 1:\n",
    "            EleTauBits.append('1,1')\n",
    "        if row['electron'] == 1 and row['tau'] == 0:\n",
    "            EleTauBits.append('1,0')\n",
    "        if row['electron'] == 0 and row['tau'] == 1:\n",
    "            EleTauBits.append('0,1')\n",
    "        if row['electron'] == 0 and row['tau'] == 0:\n",
    "            EleTauBits.append('0,0')\n",
    "    df_vbfh_example[i]['EleTauBits'] = EleTauBits\n",
    "    \n",
    "    #ET as heatmap intensity\n",
    "    df_vbfh_ET.append(df_vbfh_example[i].pivot('phi','eta','et'))\n",
    "    df_vbfh_ET[i] = df_vbfh_ET[i].sort_values('phi', ascending = False)#sorted this way so plots look exactly as conventional CaloRegion map\n",
    "    \n",
    "    #EG/Tau bits as alternative annotation\n",
    "    df_vbfh_EleTauBits.append(df_vbfh_example[i].pivot('phi','eta','EleTauBits'))\n",
    "    df_vbfh_EleTauBits[i] = df_vbfh_EleTauBits[i].sort_values('phi', ascending = False)"
   ]
  },
  {
   "cell_type": "code",
   "execution_count": null,
   "metadata": {
    "scrolled": true
   },
   "outputs": [],
   "source": [
    "#Draw heatmap with annotation being ET value\n",
    "for i in range(N):\n",
    "    fig, ax = plt.subplots(figsize = (7,7))\n",
    "    ax = sns.heatmap(df_vbfh_ET[i], vmin = 0, vmax = 100, annot = True, linewidths = 0.1, cmap = \"Reds\", cbar_kws={'label': 'ET (GeV)'})\n",
    "    ax.set_title('Event #: ' + str(event_idx[i]))\n",
    "    print('Event #: ' + str(event_idx[i]))\n",
    "plt.show()"
   ]
  },
  {
   "cell_type": "code",
   "execution_count": null,
   "metadata": {
    "scrolled": true
   },
   "outputs": [],
   "source": [
    "#Draw heatmap with annotation being EG/Tau bits\n",
    "for i in range(N):\n",
    "    fig, ax = plt.subplots(figsize = (7,7))\n",
    "    ax = sns.heatmap(df_vbfh_ET[i], vmin = 0, vmax = 100, annot = df_vbfh_EleTauBits[i], fmt = '', linewidths = 0.1, cmap = \"Reds\", cbar_kws={'label': 'ET (GeV)'})\n",
    "    ax.set_title('Event #: ' + str(event_idx[i]))\n",
    "    print('Event #: ' + str(event_idx[i]))\n",
    "plt.show()"
   ]
  },
  {
   "cell_type": "code",
   "execution_count": 6,
   "metadata": {},
   "outputs": [],
   "source": [
    "#Keep only (eta, phi, ET) as inputs for the moment\n",
    "df_zb_reduced = df_zb.drop(columns = ['event', 'position', 'electron', 'tau'])\n",
    "df_vbfh_reduced = df_vbfh.drop(columns = ['event', 'position', 'electron', 'tau'])\n",
    "\n",
    "#Convert pandas dataframes to numpy arrays for easier manipulation\n",
    "#Array shape: # of events, # of Calo regions, (eta, phi, ET)\n",
    "df_zb_reduced = df_zb_reduced.to_numpy().reshape(round(df_zb.shape[0]/252), 252, 3)\n",
    "df_vbfh_reduced = df_vbfh_reduced.to_numpy().reshape(round(df_vbfh.shape[0]/252), 252, 3)\n",
    "\n",
    "df_zb_reduced = df_zb_reduced.astype(dtype = 'float64')\n",
    "df_vbfh_reduced = df_vbfh_reduced.astype(dtype = 'float64')"
   ]
  },
  {
   "cell_type": "markdown",
   "metadata": {},
   "source": [
    "## DIY signal events from raw ZB data for training"
   ]
  },
  {
   "cell_type": "code",
   "execution_count": 11,
   "metadata": {},
   "outputs": [],
   "source": [
    "#Split raw ZB data into two halves\n",
    "#First half for DIY signal to be used in training\n",
    "#Second half kept unchanged for background to be used in training\n",
    "df_zb_sig, df_zb_bkg = train_test_split(df_zb_reduced, test_size = 0.5, random_state = 123)"
   ]
  },
  {
   "cell_type": "code",
   "execution_count": 12,
   "metadata": {},
   "outputs": [],
   "source": [
    "#DIY 'signal' events from ZB by randomly assigning high ET to one of the 252 Calo regions\n",
    "np.random.seed(0)\n",
    "region = np.random.randint(low = 0, high = 252, size = df_zb_sig.shape[0])\n",
    "ETvalue = np.random.randint(low = 20, high = 100, size = df_zb_sig.shape[0])\n",
    "for i in range(df_zb_sig.shape[0]):\n",
    "    df_zb_sig[i][region[i]][2] = ETvalue[i]"
   ]
  },
  {
   "cell_type": "code",
   "execution_count": null,
   "metadata": {
    "scrolled": true
   },
   "outputs": [],
   "source": [
    "#Visualize and compare the CaloRegion heatmaps between 'signal' (DIY from ZB) and 'background' (raw ZB)\n",
    "N = 5\n",
    "np.random.seed(0)\n",
    "sig_event_idx = np.random.randint(low = 0, high = df_zb_sig.shape[0], size = N)\n",
    "bkg_event_idx = np.random.randint(low = 0, high = df_zb_bkg.shape[0], size = N)\n",
    "sig = []\n",
    "bkg = []\n",
    "print('Signal examples:\\n')\n",
    "for i in range(N):\n",
    "    sig.append(pd.DataFrame(df_zb_sig[sig_event_idx[i]], columns = ['eta', 'phi', 'et']))\n",
    "    sig[i] = sig[i].pivot('phi', 'eta', 'et')\n",
    "    sig[i] = sig[i].sort_values('phi', ascending = False)\n",
    "    fig, ax = plt.subplots(figsize = (7,7))\n",
    "    ax = sns.heatmap(sig[i], vmin = 0, vmax = 100, annot = True, linewidths = 0.1, cmap = \"Reds\", cbar_kws={'label': 'ET (GeV)'})\n",
    "    ax.set_title('Event # in df_zb_sig: ' + str(sig_event_idx[i]))\n",
    "plt.show()\n",
    "print('Background examples:\\n')\n",
    "for i in range(N):\n",
    "    bkg.append(pd.DataFrame(df_zb_bkg[bkg_event_idx[i]], columns = ['eta','phi','et']))\n",
    "    bkg[i] = bkg[i].pivot('phi','eta','et')\n",
    "    bkg[i] = bkg[i].sort_values('phi', ascending = False)\n",
    "    fig, ax = plt.subplots(figsize = (7,7))\n",
    "    ax = sns.heatmap(bkg[i], vmin = 0, vmax = 100, annot = True, linewidths = 0.1, cmap = \"Reds\", cbar_kws={'label': 'ET (GeV)'})\n",
    "    ax.set_title('Event # in df_zb_bkg: ' + str(bkg_event_idx[i]))\n",
    "plt.show()"
   ]
  },
  {
   "cell_type": "markdown",
   "metadata": {},
   "source": [
    "## Pre-process training data"
   ]
  },
  {
   "cell_type": "code",
   "execution_count": 13,
   "metadata": {},
   "outputs": [],
   "source": [
    "#Tag signal with label 1 and background with label 0\n",
    "sig_tag = np.ones((df_zb_sig.shape[0], 1))\n",
    "bkg_tag = np.zeros((df_zb_bkg.shape[0], 1))\n",
    "\n",
    "#Combine signal and background into one training set\n",
    "X = np.concatenate((df_zb_sig, df_zb_bkg))\n",
    "Y = np.concatenate((sig_tag, bkg_tag))"
   ]
  },
  {
   "cell_type": "code",
   "execution_count": 14,
   "metadata": {},
   "outputs": [],
   "source": [
    "#Partition the whole training set into train/val/test sets\n",
    "train_ratio = 0.6\n",
    "val_ratio = 0.2\n",
    "test_ratio = 1 - train_ratio - val_ratio\n",
    "X_train_val, X_test, Y_train_val, Y_test = train_test_split(X, Y, test_size = test_ratio, random_state = 123)\n",
    "X_train, X_val, Y_train, Y_val = train_test_split(X_train_val, Y_train_val, test_size = val_ratio/(val_ratio + train_ratio), random_state = 123)"
   ]
  },
  {
   "cell_type": "code",
   "execution_count": 16,
   "metadata": {},
   "outputs": [
    {
     "name": "stdout",
     "output_type": "stream",
     "text": [
      "ET mean in train+val sets: 1.342997821131456\n",
      "ET standard deviation in train+val sets: 4.000118761331342\n"
     ]
    }
   ],
   "source": [
    "#Standardize the input features to speed up convergence\n",
    "#Here only ET for the moment\n",
    "#Mean and std computed and fixed from the train and val sets combined\n",
    "#These values need to be saved and later appled to all other events at testing/deployment\n",
    "ET_mean = X_train_val[:,:,2].mean()\n",
    "ET_std = X_train_val[:,:,2].std()\n",
    "print(\"ET mean in train+val sets: \" + str(ET_mean))\n",
    "print(\"ET standard deviation in train+val sets: \" + str(ET_std))\n",
    "\n",
    "X_train[:,:,2] = (X_train[:,:,2] - ET_mean)/ET_std\n",
    "X_val[:,:,2] = (X_val[:,:,2] - ET_mean)/ET_std\n",
    "X_test[:,:,2] = (X_test[:,:,2] - ET_mean)/ET_std"
   ]
  },
  {
   "cell_type": "code",
   "execution_count": 19,
   "metadata": {},
   "outputs": [],
   "source": [
    "#Standardize the VBFH test sample in the same way\n",
    "df_vbfh_reduced[:,:,2] = (df_vbfh_reduced[:,:,2] - ET_mean)/ET_std"
   ]
  },
  {
   "cell_type": "code",
   "execution_count": 20,
   "metadata": {},
   "outputs": [
    {
     "name": "stdout",
     "output_type": "stream",
     "text": [
      "\n",
      "Partition the data set into train/val/test: 0.60/0.20/0.20\n",
      "X_train.shape: (189460, 252, 3)\n",
      "Y_train.shape: (189460, 1)\n",
      "X_val.shape: (63154, 252, 3)\n",
      "Y_val.shape: (63154, 1)\n",
      "X_test.shape: (63154, 252, 3)\n",
      "Y_test.shape: (63154, 1)\n",
      "\n",
      "Total number of sig/bkg examples: 157884/157884 (50.00%/50.00%)\n",
      "\n",
      "Number of sig/bkg examples in each set:\n",
      "train : 94859/94601 (50.1%/49.9%)\n",
      "val   : 31545/31609 (49.9%/50.1%)\n",
      "test  : 31480/31674 (49.8%/50.2%)\n"
     ]
    }
   ],
   "source": [
    "print(\"\\nPartition the data set into train/val/test: %.2f/%.2f/%.2f\" % (train_ratio, val_ratio, test_ratio))\n",
    "print(\"X_train.shape: \" + str(X_train.shape))\n",
    "print(\"Y_train.shape: \" + str(Y_train.shape))\n",
    "print(\"X_val.shape: \" + str(X_val.shape))\n",
    "print(\"Y_val.shape: \" + str(Y_val.shape))\n",
    "print(\"X_test.shape: \" + str(X_test.shape))\n",
    "print(\"Y_test.shape: \" + str(Y_test.shape))\n",
    "\n",
    "# print ratio of signal/background examples in each set\n",
    "train_sig = np.count_nonzero(Y_train)\n",
    "train_bkg = np.count_nonzero(Y_train == 0)\n",
    "train_sig_perc = 100*train_sig/(train_sig+train_bkg)\n",
    "train_bkg_perc = 100*train_bkg/(train_sig+train_bkg)\n",
    "val_sig = np.count_nonzero(Y_val)\n",
    "val_bkg = np.count_nonzero(Y_val == 0)\n",
    "val_sig_perc = 100*val_sig/(val_sig+val_bkg)\n",
    "val_bkg_perc = 100*val_bkg/(val_sig+val_bkg)\n",
    "test_sig = np.count_nonzero(Y_test)\n",
    "test_bkg = np.count_nonzero(Y_test == 0)\n",
    "test_sig_perc = 100*test_sig/(test_sig+test_bkg)\n",
    "test_bkg_perc = 100*test_bkg/(test_sig+test_bkg)\n",
    "\n",
    "total_sig = train_sig + val_sig + test_sig\n",
    "total_bkg = train_bkg + val_bkg + test_bkg\n",
    "total_sig_perc = 100*total_sig/(total_sig+total_bkg)\n",
    "total_bkg_perc = 100*total_bkg/(total_sig+total_bkg)\n",
    "print(\"\\nTotal number of sig/bkg examples: %d/%d (%.2f%%/%.2f%%)\" % (total_sig, total_bkg, total_sig_perc, total_bkg_perc))\n",
    "\n",
    "print(\"\\nNumber of sig/bkg examples in each set:\")\n",
    "print(\"train : %d/%d (%.1f%%/%.1f%%)\" % (train_sig, train_bkg, train_sig_perc, train_bkg_perc))\n",
    "print(\"val   : %d/%d (%.1f%%/%.1f%%)\" % (val_sig, val_bkg, val_sig_perc, val_bkg_perc))\n",
    "print(\"test  : %d/%d (%.1f%%/%.1f%%)\" % (test_sig, test_bkg, test_sig_perc, test_bkg_perc))"
   ]
  },
  {
   "cell_type": "code",
   "execution_count": 22,
   "metadata": {},
   "outputs": [],
   "source": [
    "#The above inputs are numpy arrays with shape (# of events, 252 CaloRegions, 3 values (phi, eta, ET))\n",
    "#Need to re-shape the inputs to make sense with ConvNet\n",
    "#2DConvNet takes each input like a pixel image with height + width + colours, properly arranged into 3D arrays\n",
    "#Therefore our set of inputs should instead have shape (# of events, 18 phi regions, 14 eta regions, 1 ET value)\n",
    "#For the moment just keep 1 ET value, we could later add EG/Tau bits to the last dim\n",
    "\n",
    "#E.g.\n",
    "#X_train is numpy array with shape (# of events, 252 CaloRegions, 3 values (phi, eta, ET)), as shown in previous output\n",
    "#Where for each event block the '252 CaloRegions' is sorted by (...['phi', 'eta'], ascending = [False, True]...)\n",
    "#Meaning when the 2nd dim is running from 0 to 251, the (phi, eta) is running from (17, 0), (17, 1), (17, 2),..., (17, 13), (16, 0), (16, 1),..., (0, 0), (0, 1),..., (0, 13)\n",
    "\n",
    "#In the re-shaped inputs, we want the same sorting in (phi, eta) like above\n",
    "#Since this means the ConvNet would be scanning each input event like a pixel image on the 18-by-14 CaloRegion map\n",
    "#From left to right then top to bottom\n",
    "#We just need to roll each event block from 252 to 18-by-14, with the same ordering\n",
    "\n",
    "#Note here X_train_reshaped[event#][idx_0to17 means phi_17to0][idx_0to13 means eta_0to13][single ET value]\n",
    "#Note in X_train the 2nd dim [j*14+k] running from 0 to 251, with phi sorted first in descending and eta sorted second in ascending\n",
    "\n",
    "X_train_reshaped = np.zeros((X_train.shape[0], 18, 14, 1))\n",
    "for i in range(X_train_reshaped.shape[0]):\n",
    "    for j in range(18):\n",
    "        for k in range(14):\n",
    "            X_train_reshaped[i][j][k][0] = X_train[i][j*14+k][2]\n",
    "\n",
    "X_val_reshaped = np.zeros((X_val.shape[0], 18, 14, 1))\n",
    "for i in range(X_val_reshaped.shape[0]):\n",
    "    for j in range(18):\n",
    "        for k in range(14):\n",
    "            X_val_reshaped[i][j][k][0] = X_val[i][j*14+k][2]\n",
    "\n",
    "X_test_reshaped = np.zeros((X_test.shape[0], 18, 14, 1))\n",
    "for i in range(X_test_reshaped.shape[0]):\n",
    "    for j in range(18):\n",
    "        for k in range(14):\n",
    "            X_test_reshaped[i][j][k][0] = X_test[i][j*14+k][2]\n",
    "\n",
    "df_vbfh_reshaped = np.zeros((df_vbfh_reduced.shape[0], 18, 14, 1))\n",
    "for i in range(df_vbfh_reshaped.shape[0]):\n",
    "    for j in range(18):\n",
    "        for k in range(14):\n",
    "            df_vbfh_reshaped[i][j][k][0] = df_vbfh_reduced[i][j*14+k][2]"
   ]
  },
  {
   "cell_type": "code",
   "execution_count": 23,
   "metadata": {},
   "outputs": [
    {
     "name": "stdout",
     "output_type": "stream",
     "text": [
      "X_train_reshaped.shape: (189460, 18, 14, 1)\n",
      "X_val_reshaped.shape: (63154, 18, 14, 1)\n",
      "X_test_reshaped.shape: (63154, 18, 14, 1)\n",
      "df_vbfh_reshaped.shape: (1000, 18, 14, 1)\n"
     ]
    }
   ],
   "source": [
    "print(\"X_train_reshaped.shape: \" + str(X_train_reshaped.shape))\n",
    "print(\"X_val_reshaped.shape: \" + str(X_val_reshaped.shape))\n",
    "print(\"X_test_reshaped.shape: \" + str(X_test_reshaped.shape))\n",
    "print(\"df_vbfh_reshaped.shape: \" + str(df_vbfh_reshaped.shape))"
   ]
  },
  {
   "cell_type": "markdown",
   "metadata": {},
   "source": [
    "## Optimal hyperparameters searching"
   ]
  },
  {
   "cell_type": "code",
   "execution_count": null,
   "metadata": {},
   "outputs": [],
   "source": [
    "#placeholder"
   ]
  },
  {
   "cell_type": "markdown",
   "metadata": {},
   "source": [
    "## Model training"
   ]
  },
  {
   "cell_type": "code",
   "execution_count": 24,
   "metadata": {},
   "outputs": [
    {
     "name": "stdout",
     "output_type": "stream",
     "text": [
      "Model: \"sequential\"\n",
      "_________________________________________________________________\n",
      "Layer (type)                 Output Shape              Param #   \n",
      "=================================================================\n",
      "conv2d (Conv2D)              (None, 16, 12, 10)        100       \n",
      "_________________________________________________________________\n",
      "max_pooling2d (MaxPooling2D) (None, 8, 6, 10)          0         \n",
      "_________________________________________________________________\n",
      "conv2d_1 (Conv2D)            (None, 6, 4, 20)          1820      \n",
      "_________________________________________________________________\n",
      "max_pooling2d_1 (MaxPooling2 (None, 3, 2, 20)          0         \n",
      "_________________________________________________________________\n",
      "flatten (Flatten)            (None, 120)               0         \n",
      "_________________________________________________________________\n",
      "dense (Dense)                (None, 10)                1210      \n",
      "_________________________________________________________________\n",
      "dense_1 (Dense)              (None, 1)                 11        \n",
      "=================================================================\n",
      "Total params: 3,141\n",
      "Trainable params: 3,141\n",
      "Non-trainable params: 0\n",
      "_________________________________________________________________\n"
     ]
    }
   ],
   "source": [
    "model = models.Sequential()\n",
    "model.add(layers.Conv2D(10, (3, 3), activation = 'relu', input_shape = (18, 14, 1)))\n",
    "model.add(layers.MaxPooling2D((2, 2)))\n",
    "model.add(layers.Conv2D(20, (3, 3), activation = 'relu'))\n",
    "model.add(layers.MaxPooling2D((2, 2)))\n",
    "model.add(layers.Flatten())\n",
    "model.add(layers.Dense(10, activation = 'relu'))\n",
    "model.add(layers.Dense(1, activation = 'sigmoid'))\n",
    "model.summary()"
   ]
  },
  {
   "cell_type": "code",
   "execution_count": 25,
   "metadata": {},
   "outputs": [],
   "source": [
    "model.compile(optimizer = 'adam', loss = 'binary_crossentropy', metrics = ['accuracy'])"
   ]
  },
  {
   "cell_type": "code",
   "execution_count": 26,
   "metadata": {},
   "outputs": [
    {
     "name": "stdout",
     "output_type": "stream",
     "text": [
      "Train on 189460 samples, validate on 63154 samples\n",
      "Epoch 1/4\n",
      "189460/189460 [==============================] - 47s 247us/sample - loss: 0.1853 - accuracy: 0.9283 - val_loss: 0.1583 - val_accuracy: 0.9398\n",
      "Epoch 2/4\n",
      "189460/189460 [==============================] - 45s 239us/sample - loss: 0.1605 - accuracy: 0.9381 - val_loss: 0.1543 - val_accuracy: 0.9407\n",
      "Epoch 3/4\n",
      "189460/189460 [==============================] - 45s 239us/sample - loss: 0.1557 - accuracy: 0.9390 - val_loss: 0.1519 - val_accuracy: 0.9410\n",
      "Epoch 4/4\n",
      "189460/189460 [==============================] - 45s 239us/sample - loss: 0.1532 - accuracy: 0.9405 - val_loss: 0.1564 - val_accuracy: 0.9369\n"
     ]
    }
   ],
   "source": [
    "history = model.fit(X_train_reshaped, Y_train,\n",
    "                    epochs = 4,\n",
    "                    validation_data = (X_val_reshaped, Y_val),\n",
    "                    batch_size = 16)"
   ]
  },
  {
   "cell_type": "code",
   "execution_count": 27,
   "metadata": {},
   "outputs": [
    {
     "data": {
      "text/plain": [
       "Text(0, 0.5, 'Accuracy (y_pred = y_true)')"
      ]
     },
     "execution_count": 27,
     "metadata": {},
     "output_type": "execute_result"
    },
    {
     "data": {
      "image/png": "[encoded data removed]",
      "text/plain": [
       "<Figure size 1080x720 with 2 Axes>"
      ]
     },
     "metadata": {
      "needs_background": "light"
     },
     "output_type": "display_data"
    }
   ],
   "source": [
    "# plot loss vs epoch\n",
    "plt.figure(figsize = (15,10))\n",
    "axes = plt.subplot(2, 2, 1)\n",
    "axes.plot(history.history['loss'], label = 'train loss')\n",
    "axes.plot(history.history['val_loss'], label = 'val loss')\n",
    "axes.legend(loc = \"upper right\")\n",
    "axes.set_xlabel('Epoch')\n",
    "axes.set_ylabel('Loss')\n",
    "\n",
    "# plot accuracy vs epoch\n",
    "axes = plt.subplot(2, 2, 2)\n",
    "axes.plot(history.history['accuracy'], label = 'train accuracy')\n",
    "axes.plot(history.history['val_accuracy'], label = 'val accuracy')\n",
    "axes.legend(loc = \"lower right\")\n",
    "axes.set_xlabel('Epoch')\n",
    "axes.set_ylabel('Accuracy (y_pred = y_true)')"
   ]
  },
  {
   "cell_type": "markdown",
   "metadata": {},
   "source": [
    "## Evaluate the trained model with test set"
   ]
  },
  {
   "cell_type": "code",
   "execution_count": 28,
   "metadata": {},
   "outputs": [],
   "source": [
    "#Here the test set is composed of DIY signal from ZB and background from raw ZB\n",
    "test_sig_number = np.count_nonzero(Y_test)\n",
    "test_bkg_number = np.count_nonzero(Y_test == 0)\n",
    "\n",
    "X_test_sig = np.zeros((test_sig_number, 18, 14, 1))\n",
    "X_test_bkg = np.zeros((test_bkg_number, 18, 14, 1))\n",
    "\n",
    "j = 0\n",
    "k = 0\n",
    "for i in range(Y_test.shape[0]):\n",
    "    if Y_test[i,0] == 1:\n",
    "        X_test_sig[j,:,:,:] = X_test_reshaped[i,:,:,:]\n",
    "        j = j + 1\n",
    "    else:\n",
    "        X_test_bkg[k,:,:,:] = X_test_reshaped[i,:,:,:]\n",
    "        k = k + 1\n",
    "\n",
    "#Train+val set\n",
    "train_sig_number = np.count_nonzero(Y_train)\n",
    "train_bkg_number = np.count_nonzero(Y_train == 0)\n",
    "\n",
    "X_train_sig = np.zeros((train_sig_number, 18, 14, 1))\n",
    "X_train_bkg = np.zeros((train_bkg_number, 18, 14, 1))\n",
    "\n",
    "j = 0\n",
    "k = 0\n",
    "for i in range(Y_train.shape[0]):\n",
    "    if Y_train[i,0] == 1:\n",
    "        X_train_sig[j,:] = X_train_reshaped[i,:,:,:]\n",
    "        j = j + 1\n",
    "    else:\n",
    "        X_train_bkg[k,:] = X_train_reshaped[i,:,:,:]\n",
    "        k = k + 1"
   ]
  },
  {
   "cell_type": "code",
   "execution_count": 29,
   "metadata": {},
   "outputs": [
    {
     "data": {
      "image/png": "[encoded data removed]",
      "text/plain": [
       "<Figure size 432x288 with 1 Axes>"
      ]
     },
     "metadata": {
      "needs_background": "light"
     },
     "output_type": "display_data"
    },
    {
     "data": {
      "image/png": "[encoded data removed]",
      "text/plain": [
       "<Figure size 936x936 with 1 Axes>"
      ]
     },
     "metadata": {
      "needs_background": "light"
     },
     "output_type": "display_data"
    }
   ],
   "source": [
    "#pyplot.hist(model.predict(X_test_bkg), density = 1, range = (0.0, 1.0), bins = 40, alpha = 0.3, label = 'Bkg (test)')\n",
    "plt.hist(model.predict(X_test_bkg), density = 1, range = (0.0, 1.0), bins = 40, alpha = 0.3, label = 'Bkg (ZB test)', log = True)\n",
    "plt.hist(model.predict(X_test_sig), density = 1, range = (0.0, 1.0), bins = 40, alpha = 0.3, label = 'Sig (ZB test)')\n",
    "plt.hist(model.predict(X_train_bkg), density = 1, range = (0.0, 1.0), bins = 40, label = 'Bkg (ZB train)', histtype = 'step')\n",
    "plt.hist(model.predict(X_train_sig), density = 1, range = (0.0, 1.0), bins = 40, label = 'Sig (ZB train)', histtype = 'step')\n",
    "plt.legend(loc = 'upper center')\n",
    "plt.title('ConvNet output (normalized)')\n",
    "plt.xlabel('Signal probability p')\n",
    "plt.xticks(np.arange(0, 1.1, step = 0.1))\n",
    "plt.ylim(1e-2,5e1)\n",
    "plt.show()\n",
    "\n",
    "# Plot ROC\n",
    "plt.figure(figsize = (13,13))\n",
    "Y_predict = model.predict(X_test_reshaped)\n",
    "fpr, tpr, thresholds = roc_curve(Y_test, Y_predict)\n",
    "roc_auc = auc(fpr, tpr)\n",
    "axes = plt.subplot(2, 2, 1)\n",
    "axes.plot(fpr, tpr, lw = 2, color = 'red', label = 'ROC (ZB sig vs ZB bkg), AUC = %.3f' % (roc_auc))\n",
    "#axes.plot([0, 1], [0, 1], linestyle = '--', lw = 2, color = 'black', label = 'random chance')\n",
    "axes.plot([0.003, 0.003], [0, 1], linestyle = '--', lw = 2, color = 'black', label = 'Max tolerable fake rate ~ 0.003 (ZB->L1T rate)')\n",
    "axes.set_xlim([0.0001, 1.0])\n",
    "axes.set_ylim([0, 1.0])\n",
    "axes.set_xscale(value = \"log\")\n",
    "axes.set_xlabel('Fake signal rate (FPR)')\n",
    "axes.set_ylabel('True signal rate (TPR)')\n",
    "axes.set_title('Receiver operating characteristic (ROC)')\n",
    "axes.legend(loc = \"lower right\")\n",
    "plt.show()\n",
    "\n",
    "#results = model.evaluate(X_test_reshaped, Y_test, verbose = 0, batch_size = 1024)\n",
    "#print(\"Test loss, test accuracy:\", results)"
   ]
  },
  {
   "cell_type": "code",
   "execution_count": 30,
   "metadata": {},
   "outputs": [],
   "source": [
    "#Now evaluate with the VBFH sample which was not used in training at all\n",
    "#Mix the VBFH with ZB background to form new test set\n",
    "Y_vbfh = np.ones((1000,1))\n",
    "Y_test_bkg = np.zeros((X_test_bkg.shape[0], 1))\n",
    "Y_mixed = np.concatenate((Y_vbfh,Y_test_bkg))\n",
    "X_mixed = np.concatenate((df_vbfh_reshaped, X_test_bkg))"
   ]
  },
  {
   "cell_type": "code",
   "execution_count": 31,
   "metadata": {},
   "outputs": [
    {
     "data": {
      "image/png": "[encoded data removed]",
      "text/plain": [
       "<Figure size 432x288 with 1 Axes>"
      ]
     },
     "metadata": {
      "needs_background": "light"
     },
     "output_type": "display_data"
    },
    {
     "data": {
      "image/png": "[encoded data removed]",
      "text/plain": [
       "<Figure size 936x936 with 1 Axes>"
      ]
     },
     "metadata": {
      "needs_background": "light"
     },
     "output_type": "display_data"
    },
    {
     "name": "stdout",
     "output_type": "stream",
     "text": [
      "Test loss, test accuracy on VBFH: [0.1822497844696045, 0.948]\n"
     ]
    }
   ],
   "source": [
    "#pyplot.hist(model.predict(X_test_bkg), density = 1, range = (0.0, 1.0), bins = 40, alpha = 0.3, label = 'Bkg (test)')\n",
    "plt.hist(model.predict(df_vbfh_reshaped), density = 1, range = (0.0, 1.0), bins = 40, alpha = 0.3, label = 'VBFH->bb', log = True)\n",
    "plt.hist(model.predict(X_train_bkg), density = 1, range = (0.0, 1.0), bins = 40, label = 'Bkg (ZB train)', histtype = 'step')\n",
    "plt.hist(model.predict(X_train_sig), density = 1, range = (0.0, 1.0), bins = 40, label = 'Sig (ZB train)', histtype = 'step')\n",
    "plt.legend(loc = 'upper center')\n",
    "plt.title('ConvNet output (normalized)')\n",
    "plt.xlabel('Signal probability p')\n",
    "plt.xticks(np.arange(0, 1.1, step = 0.1))\n",
    "plt.ylim(1e-2,5e1)\n",
    "plt.show()\n",
    "\n",
    "# Plot ROC\n",
    "plt.figure(figsize = (13,13))\n",
    "Y_mixed_predict = model.predict(X_mixed)\n",
    "fpr, tpr, thresholds = roc_curve(Y_mixed, Y_mixed_predict)\n",
    "roc_auc = auc(fpr, tpr)\n",
    "axes = plt.subplot(2, 2, 1)\n",
    "axes.plot(fpr, tpr, lw = 2, color = 'red', label = 'ROC (VBFH sig vs ZB bkg), AUC = %.3f' % (roc_auc))\n",
    "#axes.plot([0, 1], [0, 1], linestyle = '--', lw = 2, color = 'black', label = 'random chance')\n",
    "axes.plot([0.003, 0.003], [0, 1], linestyle = '--', lw = 2, color = 'black', label = 'Max tolerable fake rate ~ 0.003 (ZB->L1T rate)')\n",
    "axes.set_xlim([0.0001, 1.0])\n",
    "axes.set_ylim([0, 1.0])\n",
    "axes.set_xscale(value = \"log\")\n",
    "axes.set_xlabel('Fake signal rate (FPR)')\n",
    "axes.set_ylabel('True signal rate (TPR)')\n",
    "axes.set_title('Receiver operating characteristic (ROC)')\n",
    "axes.legend(loc = \"lower right\")\n",
    "plt.show()\n",
    "\n",
    "results_vbfh = model.evaluate(df_vbfh_reshaped, Y_vbfh, verbose = 0, batch_size = 1024)\n",
    "print(\"Test loss, test accuracy on VBFH:\", results_vbfh)"
   ]
  },
  {
   "cell_type": "markdown",
   "metadata": {},
   "source": [
    "## Save trained model"
   ]
  },
  {
   "cell_type": "code",
   "execution_count": null,
   "metadata": {},
   "outputs": [],
   "source": [
    "#Baby model as a benchmark\n",
    "!rm -r benchmark/*\n",
    "joblib.dump(value = np.array([ET_mean, ET_std]), filename = 'benchmark/CNN_ET_scaler.gz')#for standardizing input features\n",
    "model.save('benchmark/CNN_trained')"
   ]
  },
  {
   "cell_type": "markdown",
   "metadata": {},
   "source": [
    "## Load saved model for production"
   ]
  },
  {
   "cell_type": "code",
   "execution_count": null,
   "metadata": {},
   "outputs": [],
   "source": [
    "savedscaler = joblib.load('benchmark/CNN_ET_scaler.gz')\n",
    "savedmodel = keras.models.load_model('benchmark/CNN_trained')\n",
    "savedmodel.summary()"
   ]
  },
  {
   "cell_type": "code",
   "execution_count": null,
   "metadata": {},
   "outputs": [],
   "source": []
  }
 ],
 "metadata": {
  "kernelspec": {
   "display_name": "Python 3",
   "language": "python",
   "name": "python3"
  },
  "language_info": {
   "codemirror_mode": {
    "name": "ipython",
    "version": 3
   },
   "file_extension": ".py",
   "mimetype": "text/x-python",
   "name": "python",
   "nbconvert_exporter": "python",
   "pygments_lexer": "ipython3",
   "version": "3.7.11"
  }
 },
 "nbformat": 4,
 "nbformat_minor": 4
}
