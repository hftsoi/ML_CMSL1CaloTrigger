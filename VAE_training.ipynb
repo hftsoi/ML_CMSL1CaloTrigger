{
 "cells": [
  {
   "cell_type": "markdown",
   "metadata": {},
   "source": [
    "# Training Convolutional Variational Autoencoder for Anamoly Detection at L1Trigger"
   ]
  },
  {
   "cell_type": "markdown",
   "metadata": {},
   "source": [
    "## Packages"
   ]
  },
  {
   "cell_type": "code",
   "execution_count": 1,
   "metadata": {},
   "outputs": [
    {
     "name": "stderr",
     "output_type": "stream",
     "text": [
      "Using TensorFlow backend.\n"
     ]
    }
   ],
   "source": [
    "import numpy as np\n",
    "import pandas as pd\n",
    "import tensorflow as tf\n",
    "import matplotlib.pyplot as plt\n",
    "import seaborn as sns\n",
    "from sklearn.model_selection import train_test_split\n",
    "from sklearn.preprocessing import StandardScaler\n",
    "from tensorflow import keras\n",
    "from tensorflow.keras import layers, models\n",
    "from keras.initializers import glorot_uniform\n",
    "from sklearn.metrics import roc_curve, auc\n",
    "\n",
    "import keras_tuner\n",
    "from keras_tuner import Hyperband\n",
    "\n",
    "import joblib"
   ]
  },
  {
   "cell_type": "code",
   "execution_count": 2,
   "metadata": {},
   "outputs": [
    {
     "data": {
      "text/html": [
       "<div>\n",
       "<style scoped>\n",
       "    .dataframe tbody tr th:only-of-type {\n",
       "        vertical-align: middle;\n",
       "    }\n",
       "\n",
       "    .dataframe tbody tr th {\n",
       "        vertical-align: top;\n",
       "    }\n",
       "\n",
       "    .dataframe thead th {\n",
       "        text-align: right;\n",
       "    }\n",
       "</style>\n",
       "<table border=\"1\" class=\"dataframe\">\n",
       "  <thead>\n",
       "    <tr style=\"text-align: right;\">\n",
       "      <th></th>\n",
       "      <th>event</th>\n",
       "      <th>eta</th>\n",
       "      <th>phi</th>\n",
       "      <th>et</th>\n",
       "      <th>position</th>\n",
       "      <th>electron</th>\n",
       "      <th>tau</th>\n",
       "    </tr>\n",
       "  </thead>\n",
       "  <tbody>\n",
       "    <tr>\n",
       "      <th>0</th>\n",
       "      <td>0</td>\n",
       "      <td>6</td>\n",
       "      <td>3</td>\n",
       "      <td>0</td>\n",
       "      <td>0</td>\n",
       "      <td>1</td>\n",
       "      <td>1</td>\n",
       "    </tr>\n",
       "    <tr>\n",
       "      <th>1</th>\n",
       "      <td>0</td>\n",
       "      <td>7</td>\n",
       "      <td>3</td>\n",
       "      <td>1</td>\n",
       "      <td>0</td>\n",
       "      <td>1</td>\n",
       "      <td>1</td>\n",
       "    </tr>\n",
       "    <tr>\n",
       "      <th>2</th>\n",
       "      <td>0</td>\n",
       "      <td>5</td>\n",
       "      <td>3</td>\n",
       "      <td>0</td>\n",
       "      <td>0</td>\n",
       "      <td>1</td>\n",
       "      <td>1</td>\n",
       "    </tr>\n",
       "    <tr>\n",
       "      <th>3</th>\n",
       "      <td>0</td>\n",
       "      <td>8</td>\n",
       "      <td>3</td>\n",
       "      <td>0</td>\n",
       "      <td>0</td>\n",
       "      <td>1</td>\n",
       "      <td>1</td>\n",
       "    </tr>\n",
       "    <tr>\n",
       "      <th>4</th>\n",
       "      <td>0</td>\n",
       "      <td>4</td>\n",
       "      <td>3</td>\n",
       "      <td>0</td>\n",
       "      <td>0</td>\n",
       "      <td>1</td>\n",
       "      <td>1</td>\n",
       "    </tr>\n",
       "    <tr>\n",
       "      <th>...</th>\n",
       "      <td>...</td>\n",
       "      <td>...</td>\n",
       "      <td>...</td>\n",
       "      <td>...</td>\n",
       "      <td>...</td>\n",
       "      <td>...</td>\n",
       "      <td>...</td>\n",
       "    </tr>\n",
       "    <tr>\n",
       "      <th>79573531</th>\n",
       "      <td>315767</td>\n",
       "      <td>11</td>\n",
       "      <td>14</td>\n",
       "      <td>0</td>\n",
       "      <td>0</td>\n",
       "      <td>1</td>\n",
       "      <td>1</td>\n",
       "    </tr>\n",
       "    <tr>\n",
       "      <th>79573532</th>\n",
       "      <td>315767</td>\n",
       "      <td>1</td>\n",
       "      <td>14</td>\n",
       "      <td>0</td>\n",
       "      <td>0</td>\n",
       "      <td>1</td>\n",
       "      <td>1</td>\n",
       "    </tr>\n",
       "    <tr>\n",
       "      <th>79573533</th>\n",
       "      <td>315767</td>\n",
       "      <td>12</td>\n",
       "      <td>14</td>\n",
       "      <td>0</td>\n",
       "      <td>0</td>\n",
       "      <td>1</td>\n",
       "      <td>1</td>\n",
       "    </tr>\n",
       "    <tr>\n",
       "      <th>79573534</th>\n",
       "      <td>315767</td>\n",
       "      <td>0</td>\n",
       "      <td>14</td>\n",
       "      <td>0</td>\n",
       "      <td>0</td>\n",
       "      <td>1</td>\n",
       "      <td>1</td>\n",
       "    </tr>\n",
       "    <tr>\n",
       "      <th>79573535</th>\n",
       "      <td>315767</td>\n",
       "      <td>13</td>\n",
       "      <td>14</td>\n",
       "      <td>0</td>\n",
       "      <td>0</td>\n",
       "      <td>1</td>\n",
       "      <td>1</td>\n",
       "    </tr>\n",
       "  </tbody>\n",
       "</table>\n",
       "<p>79573536 rows × 7 columns</p>\n",
       "</div>"
      ],
      "text/plain": [
       "           event  eta  phi  et  position  electron  tau\n",
       "0              0    6    3   0         0         1    1\n",
       "1              0    7    3   1         0         1    1\n",
       "2              0    5    3   0         0         1    1\n",
       "3              0    8    3   0         0         1    1\n",
       "4              0    4    3   0         0         1    1\n",
       "...          ...  ...  ...  ..       ...       ...  ...\n",
       "79573531  315767   11   14   0         0         1    1\n",
       "79573532  315767    1   14   0         0         1    1\n",
       "79573533  315767   12   14   0         0         1    1\n",
       "79573534  315767    0   14   0         0         1    1\n",
       "79573535  315767   13   14   0         0         1    1\n",
       "\n",
       "[79573536 rows x 7 columns]"
      ]
     },
     "execution_count": 2,
     "metadata": {},
     "output_type": "execute_result"
    }
   ],
   "source": [
    "#ZeroBias data for training\n",
    "df_zb = pd.read_csv('L1TRegionDump.csv')\n",
    "df_zb"
   ]
  },
  {
   "cell_type": "code",
   "execution_count": 3,
   "metadata": {},
   "outputs": [
    {
     "data": {
      "text/html": [
       "<div>\n",
       "<style scoped>\n",
       "    .dataframe tbody tr th:only-of-type {\n",
       "        vertical-align: middle;\n",
       "    }\n",
       "\n",
       "    .dataframe tbody tr th {\n",
       "        vertical-align: top;\n",
       "    }\n",
       "\n",
       "    .dataframe thead th {\n",
       "        text-align: right;\n",
       "    }\n",
       "</style>\n",
       "<table border=\"1\" class=\"dataframe\">\n",
       "  <thead>\n",
       "    <tr style=\"text-align: right;\">\n",
       "      <th></th>\n",
       "      <th>event</th>\n",
       "      <th>eta</th>\n",
       "      <th>phi</th>\n",
       "      <th>et</th>\n",
       "      <th>position</th>\n",
       "      <th>electron</th>\n",
       "      <th>tau</th>\n",
       "    </tr>\n",
       "  </thead>\n",
       "  <tbody>\n",
       "    <tr>\n",
       "      <th>124</th>\n",
       "      <td>0</td>\n",
       "      <td>0</td>\n",
       "      <td>17</td>\n",
       "      <td>7</td>\n",
       "      <td>10</td>\n",
       "      <td>0</td>\n",
       "      <td>0</td>\n",
       "    </tr>\n",
       "    <tr>\n",
       "      <th>122</th>\n",
       "      <td>0</td>\n",
       "      <td>1</td>\n",
       "      <td>17</td>\n",
       "      <td>0</td>\n",
       "      <td>0</td>\n",
       "      <td>1</td>\n",
       "      <td>1</td>\n",
       "    </tr>\n",
       "    <tr>\n",
       "      <th>120</th>\n",
       "      <td>0</td>\n",
       "      <td>2</td>\n",
       "      <td>17</td>\n",
       "      <td>0</td>\n",
       "      <td>0</td>\n",
       "      <td>1</td>\n",
       "      <td>1</td>\n",
       "    </tr>\n",
       "    <tr>\n",
       "      <th>118</th>\n",
       "      <td>0</td>\n",
       "      <td>3</td>\n",
       "      <td>17</td>\n",
       "      <td>1</td>\n",
       "      <td>15</td>\n",
       "      <td>1</td>\n",
       "      <td>1</td>\n",
       "    </tr>\n",
       "    <tr>\n",
       "      <th>116</th>\n",
       "      <td>0</td>\n",
       "      <td>4</td>\n",
       "      <td>17</td>\n",
       "      <td>1</td>\n",
       "      <td>13</td>\n",
       "      <td>1</td>\n",
       "      <td>1</td>\n",
       "    </tr>\n",
       "    <tr>\n",
       "      <th>...</th>\n",
       "      <td>...</td>\n",
       "      <td>...</td>\n",
       "      <td>...</td>\n",
       "      <td>...</td>\n",
       "      <td>...</td>\n",
       "      <td>...</td>\n",
       "      <td>...</td>\n",
       "    </tr>\n",
       "    <tr>\n",
       "      <th>79573415</th>\n",
       "      <td>315767</td>\n",
       "      <td>9</td>\n",
       "      <td>0</td>\n",
       "      <td>0</td>\n",
       "      <td>0</td>\n",
       "      <td>1</td>\n",
       "      <td>1</td>\n",
       "    </tr>\n",
       "    <tr>\n",
       "      <th>79573417</th>\n",
       "      <td>315767</td>\n",
       "      <td>10</td>\n",
       "      <td>0</td>\n",
       "      <td>0</td>\n",
       "      <td>0</td>\n",
       "      <td>1</td>\n",
       "      <td>1</td>\n",
       "    </tr>\n",
       "    <tr>\n",
       "      <th>79573419</th>\n",
       "      <td>315767</td>\n",
       "      <td>11</td>\n",
       "      <td>0</td>\n",
       "      <td>0</td>\n",
       "      <td>0</td>\n",
       "      <td>1</td>\n",
       "      <td>1</td>\n",
       "    </tr>\n",
       "    <tr>\n",
       "      <th>79573421</th>\n",
       "      <td>315767</td>\n",
       "      <td>12</td>\n",
       "      <td>0</td>\n",
       "      <td>0</td>\n",
       "      <td>0</td>\n",
       "      <td>1</td>\n",
       "      <td>1</td>\n",
       "    </tr>\n",
       "    <tr>\n",
       "      <th>79573423</th>\n",
       "      <td>315767</td>\n",
       "      <td>13</td>\n",
       "      <td>0</td>\n",
       "      <td>0</td>\n",
       "      <td>0</td>\n",
       "      <td>1</td>\n",
       "      <td>1</td>\n",
       "    </tr>\n",
       "  </tbody>\n",
       "</table>\n",
       "<p>79573536 rows × 7 columns</p>\n",
       "</div>"
      ],
      "text/plain": [
       "           event  eta  phi  et  position  electron  tau\n",
       "124            0    0   17   7        10         0    0\n",
       "122            0    1   17   0         0         1    1\n",
       "120            0    2   17   0         0         1    1\n",
       "118            0    3   17   1        15         1    1\n",
       "116            0    4   17   1        13         1    1\n",
       "...          ...  ...  ...  ..       ...       ...  ...\n",
       "79573415  315767    9    0   0         0         1    1\n",
       "79573417  315767   10    0   0         0         1    1\n",
       "79573419  315767   11    0   0         0         1    1\n",
       "79573421  315767   12    0   0         0         1    1\n",
       "79573423  315767   13    0   0         0         1    1\n",
       "\n",
       "[79573536 rows x 7 columns]"
      ]
     },
     "execution_count": 3,
     "metadata": {},
     "output_type": "execute_result"
    }
   ],
   "source": [
    "#Original ZB data is sorted by event # only, where eta and phi are not sorted properly\n",
    "#Re-sort here for easier 2D plotting and data pre-processing later\n",
    "#e.g. in each event block (252 rows), rank phi first from 17 to 0, then for each phi value rank eta from 0 to 13\n",
    "df_zb = df_zb.sort_values(by = ['event', 'phi', 'eta'], ascending = [True, False, True])\n",
    "df_zb"
   ]
  },
  {
   "cell_type": "code",
   "execution_count": 4,
   "metadata": {},
   "outputs": [
    {
     "data": {
      "text/html": [
       "<div>\n",
       "<style scoped>\n",
       "    .dataframe tbody tr th:only-of-type {\n",
       "        vertical-align: middle;\n",
       "    }\n",
       "\n",
       "    .dataframe tbody tr th {\n",
       "        vertical-align: top;\n",
       "    }\n",
       "\n",
       "    .dataframe thead th {\n",
       "        text-align: right;\n",
       "    }\n",
       "</style>\n",
       "<table border=\"1\" class=\"dataframe\">\n",
       "  <thead>\n",
       "    <tr style=\"text-align: right;\">\n",
       "      <th></th>\n",
       "      <th>eta</th>\n",
       "      <th>phi</th>\n",
       "      <th>et</th>\n",
       "      <th>position</th>\n",
       "      <th>electron</th>\n",
       "      <th>tau</th>\n",
       "    </tr>\n",
       "  </thead>\n",
       "  <tbody>\n",
       "    <tr>\n",
       "      <th>0</th>\n",
       "      <td>0</td>\n",
       "      <td>0</td>\n",
       "      <td>14</td>\n",
       "      <td>1</td>\n",
       "      <td>0</td>\n",
       "      <td>1</td>\n",
       "    </tr>\n",
       "    <tr>\n",
       "      <th>1</th>\n",
       "      <td>0</td>\n",
       "      <td>1</td>\n",
       "      <td>14</td>\n",
       "      <td>0</td>\n",
       "      <td>0</td>\n",
       "      <td>1</td>\n",
       "    </tr>\n",
       "    <tr>\n",
       "      <th>2</th>\n",
       "      <td>0</td>\n",
       "      <td>2</td>\n",
       "      <td>14</td>\n",
       "      <td>0</td>\n",
       "      <td>0</td>\n",
       "      <td>1</td>\n",
       "    </tr>\n",
       "    <tr>\n",
       "      <th>3</th>\n",
       "      <td>0</td>\n",
       "      <td>3</td>\n",
       "      <td>14</td>\n",
       "      <td>0</td>\n",
       "      <td>0</td>\n",
       "      <td>1</td>\n",
       "    </tr>\n",
       "    <tr>\n",
       "      <th>4</th>\n",
       "      <td>0</td>\n",
       "      <td>4</td>\n",
       "      <td>14</td>\n",
       "      <td>1</td>\n",
       "      <td>1</td>\n",
       "      <td>1</td>\n",
       "    </tr>\n",
       "    <tr>\n",
       "      <th>...</th>\n",
       "      <td>...</td>\n",
       "      <td>...</td>\n",
       "      <td>...</td>\n",
       "      <td>...</td>\n",
       "      <td>...</td>\n",
       "      <td>...</td>\n",
       "    </tr>\n",
       "    <tr>\n",
       "      <th>251995</th>\n",
       "      <td>13</td>\n",
       "      <td>13</td>\n",
       "      <td>0</td>\n",
       "      <td>0</td>\n",
       "      <td>0</td>\n",
       "      <td>0</td>\n",
       "    </tr>\n",
       "    <tr>\n",
       "      <th>251996</th>\n",
       "      <td>13</td>\n",
       "      <td>14</td>\n",
       "      <td>1</td>\n",
       "      <td>11</td>\n",
       "      <td>1</td>\n",
       "      <td>1</td>\n",
       "    </tr>\n",
       "    <tr>\n",
       "      <th>251997</th>\n",
       "      <td>13</td>\n",
       "      <td>15</td>\n",
       "      <td>0</td>\n",
       "      <td>0</td>\n",
       "      <td>0</td>\n",
       "      <td>1</td>\n",
       "    </tr>\n",
       "    <tr>\n",
       "      <th>251998</th>\n",
       "      <td>13</td>\n",
       "      <td>16</td>\n",
       "      <td>0</td>\n",
       "      <td>15</td>\n",
       "      <td>1</td>\n",
       "      <td>1</td>\n",
       "    </tr>\n",
       "    <tr>\n",
       "      <th>251999</th>\n",
       "      <td>13</td>\n",
       "      <td>17</td>\n",
       "      <td>0</td>\n",
       "      <td>0</td>\n",
       "      <td>0</td>\n",
       "      <td>0</td>\n",
       "    </tr>\n",
       "  </tbody>\n",
       "</table>\n",
       "<p>252000 rows × 6 columns</p>\n",
       "</div>"
      ],
      "text/plain": [
       "        eta  phi  et  position  electron  tau\n",
       "0         0    0  14         1         0    1\n",
       "1         0    1  14         0         0    1\n",
       "2         0    2  14         0         0    1\n",
       "3         0    3  14         0         0    1\n",
       "4         0    4  14         1         1    1\n",
       "...     ...  ...  ..       ...       ...  ...\n",
       "251995   13   13   0         0         0    0\n",
       "251996   13   14   1        11         1    1\n",
       "251997   13   15   0         0         0    1\n",
       "251998   13   16   0        15         1    1\n",
       "251999   13   17   0         0         0    0\n",
       "\n",
       "[252000 rows x 6 columns]"
      ]
     },
     "execution_count": 4,
     "metadata": {},
     "output_type": "execute_result"
    }
   ],
   "source": [
    "#Simulated VBFH->bb signal for test inference only (not to be used in training)\n",
    "df_vbfh = pd.read_csv('cms-vbfh.csv')\n",
    "df_vbfh"
   ]
  },
  {
   "cell_type": "code",
   "execution_count": 5,
   "metadata": {},
   "outputs": [
    {
     "data": {
      "text/html": [
       "<div>\n",
       "<style scoped>\n",
       "    .dataframe tbody tr th:only-of-type {\n",
       "        vertical-align: middle;\n",
       "    }\n",
       "\n",
       "    .dataframe tbody tr th {\n",
       "        vertical-align: top;\n",
       "    }\n",
       "\n",
       "    .dataframe thead th {\n",
       "        text-align: right;\n",
       "    }\n",
       "</style>\n",
       "<table border=\"1\" class=\"dataframe\">\n",
       "  <thead>\n",
       "    <tr style=\"text-align: right;\">\n",
       "      <th></th>\n",
       "      <th>eta</th>\n",
       "      <th>phi</th>\n",
       "      <th>et</th>\n",
       "      <th>position</th>\n",
       "      <th>electron</th>\n",
       "      <th>tau</th>\n",
       "      <th>event</th>\n",
       "    </tr>\n",
       "  </thead>\n",
       "  <tbody>\n",
       "    <tr>\n",
       "      <th>17</th>\n",
       "      <td>0</td>\n",
       "      <td>17</td>\n",
       "      <td>0</td>\n",
       "      <td>0</td>\n",
       "      <td>0</td>\n",
       "      <td>0</td>\n",
       "      <td>0</td>\n",
       "    </tr>\n",
       "    <tr>\n",
       "      <th>35</th>\n",
       "      <td>1</td>\n",
       "      <td>17</td>\n",
       "      <td>0</td>\n",
       "      <td>0</td>\n",
       "      <td>0</td>\n",
       "      <td>0</td>\n",
       "      <td>0</td>\n",
       "    </tr>\n",
       "    <tr>\n",
       "      <th>53</th>\n",
       "      <td>2</td>\n",
       "      <td>17</td>\n",
       "      <td>0</td>\n",
       "      <td>0</td>\n",
       "      <td>0</td>\n",
       "      <td>0</td>\n",
       "      <td>0</td>\n",
       "    </tr>\n",
       "    <tr>\n",
       "      <th>71</th>\n",
       "      <td>3</td>\n",
       "      <td>17</td>\n",
       "      <td>0</td>\n",
       "      <td>0</td>\n",
       "      <td>0</td>\n",
       "      <td>0</td>\n",
       "      <td>0</td>\n",
       "    </tr>\n",
       "    <tr>\n",
       "      <th>89</th>\n",
       "      <td>4</td>\n",
       "      <td>17</td>\n",
       "      <td>4</td>\n",
       "      <td>15</td>\n",
       "      <td>1</td>\n",
       "      <td>1</td>\n",
       "      <td>0</td>\n",
       "    </tr>\n",
       "    <tr>\n",
       "      <th>...</th>\n",
       "      <td>...</td>\n",
       "      <td>...</td>\n",
       "      <td>...</td>\n",
       "      <td>...</td>\n",
       "      <td>...</td>\n",
       "      <td>...</td>\n",
       "      <td>...</td>\n",
       "    </tr>\n",
       "    <tr>\n",
       "      <th>251910</th>\n",
       "      <td>9</td>\n",
       "      <td>0</td>\n",
       "      <td>0</td>\n",
       "      <td>0</td>\n",
       "      <td>0</td>\n",
       "      <td>0</td>\n",
       "      <td>999</td>\n",
       "    </tr>\n",
       "    <tr>\n",
       "      <th>251928</th>\n",
       "      <td>10</td>\n",
       "      <td>0</td>\n",
       "      <td>0</td>\n",
       "      <td>0</td>\n",
       "      <td>0</td>\n",
       "      <td>0</td>\n",
       "      <td>999</td>\n",
       "    </tr>\n",
       "    <tr>\n",
       "      <th>251946</th>\n",
       "      <td>11</td>\n",
       "      <td>0</td>\n",
       "      <td>0</td>\n",
       "      <td>0</td>\n",
       "      <td>0</td>\n",
       "      <td>0</td>\n",
       "      <td>999</td>\n",
       "    </tr>\n",
       "    <tr>\n",
       "      <th>251964</th>\n",
       "      <td>12</td>\n",
       "      <td>0</td>\n",
       "      <td>0</td>\n",
       "      <td>0</td>\n",
       "      <td>0</td>\n",
       "      <td>0</td>\n",
       "      <td>999</td>\n",
       "    </tr>\n",
       "    <tr>\n",
       "      <th>251982</th>\n",
       "      <td>13</td>\n",
       "      <td>0</td>\n",
       "      <td>0</td>\n",
       "      <td>0</td>\n",
       "      <td>0</td>\n",
       "      <td>0</td>\n",
       "      <td>999</td>\n",
       "    </tr>\n",
       "  </tbody>\n",
       "</table>\n",
       "<p>252000 rows × 7 columns</p>\n",
       "</div>"
      ],
      "text/plain": [
       "        eta  phi  et  position  electron  tau  event\n",
       "17        0   17   0         0         0    0      0\n",
       "35        1   17   0         0         0    0      0\n",
       "53        2   17   0         0         0    0      0\n",
       "71        3   17   0         0         0    0      0\n",
       "89        4   17   4        15         1    1      0\n",
       "...     ...  ...  ..       ...       ...  ...    ...\n",
       "251910    9    0   0         0         0    0    999\n",
       "251928   10    0   0         0         0    0    999\n",
       "251946   11    0   0         0         0    0    999\n",
       "251964   12    0   0         0         0    0    999\n",
       "251982   13    0   0         0         0    0    999\n",
       "\n",
       "[252000 rows x 7 columns]"
      ]
     },
     "execution_count": 5,
     "metadata": {},
     "output_type": "execute_result"
    }
   ],
   "source": [
    "#VBFH csv file has the column 'event' missing\n",
    "#Make one here and then sort the same way as above\n",
    "vbfh_event_col = []\n",
    "for i in range(round(df_vbfh.shape[0]/252)):\n",
    "    for j in range(252):\n",
    "        vbfh_event_col.append(i)\n",
    "\n",
    "df_vbfh['event'] = vbfh_event_col\n",
    "df_vbfh = df_vbfh.sort_values(by = ['event', 'phi', 'eta'], ascending = [True, False, True])\n",
    "df_vbfh"
   ]
  },
  {
   "cell_type": "code",
   "execution_count": 6,
   "metadata": {},
   "outputs": [],
   "source": [
    "#Keep only (eta, phi, ET) as inputs for the moment\n",
    "df_zb_reduced = df_zb.drop(columns = ['event', 'position', 'electron', 'tau'])\n",
    "df_vbfh_reduced = df_vbfh.drop(columns = ['event', 'position', 'electron', 'tau'])\n",
    "\n",
    "#Convert pandas dataframes to numpy arrays for easier manipulation\n",
    "#Array shape: # of events, # of Calo regions, (eta, phi, ET)\n",
    "df_zb_reduced = df_zb_reduced.to_numpy().reshape(round(df_zb.shape[0]/252), 252, 3)\n",
    "df_vbfh_reduced = df_vbfh_reduced.to_numpy().reshape(round(df_vbfh.shape[0]/252), 252, 3)\n",
    "\n",
    "df_zb_reduced = df_zb_reduced.astype(dtype = 'float64')\n",
    "df_vbfh_reduced = df_vbfh_reduced.astype(dtype = 'float64')"
   ]
  },
  {
   "cell_type": "code",
   "execution_count": 7,
   "metadata": {},
   "outputs": [],
   "source": [
    "#Partition the whole training set into train/val/test sets\n",
    "X = df_zb_reduced\n",
    "\n",
    "train_ratio = 0.3\n",
    "val_ratio = 0.2\n",
    "test_ratio = 1 - train_ratio - val_ratio\n",
    "X_train_val, X_test = train_test_split(X, test_size = test_ratio, random_state = 123)\n",
    "X_train, X_val = train_test_split(X_train_val, test_size = val_ratio/(val_ratio + train_ratio), random_state = 123)"
   ]
  },
  {
   "cell_type": "code",
   "execution_count": 8,
   "metadata": {},
   "outputs": [],
   "source": [
    "X_train[:,:,2] = X_train[:,:,2]/X_train[:,:,2].max()\n",
    "X_val[:,:,2] = X_val[:,:,2]/X_val[:,:,2].max()\n",
    "X_test[:,:,2] = X_test[:,:,2]/X_test[:,:,2].max()"
   ]
  },
  {
   "cell_type": "code",
   "execution_count": 9,
   "metadata": {},
   "outputs": [],
   "source": [
    "df_vbfh_reduced[:,:,2] = df_vbfh_reduced[:,:,2]/df_vbfh_reduced[:,:,2].max()"
   ]
  },
  {
   "cell_type": "code",
   "execution_count": 10,
   "metadata": {},
   "outputs": [
    {
     "data": {
      "image/png": "[encoded data removed]",
      "text/plain": [
       "<Figure size 1080x720 with 1 Axes>"
      ]
     },
     "metadata": {
      "needs_background": "light"
     },
     "output_type": "display_data"
    }
   ],
   "source": [
    "plt.figure(figsize=(15, 10))\n",
    "\n",
    "ax = plt.subplot(2, 2, 1)\n",
    "plt.imshow(X_train[35,:,2].reshape(18, 14), cmap = 'Reds')\n",
    "ax.get_xaxis().set_visible(False)\n",
    "ax.get_yaxis().set_visible(False)\n",
    "\n",
    "plt.show()"
   ]
  },
  {
   "cell_type": "code",
   "execution_count": 11,
   "metadata": {},
   "outputs": [],
   "source": [
    "X_train_reshaped = np.zeros((X_train.shape[0], 18, 14, 1))\n",
    "for i in range(X_train_reshaped.shape[0]):\n",
    "    for j in range(18):\n",
    "        for k in range(14):\n",
    "            X_train_reshaped[i][j][k][0] = X_train[i][j*14+k][2]\n",
    "\n",
    "X_val_reshaped = np.zeros((X_val.shape[0], 18, 14, 1))\n",
    "for i in range(X_val_reshaped.shape[0]):\n",
    "    for j in range(18):\n",
    "        for k in range(14):\n",
    "            X_val_reshaped[i][j][k][0] = X_val[i][j*14+k][2]\n",
    "\n",
    "X_test_reshaped = np.zeros((X_test.shape[0], 18, 14, 1))\n",
    "for i in range(X_test_reshaped.shape[0]):\n",
    "    for j in range(18):\n",
    "        for k in range(14):\n",
    "            X_test_reshaped[i][j][k][0] = X_test[i][j*14+k][2]\n",
    "\n",
    "df_vbfh_reshaped = np.zeros((df_vbfh_reduced.shape[0], 18, 14, 1))\n",
    "for i in range(df_vbfh_reshaped.shape[0]):\n",
    "    for j in range(18):\n",
    "        for k in range(14):\n",
    "            df_vbfh_reshaped[i][j][k][0] = df_vbfh_reduced[i][j*14+k][2]"
   ]
  },
  {
   "cell_type": "code",
   "execution_count": 12,
   "metadata": {},
   "outputs": [
    {
     "data": {
      "image/png": "[encoded data removed]",
      "text/plain": [
       "<Figure size 1080x720 with 1 Axes>"
      ]
     },
     "metadata": {
      "needs_background": "light"
     },
     "output_type": "display_data"
    }
   ],
   "source": [
    "plt.figure(figsize=(15, 10))\n",
    "\n",
    "ax = plt.subplot(2, 2, 1)\n",
    "plt.imshow(X_train_reshaped[35,:,:,0].reshape(18, 14), cmap = 'Reds')\n",
    "ax.get_xaxis().set_visible(False)\n",
    "ax.get_yaxis().set_visible(False)\n",
    "\n",
    "plt.show()"
   ]
  },
  {
   "cell_type": "markdown",
   "metadata": {},
   "source": [
    "## Convolutional autoencoder"
   ]
  },
  {
   "cell_type": "code",
   "execution_count": 13,
   "metadata": {},
   "outputs": [
    {
     "name": "stdout",
     "output_type": "stream",
     "text": [
      "Model: \"model\"\n",
      "_________________________________________________________________\n",
      "Layer (type)                 Output Shape              Param #   \n",
      "=================================================================\n",
      "input_1 (InputLayer)         [(None, 18, 14, 1)]       0         \n",
      "_________________________________________________________________\n",
      "conv2d (Conv2D)              (None, 18, 14, 20)        200       \n",
      "_________________________________________________________________\n",
      "max_pooling2d (MaxPooling2D) (None, 9, 7, 20)          0         \n",
      "_________________________________________________________________\n",
      "conv2d_1 (Conv2D)            (None, 9, 7, 10)          1810      \n",
      "_________________________________________________________________\n",
      "conv2d_2 (Conv2D)            (None, 9, 7, 1)           91        \n",
      "=================================================================\n",
      "Total params: 2,101\n",
      "Trainable params: 2,101\n",
      "Non-trainable params: 0\n",
      "_________________________________________________________________\n"
     ]
    }
   ],
   "source": [
    "encoder_input = keras.Input(shape = (18, 14, 1))\n",
    "\n",
    "encoding = layers.Conv2D(20, (3, 3), activation = 'relu', strides = 1, padding = 'same')(encoder_input)\n",
    "encoding = layers.MaxPooling2D((2, 2))(encoding)\n",
    "encoding = layers.Conv2D(10, (3, 3), activation = 'relu', strides = 1, padding = 'same')(encoding)\n",
    "\n",
    "encoder_output = layers.Conv2D(1, (3, 3), activation = 'relu', strides = 1, padding = 'same')(encoding)\n",
    "\n",
    "encoder = keras.models.Model(encoder_input, encoder_output)\n",
    "encoder.summary()"
   ]
  },
  {
   "cell_type": "code",
   "execution_count": 14,
   "metadata": {},
   "outputs": [],
   "source": [
    "decoding = layers.Conv2DTranspose(10, (3, 3), activation = 'relu', strides = 1, padding = 'same')(encoder_output)\n",
    "decoding = layers.UpSampling2D((2, 2))(decoding)\n",
    "decoding = layers.Conv2DTranspose(20, (3, 3), activation = 'relu', strides = 1, padding = 'same')(decoding)\n",
    "\n",
    "decoder_output = layers.Conv2D(1, (3, 3), activation = 'sigmoid', strides = 1, padding = 'same')(decoding)"
   ]
  },
  {
   "cell_type": "code",
   "execution_count": 15,
   "metadata": {},
   "outputs": [
    {
     "name": "stdout",
     "output_type": "stream",
     "text": [
      "Model: \"model_1\"\n",
      "_________________________________________________________________\n",
      "Layer (type)                 Output Shape              Param #   \n",
      "=================================================================\n",
      "input_1 (InputLayer)         [(None, 18, 14, 1)]       0         \n",
      "_________________________________________________________________\n",
      "conv2d (Conv2D)              (None, 18, 14, 20)        200       \n",
      "_________________________________________________________________\n",
      "max_pooling2d (MaxPooling2D) (None, 9, 7, 20)          0         \n",
      "_________________________________________________________________\n",
      "conv2d_1 (Conv2D)            (None, 9, 7, 10)          1810      \n",
      "_________________________________________________________________\n",
      "conv2d_2 (Conv2D)            (None, 9, 7, 1)           91        \n",
      "_________________________________________________________________\n",
      "conv2d_transpose (Conv2DTran (None, 9, 7, 10)          100       \n",
      "_________________________________________________________________\n",
      "up_sampling2d (UpSampling2D) (None, 18, 14, 10)        0         \n",
      "_________________________________________________________________\n",
      "conv2d_transpose_1 (Conv2DTr (None, 18, 14, 20)        1820      \n",
      "_________________________________________________________________\n",
      "conv2d_3 (Conv2D)            (None, 18, 14, 1)         181       \n",
      "=================================================================\n",
      "Total params: 4,202\n",
      "Trainable params: 4,202\n",
      "Non-trainable params: 0\n",
      "_________________________________________________________________\n"
     ]
    }
   ],
   "source": [
    "autoencoder = keras.Model(encoder_input, decoder_output)\n",
    "autoencoder.summary()"
   ]
  },
  {
   "cell_type": "code",
   "execution_count": 16,
   "metadata": {},
   "outputs": [],
   "source": [
    "autoencoder.compile(optimizer = 'adam', loss = \"binary_crossentropy\")"
   ]
  },
  {
   "cell_type": "code",
   "execution_count": 17,
   "metadata": {},
   "outputs": [
    {
     "name": "stdout",
     "output_type": "stream",
     "text": [
      "Train on 94730 samples, validate on 63154 samples\n",
      "Epoch 1/5\n",
      "94730/94730 [==============================] - 178s 2ms/sample - loss: 0.0798 - val_loss: 0.0151\n",
      "Epoch 2/5\n",
      "94730/94730 [==============================] - 172s 2ms/sample - loss: 0.0158 - val_loss: 0.0142\n",
      "Epoch 3/5\n",
      "94730/94730 [==============================] - 171s 2ms/sample - loss: 0.0154 - val_loss: 0.0140\n",
      "Epoch 4/5\n",
      "94730/94730 [==============================] - 171s 2ms/sample - loss: 0.0152 - val_loss: 0.0139\n",
      "Epoch 5/5\n",
      "94730/94730 [==============================] - 172s 2ms/sample - loss: 0.0150 - val_loss: 0.0137\n"
     ]
    }
   ],
   "source": [
    "history = autoencoder.fit(X_train_reshaped, X_train_reshaped,\n",
    "                          epochs = 5,\n",
    "                          validation_data = (X_val_reshaped, X_val_reshaped),\n",
    "                          batch_size = 256,\n",
    "                          callbacks = [\n",
    "                              keras.callbacks.EarlyStopping(monitor = \"val_loss\", patience = 0, mode = \"min\")\n",
    "                          ])"
   ]
  },
  {
   "cell_type": "code",
   "execution_count": 18,
   "metadata": {},
   "outputs": [
    {
     "data": {
      "text/plain": [
       "Text(0, 0.5, 'Loss')"
      ]
     },
     "execution_count": 18,
     "metadata": {},
     "output_type": "execute_result"
    },
    {
     "data": {
      "image/png": "[encoded data removed]",
      "text/plain": [
       "<Figure size 1080x720 with 1 Axes>"
      ]
     },
     "metadata": {
      "needs_background": "light"
     },
     "output_type": "display_data"
    }
   ],
   "source": [
    "# plot loss vs epoch\n",
    "plt.figure(figsize = (15,10))\n",
    "axes = plt.subplot(2, 2, 1)\n",
    "axes.plot(history.history['loss'], label = 'train loss')\n",
    "axes.set_yscale(value = \"log\")\n",
    "axes.plot(history.history['val_loss'], label = 'val loss')\n",
    "axes.legend(loc = \"upper right\")\n",
    "axes.set_xlabel('Epoch')\n",
    "axes.set_ylabel('Loss')"
   ]
  },
  {
   "cell_type": "code",
   "execution_count": 19,
   "metadata": {},
   "outputs": [],
   "source": [
    "X_train_predict = autoencoder.predict(X_train_reshaped)\n",
    "X_test_predict = autoencoder.predict(X_test_reshaped)\n",
    "df_vbfh_predict = autoencoder.predict(df_vbfh_reshaped)"
   ]
  },
  {
   "cell_type": "code",
   "execution_count": 20,
   "metadata": {},
   "outputs": [],
   "source": [
    "X_train_mse = ((X_train_predict - X_train_reshaped).reshape(X_train_reshaped.shape[0], 252))**2\n",
    "X_train_mse = np.mean(X_train_mse, axis = 1)\n",
    "\n",
    "X_test_mse = ((X_test_predict - X_test_reshaped).reshape(X_test_reshaped.shape[0], 252))**2\n",
    "X_test_mse = np.mean(X_test_mse, axis = 1)\n",
    "\n",
    "df_vbfh_mse = ((df_vbfh_predict - df_vbfh_reshaped).reshape(df_vbfh_reshaped.shape[0], 252))**2\n",
    "df_vbfh_mse = np.mean(df_vbfh_mse, axis = 1)"
   ]
  },
  {
   "cell_type": "code",
   "execution_count": 35,
   "metadata": {},
   "outputs": [
    {
     "data": {
      "image/png": "[encoded data removed]",
      "text/plain": [
       "<Figure size 432x288 with 1 Axes>"
      ]
     },
     "metadata": {
      "needs_background": "light"
     },
     "output_type": "display_data"
    }
   ],
   "source": [
    "nbins = 40\n",
    "rmin = 0.0\n",
    "rmax = 0.0015\n",
    "plt.hist(X_train_mse, density = 1, bins = nbins, alpha = 0.3, label = 'train (ZB)', log = True, range = (rmin, rmax))\n",
    "plt.hist(X_test_mse, density = 1, bins = nbins, alpha = 0.3, label = 'test (ZB)', range = (rmin, rmax))\n",
    "plt.hist(df_vbfh_mse, density = 1, bins = nbins, label = 'test (VBFH)', histtype = 'step', range = (rmin, rmax))\n",
    "plt.legend()\n",
    "plt.xlabel(\"loss\")\n",
    "plt.xticks(np.arange(rmin, rmax, step = 0.0002))\n",
    "plt.show()"
   ]
  },
  {
   "cell_type": "code",
   "execution_count": 36,
   "metadata": {
    "scrolled": true
   },
   "outputs": [
    {
     "data": {
      "image/png": "[encoded data removed]",
      "text/plain": [
       "<Figure size 576x720 with 2 Axes>"
      ]
     },
     "metadata": {
      "needs_background": "light"
     },
     "output_type": "display_data"
    },
    {
     "data": {
      "image/png": "[encoded data removed]",
      "text/plain": [
       "<Figure size 576x720 with 2 Axes>"
      ]
     },
     "metadata": {
      "needs_background": "light"
     },
     "output_type": "display_data"
    },
    {
     "data": {
      "image/png": "[encoded data removed]",
      "text/plain": [
       "<Figure size 576x720 with 2 Axes>"
      ]
     },
     "metadata": {
      "needs_background": "light"
     },
     "output_type": "display_data"
    },
    {
     "data": {
      "image/png": "[encoded data removed]",
      "text/plain": [
       "<Figure size 576x720 with 2 Axes>"
      ]
     },
     "metadata": {
      "needs_background": "light"
     },
     "output_type": "display_data"
    },
    {
     "data": {
      "image/png": "[encoded data removed]",
      "text/plain": [
       "<Figure size 576x720 with 2 Axes>"
      ]
     },
     "metadata": {
      "needs_background": "light"
     },
     "output_type": "display_data"
    },
    {
     "data": {
      "image/png": "[encoded data removed]",
      "text/plain": [
       "<Figure size 576x720 with 2 Axes>"
      ]
     },
     "metadata": {
      "needs_background": "light"
     },
     "output_type": "display_data"
    },
    {
     "data": {
      "image/png": "[encoded data removed]",
      "text/plain": [
       "<Figure size 576x720 with 2 Axes>"
      ]
     },
     "metadata": {
      "needs_background": "light"
     },
     "output_type": "display_data"
    },
    {
     "data": {
      "image/png": "[encoded data removed]",
      "text/plain": [
       "<Figure size 576x720 with 2 Axes>"
      ]
     },
     "metadata": {
      "needs_background": "light"
     },
     "output_type": "display_data"
    },
    {
     "data": {
      "image/png": "[encoded data removed]",
      "text/plain": [
       "<Figure size 576x720 with 2 Axes>"
      ]
     },
     "metadata": {
      "needs_background": "light"
     },
     "output_type": "display_data"
    },
    {
     "data": {
      "image/png": "[encoded data removed]",
      "text/plain": [
       "<Figure size 576x720 with 2 Axes>"
      ]
     },
     "metadata": {
      "needs_background": "light"
     },
     "output_type": "display_data"
    }
   ],
   "source": [
    "for i in range(10):\n",
    "    plt.figure(figsize=(8, 10))\n",
    "    ax = plt.subplot(2, 2, 1)\n",
    "    plt.imshow(X_test_reshaped[i,:,:,0].reshape(18, 14), cmap = 'Reds')\n",
    "    ax.get_xaxis().set_visible(False)\n",
    "    ax.get_yaxis().set_visible(False)\n",
    "\n",
    "    ax = plt.subplot(2, 2, 2)\n",
    "    plt.imshow(X_test_predict[i,:,:,0].reshape(18, 14), cmap = 'Reds')\n",
    "    ax.get_xaxis().set_visible(False)\n",
    "    ax.get_yaxis().set_visible(False)\n",
    "\n",
    "    plt.show()"
   ]
  },
  {
   "cell_type": "code",
   "execution_count": 37,
   "metadata": {
    "scrolled": true
   },
   "outputs": [
    {
     "data": {
      "image/png": "[encoded data removed]",
      "text/plain": [
       "<Figure size 576x720 with 2 Axes>"
      ]
     },
     "metadata": {
      "needs_background": "light"
     },
     "output_type": "display_data"
    },
    {
     "data": {
      "image/png": "[encoded data removed]",
      "text/plain": [
       "<Figure size 576x720 with 2 Axes>"
      ]
     },
     "metadata": {
      "needs_background": "light"
     },
     "output_type": "display_data"
    },
    {
     "data": {
      "image/png": "[encoded data removed]",
      "text/plain": [
       "<Figure size 576x720 with 2 Axes>"
      ]
     },
     "metadata": {
      "needs_background": "light"
     },
     "output_type": "display_data"
    },
    {
     "data": {
      "image/png": "[encoded data removed]",
      "text/plain": [
       "<Figure size 576x720 with 2 Axes>"
      ]
     },
     "metadata": {
      "needs_background": "light"
     },
     "output_type": "display_data"
    },
    {
     "data": {
      "image/png": "[encoded data removed]",
      "text/plain": [
       "<Figure size 576x720 with 2 Axes>"
      ]
     },
     "metadata": {
      "needs_background": "light"
     },
     "output_type": "display_data"
    },
    {
     "data": {
      "image/png": "[encoded data removed]",
      "text/plain": [
       "<Figure size 576x720 with 2 Axes>"
      ]
     },
     "metadata": {
      "needs_background": "light"
     },
     "output_type": "display_data"
    },
    {
     "data": {
      "image/png": "[encoded data removed]",
      "text/plain": [
       "<Figure size 576x720 with 2 Axes>"
      ]
     },
     "metadata": {
      "needs_background": "light"
     },
     "output_type": "display_data"
    },
    {
     "data": {
      "image/png": "[encoded data removed]",
      "text/plain": [
       "<Figure size 576x720 with 2 Axes>"
      ]
     },
     "metadata": {
      "needs_background": "light"
     },
     "output_type": "display_data"
    },
    {
     "data": {
      "image/png": "[encoded data removed]",
      "text/plain": [
       "<Figure size 576x720 with 2 Axes>"
      ]
     },
     "metadata": {
      "needs_background": "light"
     },
     "output_type": "display_data"
    },
    {
     "data": {
      "image/png": "[encoded data removed]",
      "text/plain": [
       "<Figure size 576x720 with 2 Axes>"
      ]
     },
     "metadata": {
      "needs_background": "light"
     },
     "output_type": "display_data"
    }
   ],
   "source": [
    "for i in range(100, 110):\n",
    "    plt.figure(figsize=(8, 10))\n",
    "    ax = plt.subplot(2, 2, 1)\n",
    "    plt.imshow(df_vbfh_reshaped[i,:,:,0].reshape(18, 14), cmap = 'Reds')\n",
    "    ax.get_xaxis().set_visible(False)\n",
    "    ax.get_yaxis().set_visible(False)\n",
    "\n",
    "    ax = plt.subplot(2, 2, 2)\n",
    "    plt.imshow(df_vbfh_predict[i,:,:,0].reshape(18, 14), cmap = 'Reds')\n",
    "    ax.get_xaxis().set_visible(False)\n",
    "    ax.get_yaxis().set_visible(False)\n",
    "\n",
    "    plt.show()"
   ]
  },
  {
   "cell_type": "code",
   "execution_count": 38,
   "metadata": {},
   "outputs": [],
   "source": [
    "Y_vbfh = np.ones((df_vbfh_reshaped.shape[0], 1))\n",
    "Y_test_zb = np.zeros((X_test_reshaped.shape[0], 1))\n",
    "Y_true = np.concatenate((Y_vbfh, Y_test_zb))\n",
    "Y_predict = np.concatenate((df_vbfh_mse, X_test_mse))"
   ]
  },
  {
   "cell_type": "code",
   "execution_count": 39,
   "metadata": {},
   "outputs": [
    {
     "data": {
      "image/png": "[encoded data removed]",
      "text/plain": [
       "<Figure size 936x936 with 1 Axes>"
      ]
     },
     "metadata": {
      "needs_background": "light"
     },
     "output_type": "display_data"
    }
   ],
   "source": [
    "# Plot ROC\n",
    "plt.figure(figsize = (13,13))\n",
    "fpr, tpr, thresholds = roc_curve(Y_true, Y_predict)\n",
    "roc_auc = auc(fpr, tpr)\n",
    "axes = plt.subplot(2, 2, 1)\n",
    "axes.plot(fpr, tpr, lw = 2, color = 'red', label = 'ROC (VBFH vs ZB), AUC = %.3f' % (roc_auc))\n",
    "axes.plot([0, 1], [0, 1], linestyle = '--', lw = 2, color = 'black', label = 'random chance')\n",
    "#axes.plot([0.003, 0.003], [0, 1], linestyle = '--', lw = 2, color = 'black', label = 'Max tolerable fake rate ~ 0.003 (ZB->L1T rate)')\n",
    "#axes.set_xlim([0.0001, 1.0])\n",
    "axes.set_xlim([0, 1.0])\n",
    "axes.set_ylim([0, 1.0])\n",
    "#axes.set_xscale(value = \"log\")\n",
    "axes.set_xlabel('Fake signal rate (FPR)')\n",
    "axes.set_ylabel('True signal rate (TPR)')\n",
    "axes.set_title('Receiver operating characteristic (ROC)')\n",
    "axes.legend(loc = \"lower right\")\n",
    "plt.show()"
   ]
  },
  {
   "cell_type": "markdown",
   "metadata": {},
   "source": [
    "## Convolutional variational autoencoder"
   ]
  },
  {
   "cell_type": "code",
   "execution_count": 109,
   "metadata": {},
   "outputs": [],
   "source": [
    "def sampling(mu_log_variance):\n",
    "    mu, log_variance = mu_log_variance\n",
    "    epsilon = keras.backend.random_normal(shape = keras.backend.shape(mu), mean = 0.0, stddev = 1.0)\n",
    "    random_sample = mu + keras.backend.exp(log_variance/2) * epsilon\n",
    "    return random_sample"
   ]
  },
  {
   "cell_type": "code",
   "execution_count": 182,
   "metadata": {},
   "outputs": [
    {
     "name": "stdout",
     "output_type": "stream",
     "text": [
      "Model: \"encoder\"\n",
      "__________________________________________________________________________________________________\n",
      "Layer (type)                    Output Shape         Param #     Connected to                     \n",
      "==================================================================================================\n",
      "input_35 (InputLayer)           [(None, 18, 14, 1)]  0                                            \n",
      "__________________________________________________________________________________________________\n",
      "conv2d_38 (Conv2D)              (None, 18, 14, 15)   150         input_35[0][0]                   \n",
      "__________________________________________________________________________________________________\n",
      "max_pooling2d_18 (MaxPooling2D) (None, 9, 7, 15)     0           conv2d_38[0][0]                  \n",
      "__________________________________________________________________________________________________\n",
      "conv2d_39 (Conv2D)              (None, 9, 7, 5)      680         max_pooling2d_18[0][0]           \n",
      "__________________________________________________________________________________________________\n",
      "flatten_17 (Flatten)            (None, 315)          0           conv2d_39[0][0]                  \n",
      "__________________________________________________________________________________________________\n",
      "dense_18 (Dense)                (None, 60)           18960       flatten_17[0][0]                 \n",
      "__________________________________________________________________________________________________\n",
      "z_mean (Dense)                  (None, 30)           1830        dense_18[0][0]                   \n",
      "__________________________________________________________________________________________________\n",
      "z_log_var (Dense)               (None, 30)           1830        dense_18[0][0]                   \n",
      "__________________________________________________________________________________________________\n",
      "lambda_17 (Lambda)              (None, 30)           0           z_mean[0][0]                     \n",
      "                                                                 z_log_var[0][0]                  \n",
      "==================================================================================================\n",
      "Total params: 23,450\n",
      "Trainable params: 23,450\n",
      "Non-trainable params: 0\n",
      "__________________________________________________________________________________________________\n"
     ]
    }
   ],
   "source": [
    "latent_dim = 30\n",
    "encoder_inputs = keras.Input(shape = (18, 14, 1))\n",
    "\n",
    "encoding = layers.Conv2D(15, (3, 3), activation = 'relu', strides = 1, padding = 'same')(encoder_inputs)\n",
    "encoding = layers.MaxPooling2D((2, 2), padding = 'same')(encoding)\n",
    "encoding = layers.Conv2D(5, (3, 3), activation = 'relu', strides = 1, padding = 'same')(encoding)\n",
    "encoding = layers.Flatten()(encoding)\n",
    "encoding = layers.Dense(latent_dim + latent_dim)(encoding)\n",
    "\n",
    "z_mean = layers.Dense(latent_dim, name = 'z_mean')(encoding)\n",
    "z_log_var = layers.Dense(latent_dim, name = 'z_log_var')(encoding)\n",
    "\n",
    "encoder_mu_log_var_model = keras.Model(encoder_inputs, (z_mean, z_log_var))\n",
    "\n",
    "z = layers.Lambda(sampling)([z_mean, z_log_var])\n",
    "\n",
    "encoder = keras.Model(encoder_inputs, z, name = 'encoder')\n",
    "encoder.summary()"
   ]
  },
  {
   "cell_type": "code",
   "execution_count": 183,
   "metadata": {},
   "outputs": [
    {
     "name": "stdout",
     "output_type": "stream",
     "text": [
      "Model: \"decoder\"\n",
      "_________________________________________________________________\n",
      "Layer (type)                 Output Shape              Param #   \n",
      "=================================================================\n",
      "input_36 (InputLayer)        [(None, 30)]              0         \n",
      "_________________________________________________________________\n",
      "dense_19 (Dense)             (None, 315)               9765      \n",
      "_________________________________________________________________\n",
      "reshape_15 (Reshape)         (None, 9, 7, 5)           0         \n",
      "_________________________________________________________________\n",
      "conv2d_transpose_47 (Conv2DT (None, 9, 7, 5)           230       \n",
      "_________________________________________________________________\n",
      "up_sampling2d_16 (UpSampling (None, 18, 14, 5)         0         \n",
      "_________________________________________________________________\n",
      "conv2d_transpose_48 (Conv2DT (None, 18, 14, 15)        690       \n",
      "_________________________________________________________________\n",
      "conv2d_transpose_49 (Conv2DT (None, 18, 14, 1)         136       \n",
      "=================================================================\n",
      "Total params: 10,821\n",
      "Trainable params: 10,821\n",
      "Non-trainable params: 0\n",
      "_________________________________________________________________\n"
     ]
    }
   ],
   "source": [
    "latent_inputs = keras.Input(shape = (latent_dim,))\n",
    "\n",
    "decoding = layers.Dense(9 * 7 * 5)(latent_inputs)\n",
    "decoding = layers.Reshape((9, 7, 5))(decoding)\n",
    "decoding = layers.Conv2DTranspose(5, (3, 3), activation = 'relu', strides = 1, padding = 'same')(decoding)\n",
    "decoding = layers.UpSampling2D((2, 2))(decoding)\n",
    "decoding = layers.Conv2DTranspose(15, (3, 3), activation = 'relu', strides = 1, padding = 'same')(decoding)\n",
    "\n",
    "decoder_outputs = layers.Conv2DTranspose(1, (3, 3), activation = 'sigmoid', strides = 1, padding = 'same')(decoding)\n",
    "\n",
    "decoder = keras.Model(latent_inputs, decoder_outputs, name = 'decoder')\n",
    "decoder.summary()"
   ]
  },
  {
   "cell_type": "code",
   "execution_count": 184,
   "metadata": {},
   "outputs": [
    {
     "name": "stdout",
     "output_type": "stream",
     "text": [
      "Model: \"VAE\"\n",
      "_________________________________________________________________\n",
      "Layer (type)                 Output Shape              Param #   \n",
      "=================================================================\n",
      "VAE_input (InputLayer)       [(None, 18, 14, 1)]       0         \n",
      "_________________________________________________________________\n",
      "encoder (Model)              (None, 30)                23450     \n",
      "_________________________________________________________________\n",
      "decoder (Model)              (None, 18, 14, 1)         10821     \n",
      "=================================================================\n",
      "Total params: 34,271\n",
      "Trainable params: 34,271\n",
      "Non-trainable params: 0\n",
      "_________________________________________________________________\n"
     ]
    }
   ],
   "source": [
    "vae_input = layers.Input(shape=(18, 14, 1), name = \"VAE_input\")\n",
    "vae_encoder_output = encoder(vae_input)\n",
    "vae_decoder_output = decoder(vae_encoder_output)\n",
    "vae = keras.models.Model(vae_input, vae_decoder_output, name = \"VAE\")\n",
    "vae.summary()"
   ]
  },
  {
   "cell_type": "code",
   "execution_count": 186,
   "metadata": {},
   "outputs": [],
   "source": [
    "def loss_func(encoder_mu, encoder_log_variance):\n",
    "    def vae_reconstruction_loss(y_true, y_predict):\n",
    "        reconstruction_loss_factor = 100\n",
    "        reconstruction_loss = keras.backend.mean(keras.backend.square(y_true - y_predict), axis = [1, 2, 3])\n",
    "        return reconstruction_loss_factor * reconstruction_loss\n",
    "\n",
    "    def vae_kl_loss(encoder_mu, encoder_log_variance):\n",
    "        kl_loss = -0.5 * keras.backend.sum(1.0 + encoder_log_variance - keras.backend.square(encoder_mu) - keras.backend.exp(encoder_log_variance), axis = 1)\n",
    "        return kl_loss\n",
    "\n",
    "    def vae_kl_loss_metric(y_true, y_predict):\n",
    "        kl_loss = -0.5 * keras.backend.sum(1.0 + encoder_log_variance - keras.backend.square(encoder_mu) - keras.backend.exp(encoder_log_variance), axis = 1)\n",
    "        return kl_loss\n",
    "\n",
    "    def vae_loss(y_true, y_predict):\n",
    "        reconstruction_loss = vae_reconstruction_loss(y_true, y_predict)\n",
    "        kl_loss = vae_kl_loss(y_true, y_predict)\n",
    "\n",
    "        loss = reconstruction_loss + kl_loss\n",
    "        return loss\n",
    "\n",
    "    return vae_loss\n",
    "\n",
    "vae.compile(optimizer = 'adam', loss = loss_func(z_mean, z_log_var))"
   ]
  },
  {
   "cell_type": "code",
   "execution_count": 187,
   "metadata": {},
   "outputs": [
    {
     "name": "stdout",
     "output_type": "stream",
     "text": [
      "Train on 94730 samples, validate on 63154 samples\n",
      "Epoch 1/3\n",
      "94730/94730 [==============================] - 99s 1ms/sample - loss: 0.7730 - val_loss: 0.0033\n",
      "Epoch 2/3\n",
      "94730/94730 [==============================] - 95s 1ms/sample - loss: 0.0040 - val_loss: 0.0032\n",
      "Epoch 3/3\n",
      "94730/94730 [==============================] - 95s 1ms/sample - loss: 0.0040 - val_loss: 0.0032\n"
     ]
    }
   ],
   "source": [
    "history = vae.fit(X_train_reshaped, X_train_reshaped,\n",
    "                  epochs = 3,\n",
    "                  validation_data = (X_val_reshaped, X_val_reshaped),\n",
    "                  batch_size = 256)"
   ]
  },
  {
   "cell_type": "code",
   "execution_count": 198,
   "metadata": {},
   "outputs": [
    {
     "data": {
      "text/plain": [
       "Text(0, 0.5, 'Loss')"
      ]
     },
     "execution_count": 198,
     "metadata": {},
     "output_type": "execute_result"
    },
    {
     "data": {
      "image/png": "[encoded data removed]",
      "text/plain": [
       "<Figure size 1080x720 with 1 Axes>"
      ]
     },
     "metadata": {
      "needs_background": "light"
     },
     "output_type": "display_data"
    }
   ],
   "source": [
    "# plot loss vs epoch\n",
    "plt.figure(figsize = (15,10))\n",
    "axes = plt.subplot(2, 2, 1)\n",
    "axes.plot(history.history['loss'], label = 'train loss')\n",
    "axes.set_yscale(value = \"log\")\n",
    "axes.plot(history.history['val_loss'], label = 'val loss')\n",
    "axes.legend(loc = \"upper right\")\n",
    "axes.set_xlabel('Epoch')\n",
    "axes.set_ylabel('Loss')"
   ]
  },
  {
   "cell_type": "code",
   "execution_count": 189,
   "metadata": {},
   "outputs": [],
   "source": [
    "X_train_predict = vae.predict(X_train_reshaped)\n",
    "X_test_predict = vae.predict(X_test_reshaped)\n",
    "df_vbfh_predict = vae.predict(df_vbfh_reshaped)"
   ]
  },
  {
   "cell_type": "code",
   "execution_count": 190,
   "metadata": {},
   "outputs": [],
   "source": [
    "X_train_mse = ((X_train_predict - X_train_reshaped).reshape(X_train_reshaped.shape[0], 252))**2\n",
    "X_train_mse = np.mean(X_train_mse, axis = 1)\n",
    "\n",
    "X_test_mse = ((X_test_predict - X_test_reshaped).reshape(X_test_reshaped.shape[0], 252))**2\n",
    "X_test_mse = np.mean(X_test_mse, axis = 1)\n",
    "\n",
    "df_vbfh_mse = ((df_vbfh_predict - df_vbfh_reshaped).reshape(df_vbfh_reshaped.shape[0], 252))**2\n",
    "df_vbfh_mse = np.mean(df_vbfh_mse, axis = 1)"
   ]
  },
  {
   "cell_type": "code",
   "execution_count": 191,
   "metadata": {},
   "outputs": [
    {
     "data": {
      "image/png": "[encoded data removed]",
      "text/plain": [
       "<Figure size 432x288 with 1 Axes>"
      ]
     },
     "metadata": {
      "needs_background": "light"
     },
     "output_type": "display_data"
    }
   ],
   "source": [
    "nbins = 40\n",
    "rmin = 0.0\n",
    "rmax = 0.0015\n",
    "plt.hist(X_train_mse, density = 1, bins = nbins, alpha = 0.3, label = 'train (ZB)', log = True, range = (rmin, rmax))\n",
    "plt.hist(X_test_mse, density = 1, bins = nbins, alpha = 0.3, label = 'test (ZB)', range = (rmin, rmax))\n",
    "plt.hist(df_vbfh_mse, density = 1, bins = nbins, label = 'test (VBFH)', histtype = 'step', range = (rmin, rmax))\n",
    "plt.legend()\n",
    "plt.xlabel(\"loss\")\n",
    "plt.xticks(np.arange(rmin, rmax, step = 0.0002))\n",
    "plt.show()"
   ]
  },
  {
   "cell_type": "code",
   "execution_count": 192,
   "metadata": {
    "scrolled": false
   },
   "outputs": [
    {
     "data": {
      "image/png": "[encoded data removed]",
      "text/plain": [
       "<Figure size 576x720 with 2 Axes>"
      ]
     },
     "metadata": {
      "needs_background": "light"
     },
     "output_type": "display_data"
    },
    {
     "data": {
      "image/png": "[encoded data removed]",
      "text/plain": [
       "<Figure size 576x720 with 2 Axes>"
      ]
     },
     "metadata": {
      "needs_background": "light"
     },
     "output_type": "display_data"
    },
    {
     "data": {
      "image/png": "[encoded data removed]",
      "text/plain": [
       "<Figure size 576x720 with 2 Axes>"
      ]
     },
     "metadata": {
      "needs_background": "light"
     },
     "output_type": "display_data"
    },
    {
     "data": {
      "image/png": "[encoded data removed]",
      "text/plain": [
       "<Figure size 576x720 with 2 Axes>"
      ]
     },
     "metadata": {
      "needs_background": "light"
     },
     "output_type": "display_data"
    },
    {
     "data": {
      "image/png": "[encoded data removed]",
      "text/plain": [
       "<Figure size 576x720 with 2 Axes>"
      ]
     },
     "metadata": {
      "needs_background": "light"
     },
     "output_type": "display_data"
    },
    {
     "data": {
      "image/png": "[encoded data removed]",
      "text/plain": [
       "<Figure size 576x720 with 2 Axes>"
      ]
     },
     "metadata": {
      "needs_background": "light"
     },
     "output_type": "display_data"
    },
    {
     "data": {
      "image/png": "[encoded data removed]",
      "text/plain": [
       "<Figure size 576x720 with 2 Axes>"
      ]
     },
     "metadata": {
      "needs_background": "light"
     },
     "output_type": "display_data"
    },
    {
     "data": {
      "image/png": "[encoded data removed]",
      "text/plain": [
       "<Figure size 576x720 with 2 Axes>"
      ]
     },
     "metadata": {
      "needs_background": "light"
     },
     "output_type": "display_data"
    },
    {
     "data": {
      "image/png": "[encoded data removed]",
      "text/plain": [
       "<Figure size 576x720 with 2 Axes>"
      ]
     },
     "metadata": {
      "needs_background": "light"
     },
     "output_type": "display_data"
    },
    {
     "data": {
      "image/png": "[encoded data removed]",
      "text/plain": [
       "<Figure size 576x720 with 2 Axes>"
      ]
     },
     "metadata": {
      "needs_background": "light"
     },
     "output_type": "display_data"
    }
   ],
   "source": [
    "for i in range(10):\n",
    "    plt.figure(figsize=(8, 10))\n",
    "    ax = plt.subplot(2, 2, 1)\n",
    "    plt.imshow(X_test_reshaped[i,:,:,0].reshape(18, 14), cmap = 'Reds')\n",
    "    ax.get_xaxis().set_visible(False)\n",
    "    ax.get_yaxis().set_visible(False)\n",
    "\n",
    "    ax = plt.subplot(2, 2, 2)\n",
    "    plt.imshow(X_test_predict[i,:,:,0].reshape(18, 14), cmap = 'Reds')\n",
    "    ax.get_xaxis().set_visible(False)\n",
    "    ax.get_yaxis().set_visible(False)\n",
    "\n",
    "    plt.show()"
   ]
  },
  {
   "cell_type": "code",
   "execution_count": 193,
   "metadata": {
    "scrolled": false
   },
   "outputs": [
    {
     "data": {
      "image/png": "[encoded data removed]",
      "text/plain": [
       "<Figure size 576x720 with 2 Axes>"
      ]
     },
     "metadata": {
      "needs_background": "light"
     },
     "output_type": "display_data"
    },
    {
     "data": {
      "image/png": "[encoded data removed]",
      "text/plain": [
       "<Figure size 576x720 with 2 Axes>"
      ]
     },
     "metadata": {
      "needs_background": "light"
     },
     "output_type": "display_data"
    },
    {
     "data": {
      "image/png": "[encoded data removed]",
      "text/plain": [
       "<Figure size 576x720 with 2 Axes>"
      ]
     },
     "metadata": {
      "needs_background": "light"
     },
     "output_type": "display_data"
    },
    {
     "data": {
      "image/png": "[encoded data removed]",
      "text/plain": [
       "<Figure size 576x720 with 2 Axes>"
      ]
     },
     "metadata": {
      "needs_background": "light"
     },
     "output_type": "display_data"
    },
    {
     "data": {
      "image/png": "[encoded data removed]",
      "text/plain": [
       "<Figure size 576x720 with 2 Axes>"
      ]
     },
     "metadata": {
      "needs_background": "light"
     },
     "output_type": "display_data"
    },
    {
     "data": {
      "image/png": "[encoded data removed]",
      "text/plain": [
       "<Figure size 576x720 with 2 Axes>"
      ]
     },
     "metadata": {
      "needs_background": "light"
     },
     "output_type": "display_data"
    },
    {
     "data": {
      "image/png": "[encoded data removed]",
      "text/plain": [
       "<Figure size 576x720 with 2 Axes>"
      ]
     },
     "metadata": {
      "needs_background": "light"
     },
     "output_type": "display_data"
    },
    {
     "data": {
      "image/png": "[encoded data removed]",
      "text/plain": [
       "<Figure size 576x720 with 2 Axes>"
      ]
     },
     "metadata": {
      "needs_background": "light"
     },
     "output_type": "display_data"
    },
    {
     "data": {
      "image/png": "[encoded data removed]",
      "text/plain": [
       "<Figure size 576x720 with 2 Axes>"
      ]
     },
     "metadata": {
      "needs_background": "light"
     },
     "output_type": "display_data"
    },
    {
     "data": {
      "image/png": "[encoded data removed]",
      "text/plain": [
       "<Figure size 576x720 with 2 Axes>"
      ]
     },
     "metadata": {
      "needs_background": "light"
     },
     "output_type": "display_data"
    }
   ],
   "source": [
    "for i in range(100, 110):\n",
    "    plt.figure(figsize=(8, 10))\n",
    "    ax = plt.subplot(2, 2, 1)\n",
    "    plt.imshow(df_vbfh_reshaped[i,:,:,0].reshape(18, 14), cmap = 'Reds')\n",
    "    ax.get_xaxis().set_visible(False)\n",
    "    ax.get_yaxis().set_visible(False)\n",
    "\n",
    "    ax = plt.subplot(2, 2, 2)\n",
    "    plt.imshow(df_vbfh_predict[i,:,:,0].reshape(18, 14), cmap = 'Reds')\n",
    "    ax.get_xaxis().set_visible(False)\n",
    "    ax.get_yaxis().set_visible(False)\n",
    "\n",
    "    plt.show()"
   ]
  },
  {
   "cell_type": "code",
   "execution_count": 194,
   "metadata": {},
   "outputs": [],
   "source": [
    "X_train_encoded = encoder.predict(X_train_reshaped, batch_size = 128)\n",
    "X_test_encoded = encoder.predict(X_test_reshaped, batch_size = 128)\n",
    "df_vbfh_encoded = encoder.predict(df_vbfh_reshaped, batch_size = 128)"
   ]
  },
  {
   "cell_type": "code",
   "execution_count": 196,
   "metadata": {},
   "outputs": [
    {
     "data": {
      "image/png": "[encoded data removed]",
      "text/plain": [
       "<Figure size 432x432 with 1 Axes>"
      ]
     },
     "metadata": {
      "needs_background": "light"
     },
     "output_type": "display_data"
    }
   ],
   "source": [
    "i = 5\n",
    "j = 6\n",
    "alpha_value = 1\n",
    "plt.figure(figsize=(6, 6))\n",
    "plt.scatter(X_train_encoded[:, i], X_train_encoded[:, j], alpha = alpha_value, label = 'train (ZB)')\n",
    "plt.scatter(X_test_encoded[:, i], X_test_encoded[:, j], alpha = alpha_value, label = 'test (ZB)')\n",
    "plt.scatter(df_vbfh_encoded[:, i], df_vbfh_encoded[:, j], alpha = alpha_value, label = 'test (VBFH)')\n",
    "plt.legend()\n",
    "#plt.colorbar()\n",
    "plt.show()"
   ]
  },
  {
   "cell_type": "code",
   "execution_count": 121,
   "metadata": {},
   "outputs": [],
   "source": [
    "Y_vbfh = np.ones((df_vbfh_reshaped.shape[0], 1))\n",
    "Y_test_zb = np.zeros((X_test_reshaped.shape[0], 1))\n",
    "Y_true = np.concatenate((Y_vbfh, Y_test_zb))\n",
    "Y_predict = np.concatenate((df_vbfh_mse, X_test_mse))"
   ]
  },
  {
   "cell_type": "code",
   "execution_count": 123,
   "metadata": {},
   "outputs": [
    {
     "data": {
      "image/png": "[encoded data removed]",
      "text/plain": [
       "<Figure size 936x936 with 1 Axes>"
      ]
     },
     "metadata": {
      "needs_background": "light"
     },
     "output_type": "display_data"
    }
   ],
   "source": [
    "# Plot ROC\n",
    "plt.figure(figsize = (13,13))\n",
    "fpr, tpr, thresholds = roc_curve(Y_true, Y_predict)\n",
    "roc_auc = auc(fpr, tpr)\n",
    "axes = plt.subplot(2, 2, 1)\n",
    "axes.plot(fpr, tpr, lw = 2, color = 'red', label = 'ROC (VBFH vs ZB), AUC = %.3f' % (roc_auc))\n",
    "axes.plot([0, 1], [0, 1], linestyle = '--', lw = 2, color = 'black', label = 'random chance')\n",
    "#axes.plot([0.003, 0.003], [0, 1], linestyle = '--', lw = 2, color = 'black', label = 'Max tolerable fake rate ~ 0.003 (ZB->L1T rate)')\n",
    "#axes.set_xlim([0.0001, 1.0])\n",
    "axes.set_xlim([0, 1.0])\n",
    "axes.set_ylim([0, 1.0])\n",
    "#axes.set_xscale(value = \"log\")\n",
    "axes.set_xlabel('Fake signal rate (FPR)')\n",
    "axes.set_ylabel('True signal rate (TPR)')\n",
    "axes.set_title('Receiver operating characteristic (ROC)')\n",
    "axes.legend(loc = \"lower right\")\n",
    "plt.show()"
   ]
  },
  {
   "cell_type": "code",
   "execution_count": null,
   "metadata": {},
   "outputs": [],
   "source": []
  }
 ],
 "metadata": {
  "kernelspec": {
   "display_name": "Python 3",
   "language": "python",
   "name": "python3"
  },
  "language_info": {
   "codemirror_mode": {
    "name": "ipython",
    "version": 3
   },
   "file_extension": ".py",
   "mimetype": "text/x-python",
   "name": "python",
   "nbconvert_exporter": "python",
   "pygments_lexer": "ipython3",
   "version": "3.7.11"
  }
 },
 "nbformat": 4,
 "nbformat_minor": 4
}
