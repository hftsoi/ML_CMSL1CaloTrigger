{
 "cells": [
  {
   "cell_type": "code",
   "execution_count": null,
   "metadata": {},
   "outputs": [],
   "source": [
    "import h5py\n",
    "import numpy as np\n",
    "import pandas as pd\n",
    "import tensorflow as tf\n",
    "import matplotlib.pyplot as plt\n",
    "import seaborn as sns\n",
    "from sklearn.model_selection import train_test_split\n",
    "from sklearn.preprocessing import StandardScaler\n",
    "from tensorflow import keras\n",
    "from tensorflow.keras import layers, models\n",
    "from sklearn.metrics import roc_curve, auc\n",
    "import qkeras\n",
    "from qkeras import *\n",
    "#import tensorflow_probability as tfp\n",
    "#import keras_tuner\n",
    "#from keras_tuner import Hyperband\n",
    "import joblib"
   ]
  },
  {
   "cell_type": "markdown",
   "metadata": {},
   "source": [
    "# data files"
   ]
  },
  {
   "cell_type": "markdown",
   "metadata": {},
   "source": [
    "All input files have data already sorted in Calo regions (i, j) ~ (18, 14)<br>\n",
    "i = 0 -> 17 corresponds to GCT_Phi = 0 -> 17<br>\n",
    "j = 0 -> 13 corresponds to RCT_Eta = 4 -> 17"
   ]
  },
  {
   "cell_type": "code",
   "execution_count": null,
   "metadata": {
    "scrolled": true
   },
   "outputs": [],
   "source": [
    "X = np.concatenate((h5py.File('bkg2023/ZB_RunB.h5', 'r')['CaloRegions'][:].astype('float32'),\n",
    "                    h5py.File('bkg2023/ZB_RunC.h5', 'r')['CaloRegions'][:].astype('float32'),\n",
    "                    h5py.File('bkg2023/ZB_RunD.h5', 'r')['CaloRegions'][:].astype('float32'),\n",
    "                    h5py.File('bkg2023/EZB0_RunC.h5', 'r')['CaloRegions'][:].astype('float32'))\n",
    "                  )\n",
    "X = np.reshape(X, (-1,18,14,1))\n",
    "\n",
    "X_A = np.reshape(h5py.File('bkg2023/ZB_RunA.h5', 'r')['CaloRegions'][:].astype('float32'), (-1,18,14,1))\n",
    "X_B = np.reshape(h5py.File('bkg2023/ZB_RunB.h5', 'r')['CaloRegions'][:].astype('float32'), (-1,18,14,1))\n",
    "X_C = np.reshape(h5py.File('bkg2023/ZB_RunC.h5', 'r')['CaloRegions'][:].astype('float32'), (-1,18,14,1))\n",
    "X_D = np.reshape(h5py.File('bkg2023/ZB_RunD.h5', 'r')['CaloRegions'][:].astype('float32'), (-1,18,14,1))\n",
    "X_EphC = np.reshape(h5py.File('bkg2023/EZB0_RunC.h5', 'r')['CaloRegions'][:].astype('float32'), (-1,18,14,1))\n",
    "\n",
    "print('X      shape: ' + str(X.shape))\n",
    "print('X_A    shape: ' + str(X_A.shape))\n",
    "print('X_B    shape: ' + str(X_B.shape))\n",
    "print('X_C    shape: ' + str(X_C.shape))\n",
    "print('X_D    shape: ' + str(X_D.shape))\n",
    "print('X_EphC shape: ' + str(X_EphC.shape))\n",
    "\n",
    "MC_files = []\n",
    "MC_files.append('sig2023/H_ToLongLived.h5')\n",
    "MC_files.append('sig2023/SUEP.h5')\n",
    "MC_files.append('sig2023/SUSYGGBBH.h5')\n",
    "MC_files.append('sig2023/TT.h5')\n",
    "MC_files.append('sig2023/VBFHto2C.h5')\n",
    "    \n",
    "MC = []\n",
    "Acceptance_Flag = []\n",
    "Acceptance_Filter = []\n",
    "MC_flag = []\n",
    "for i in range(len(MC_files)):\n",
    "    MC.append(np.reshape(h5py.File(MC_files[i], 'r')['CaloRegions'][:].astype('float32'), (-1,18,14,1)))\n",
    "    MC_flag.append(np.reshape(h5py.File(MC_files[i], 'r')['CaloRegions'][:].astype('float32'), (-1,18,14,1)))\n",
    "    Acceptance_Flag.append(h5py.File(MC_files[i], 'r')['AcceptanceFlag'][:].astype('int32'))\n",
    "    Acceptance_Filter.append([])\n",
    "    for j in range(MC[i].shape[0]):\n",
    "        if Acceptance_Flag[i][j] == 1:\n",
    "            Acceptance_Filter[i].append(True)\n",
    "        else:\n",
    "            Acceptance_Filter[i].append(False)\n",
    "    MC_flag[i] = MC_flag[i][Acceptance_Filter[i]]\n",
    "    print('i = ' + str(i) + ': ' + str(MC_flag[i].shape) + ' / ' + str(MC[i].shape) + '; accepted ' + str(np.round(np.mean(Acceptance_Flag[i]), 4)))"
   ]
  },
  {
   "cell_type": "code",
   "execution_count": null,
   "metadata": {},
   "outputs": [],
   "source": [
    "train_ratio = 0.5\n",
    "val_ratio = 0.1\n",
    "test_ratio = 1 - train_ratio - val_ratio\n",
    "X_train_val, X_test = train_test_split(X, test_size = test_ratio, random_state = 42)\n",
    "X_train, X_val = train_test_split(X_train_val, test_size = val_ratio/(val_ratio + train_ratio), random_state = 42)\n",
    "print('X_train shape: ' + str(X_train.shape))\n",
    "print('X_val   shape: ' + str(X_val.shape))\n",
    "print('X_test  shape: ' + str(X_test.shape))\n",
    "del X_train_val"
   ]
  },
  {
   "cell_type": "markdown",
   "metadata": {},
   "source": [
    "Take a look at some ZB statistics."
   ]
  },
  {
   "cell_type": "code",
   "execution_count": null,
   "metadata": {},
   "outputs": [],
   "source": [
    "ZB_A = np.reshape(h5py.File('bkg2023/ZB_RunA.h5', 'r')['CaloRegions'][:].astype('float32'), (-1,18,14,1))\n",
    "ZB_B = np.reshape(h5py.File('bkg2023/ZB_RunB.h5', 'r')['CaloRegions'][:].astype('float32'), (-1,18,14,1))\n",
    "ZB_C = np.reshape(h5py.File('bkg2023/ZB_RunC.h5', 'r')['CaloRegions'][:].astype('float32'), (-1,18,14,1))\n",
    "ZB_D = np.reshape(h5py.File('bkg2023/ZB_RunD.h5', 'r')['CaloRegions'][:].astype('float32'), (-1,18,14,1))\n",
    "EZB_C = np.reshape(h5py.File('bkg2023/EZB0_RunC.h5', 'r')['CaloRegions'][:].astype('float32'), (-1,18,14,1))\n",
    "\n",
    "print('ZeroBias2023A   shape: ' + str(ZB_A.shape))\n",
    "print('ZeroBias2023B   shape: ' + str(ZB_B.shape))\n",
    "print('ZeroBias2023C   shape: ' + str(ZB_C.shape))\n",
    "print('ZeroBias2023D   shape: ' + str(ZB_D.shape))\n",
    "print('EZeroBias2023C  shape: ' + str(EZB_C.shape))\n",
    "\n",
    "ZB_A_mean = np.mean(ZB_A, axis = 0)\n",
    "ZB_B_mean = np.mean(ZB_B, axis = 0)\n",
    "ZB_C_mean = np.mean(ZB_C, axis = 0)\n",
    "ZB_D_mean = np.mean(ZB_D, axis = 0)\n",
    "EZB_C_mean = np.mean(EZB_C, axis = 0)\n",
    "\n",
    "fig, ax = plt.subplots(figsize = (10,10))\n",
    "ax = plt.subplot(2, 2, 2)\n",
    "ax = sns.heatmap(ZB_A_mean.reshape(18, 14), vmin = 0, vmax = ZB_A_mean.max(), cmap = \"Purples\", cbar_kws = {'label': 'ET (GeV)'})\n",
    "ax.get_xaxis().set_visible(False)\n",
    "ax.get_yaxis().set_visible(False)\n",
    "ax.set_title('Mean Et (ZB2023RunA)')\n",
    "plt.show()\n",
    "\n",
    "fig, ax = plt.subplots(figsize = (10,10))\n",
    "ax = plt.subplot(2, 2, 2)\n",
    "ax = sns.heatmap(ZB_B_mean.reshape(18, 14), vmin = 0, vmax = ZB_B_mean.max(), cmap = \"Purples\", cbar_kws = {'label': 'ET (GeV)'})\n",
    "ax.get_xaxis().set_visible(False)\n",
    "ax.get_yaxis().set_visible(False)\n",
    "ax.set_title('Mean Et (ZB2023RunB)')\n",
    "plt.show()\n",
    "\n",
    "fig, ax = plt.subplots(figsize = (10,10))\n",
    "ax = plt.subplot(2, 2, 2)\n",
    "ax = sns.heatmap(ZB_C_mean.reshape(18, 14), vmin = 0, vmax = ZB_C_mean.max(), cmap = \"Purples\", cbar_kws = {'label': 'ET (GeV)'})\n",
    "ax.get_xaxis().set_visible(False)\n",
    "ax.get_yaxis().set_visible(False)\n",
    "ax.set_title('Mean Et (ZB2023RunC)')\n",
    "plt.show()\n",
    "\n",
    "fig, ax = plt.subplots(figsize = (10,10))\n",
    "ax = plt.subplot(2, 2, 2)\n",
    "ax = sns.heatmap(ZB_D_mean.reshape(18, 14), vmin = 0, vmax = ZB_D_mean.max(), cmap = \"Purples\", cbar_kws = {'label': 'ET (GeV)'})\n",
    "ax.get_xaxis().set_visible(False)\n",
    "ax.get_yaxis().set_visible(False)\n",
    "ax.set_title('Mean Et (ZB2023RunD)')\n",
    "plt.show()\n",
    "\n",
    "fig, ax = plt.subplots(figsize = (10,10))\n",
    "ax = plt.subplot(2, 2, 2)\n",
    "ax = sns.heatmap(EZB_C_mean.reshape(18, 14), vmin = 0, vmax = EZB_C_mean.max(), cmap = \"Purples\", cbar_kws = {'label': 'ET (GeV)'})\n",
    "ax.get_xaxis().set_visible(False)\n",
    "ax.get_yaxis().set_visible(False)\n",
    "ax.set_title('Mean Et (EphemeralZB2023RunC)')\n",
    "plt.show()"
   ]
  },
  {
   "cell_type": "code",
   "execution_count": null,
   "metadata": {},
   "outputs": [],
   "source": [
    "plt.hist(ZB_A.reshape((-1)), bins = 100, range=(0,1024), density=1, label='2023RunA', log = True, histtype='step')\n",
    "plt.hist(ZB_B.reshape((-1)), bins = 100, range=(0,1024), density=1, label='2023RunB', log = True, histtype='step')\n",
    "plt.hist(ZB_C.reshape((-1)), bins = 100, range=(0,1024), density=1, label='2023RunC', log = True, histtype='step')\n",
    "plt.hist(ZB_D.reshape((-1)), bins = 100, range=(0,1024), density=1, label='2023RunD', log = True, histtype='step')\n",
    "plt.hist(EZB_C.reshape((-1)), bins = 100, range=(0,1024), density=1, label='2023EphemeralRunC', log = True, histtype='step')\n",
    "\n",
    "plt.xlabel(\"ZB Et\")\n",
    "plt.legend(loc='best')\n",
    "plt.show()\n",
    "\n",
    "print('Mean ZB2023A pT = ' + str(np.mean(ZB_A.reshape(-1))))\n",
    "print('Mean ZB2023B pT = ' + str(np.mean(ZB_B.reshape(-1))))\n",
    "print('Mean ZB2023C pT = ' + str(np.mean(ZB_C.reshape(-1))))\n",
    "print('Mean ZB2023D pT = ' + str(np.mean(ZB_D.reshape(-1))))\n",
    "print('Mean EphemeralZB2023C pT = ' + str(np.mean(EZB_C.reshape(-1))))"
   ]
  },
  {
   "cell_type": "markdown",
   "metadata": {},
   "source": [
    "# CNN AE (teacher model)"
   ]
  },
  {
   "cell_type": "code",
   "execution_count": null,
   "metadata": {},
   "outputs": [],
   "source": [
    "encoder_input = tf.keras.Input(shape=(18,14,1), name='input')\n",
    "\n",
    "encoder = layers.Conv2D(20, (3,3), strides=1, padding='same', name='conv2d_1')(encoder_input)\n",
    "encoder = layers.Activation('relu', name='relu_1')(encoder)\n",
    "encoder = layers.AveragePooling2D((2,2), name='pool_1')(encoder)\n",
    "encoder = layers.Conv2D(30, (3,3), strides=1, padding='same', name='conv2d_2')(encoder)\n",
    "encoder = layers.Activation('relu', name='relu_2')(encoder)\n",
    "encoder = layers.Flatten(name='flatten')(encoder)\n",
    "\n",
    "encoder_output = layers.Dense(80, activation='relu', name='latent')(encoder)\n",
    "\n",
    "encoder = tf.keras.models.Model(encoder_input, encoder_output)\n",
    "encoder.summary()"
   ]
  },
  {
   "cell_type": "code",
   "execution_count": null,
   "metadata": {},
   "outputs": [],
   "source": [
    "decoder = layers.Dense(9*7*30, name='dense')(encoder_output)\n",
    "decoder = layers.Reshape((9,7,30), name='reshape2')(decoder)\n",
    "decoder = layers.Activation('relu', name='relu_3')(decoder)\n",
    "decoder = layers.Conv2D(30, (3,3), strides=1, padding='same', name='conv2d_3')(decoder)\n",
    "decoder = layers.Activation('relu', name='relu_4')(decoder)\n",
    "decoder = layers.UpSampling2D((2,2), name='upsampling')(decoder)\n",
    "decoder = layers.Conv2D(20, (3,3), strides=1, padding='same', name='conv2d_4')(decoder)\n",
    "decoder = layers.Activation('relu', name='relu_5')(decoder)\n",
    "\n",
    "decoder_output = layers.Conv2D(1, (3,3), activation='relu', strides=1, padding='same', name='output')(decoder)"
   ]
  },
  {
   "cell_type": "code",
   "execution_count": null,
   "metadata": {},
   "outputs": [],
   "source": [
    "teacher = tf.keras.Model(encoder_input, decoder_output)\n",
    "teacher.summary()"
   ]
  },
  {
   "cell_type": "code",
   "execution_count": null,
   "metadata": {},
   "outputs": [],
   "source": [
    "teacher.compile(optimizer = keras.optimizers.Adam(learning_rate=0.001), loss = 'mse')"
   ]
  },
  {
   "cell_type": "markdown",
   "metadata": {},
   "source": [
    "# Training"
   ]
  },
  {
   "cell_type": "code",
   "execution_count": null,
   "metadata": {
    "scrolled": true
   },
   "outputs": [],
   "source": [
    "history = teacher.fit(X_train, X_train,\n",
    "                      epochs = 40,\n",
    "                      validation_data = (X_val, X_val),\n",
    "                      batch_size = 128)"
   ]
  },
  {
   "cell_type": "code",
   "execution_count": null,
   "metadata": {},
   "outputs": [],
   "source": [
    "plt.figure(figsize = (15,10))\n",
    "axes = plt.subplot(2, 2, 1)\n",
    "axes.plot(history.history['loss'], label = 'train loss')\n",
    "axes.plot(history.history['val_loss'], label = 'val loss')\n",
    "axes.legend(loc = \"upper right\")\n",
    "axes.set_xlabel('Epoch')\n",
    "axes.set_ylabel('Loss')"
   ]
  },
  {
   "cell_type": "markdown",
   "metadata": {},
   "source": [
    "# Save/load trained models"
   ]
  },
  {
   "cell_type": "code",
   "execution_count": null,
   "metadata": {},
   "outputs": [],
   "source": [
    "teacher.save('saved_models/teacher2023_aug1')"
   ]
  },
  {
   "cell_type": "code",
   "execution_count": null,
   "metadata": {},
   "outputs": [],
   "source": [
    "teacher = tf.keras.models.load_model('saved_models/teacher2023_aug1')\n",
    "teacher.summary()"
   ]
  },
  {
   "cell_type": "code",
   "execution_count": null,
   "metadata": {},
   "outputs": [],
   "source": [
    "#student.save('saved_models/student2023_aug1_v1/')\n",
    "student.save('saved_models/student2023_aug1_v2/')"
   ]
  },
  {
   "cell_type": "code",
   "execution_count": null,
   "metadata": {
    "scrolled": true
   },
   "outputs": [],
   "source": [
    "tf.get_logger().setLevel('ERROR')\n",
    "#student = qkeras.utils.load_qmodel('saved_models/student2023_aug1_v1') # 2023 v1\n",
    "student = qkeras.utils.load_qmodel('saved_models/student2023_aug1_v2') # 2023 v2\n",
    "student.summary()\n",
    "student.get_config()"
   ]
  },
  {
   "cell_type": "markdown",
   "metadata": {},
   "source": [
    "# Loss distribution"
   ]
  },
  {
   "cell_type": "code",
   "execution_count": null,
   "metadata": {},
   "outputs": [],
   "source": [
    "X_train_predict_teacher = teacher.predict(X_train)\n",
    "X_val_predict_teacher = teacher.predict(X_val)\n",
    "X_test_predict_teacher = teacher.predict(X_test)\n",
    "MC_predict_teacher = []\n",
    "MC_flag_predict_teacher = []\n",
    "for i in range(len(MC)):\n",
    "    MC_predict_teacher.append(teacher.predict(MC[i]))\n",
    "    MC_flag_predict_teacher.append(teacher.predict(MC_flag[i]))"
   ]
  },
  {
   "cell_type": "code",
   "execution_count": null,
   "metadata": {},
   "outputs": [],
   "source": [
    "def loss(y_true, y_pred, choice):\n",
    "    if choice == 'mse':\n",
    "        loss = np.mean((y_true - y_pred)**2, axis = (1,2,3))\n",
    "        return loss"
   ]
  },
  {
   "cell_type": "code",
   "execution_count": null,
   "metadata": {},
   "outputs": [],
   "source": [
    "X_train_loss_teacher = loss(X_train, X_train_predict_teacher, 'mse')\n",
    "X_val_loss_teacher = loss(X_val, X_val_predict_teacher, 'mse')\n",
    "X_test_loss_teacher = loss(X_test, X_test_predict_teacher, 'mse')\n",
    "\n",
    "MC_loss_teacher = []\n",
    "MC_flag_loss_teacher = []\n",
    "for i in range(len(MC)):\n",
    "    MC_loss_teacher.append(loss(MC[i], MC_predict_teacher[i], 'mse'))\n",
    "    MC_flag_loss_teacher.append(loss(MC_flag[i], MC_flag_predict_teacher[i], 'mse'))"
   ]
  },
  {
   "cell_type": "code",
   "execution_count": null,
   "metadata": {},
   "outputs": [],
   "source": [
    "nbins = 80\n",
    "rmin = 0\n",
    "rmax = 100\n",
    "plt.hist(X_train_loss_teacher, density = 1, bins = nbins, alpha = 0.1, label = 'train (ZeroBias)', range = (rmin, rmax), log = True)\n",
    "plt.hist(X_val_loss_teacher, density = 1, bins = nbins, alpha = 0.1, label = 'val (ZeroBias)', range = (rmin, rmax), log = True)\n",
    "plt.hist(X_test_loss_teacher, density = 1, bins = nbins, alpha = 0.1, label = 'test (ZeroBias)', range = (rmin, rmax), log = True)\n",
    "plt.hist(MC_flag_loss_teacher[0], density = 1, bins = nbins, label = 'H_ToLongLived', color='green', histtype = 'step', range = (rmin, rmax))\n",
    "plt.hist(MC_flag_loss_teacher[1], density = 1, bins = nbins, label = 'SUEP', color='red', histtype = 'step', range = (rmin, rmax))\n",
    "plt.hist(MC_flag_loss_teacher[2], density = 1, bins = nbins, label = 'SUSYGGBBH', color='blue', histtype = 'step', range = (rmin, rmax))\n",
    "plt.hist(MC_flag_loss_teacher[3], density = 1, bins = nbins, label = 'TT', color='orange', histtype = 'step', range = (rmin, rmax))\n",
    "plt.hist(MC_flag_loss_teacher[4], density = 1, bins = nbins, label = 'VBFHto2C', color='purple', histtype = 'step', range = (rmin, rmax))\n",
    "plt.legend(loc='center left', bbox_to_anchor=(1, 0.5))\n",
    "plt.xlabel(\"Anomaly score (teacher)\")\n",
    "plt.show()"
   ]
  },
  {
   "cell_type": "markdown",
   "metadata": {},
   "source": [
    "# Comparison between original and reconstructed inputs"
   ]
  },
  {
   "cell_type": "code",
   "execution_count": null,
   "metadata": {
    "scrolled": false
   },
   "outputs": [],
   "source": [
    "#show_ZB = True\n",
    "show_ZB = False\n",
    "n = 3\n",
    "for i in range(280,300):\n",
    "    fig, ax = plt.subplots(figsize = (17,17))\n",
    "    if show_ZB == True:\n",
    "        print('ZB test\\nloss = ' + str(X_test_loss_teacher[i]))\n",
    "    else:\n",
    "        print(str(MC_files[n]) + '\\nloss = ' + str(MC_flag_loss_teacher[n][i]))\n",
    "    ax = plt.subplot(3, 3, 1)\n",
    "    if show_ZB == True:\n",
    "        ax = sns.heatmap(X_test[i].reshape(18, 14), vmin = 0, vmax = X_test[i].max(), cmap = \"Purples\", cbar_kws = {'label': 'ET (GeV)'})\n",
    "    else:\n",
    "        ax = sns.heatmap(MC_flag[n][i].reshape(18, 14), vmin = 0, vmax = MC_flag[n][i].max(), cmap = \"Purples\", cbar_kws = {'label': 'ET (GeV)'})\n",
    "    ax.get_xaxis().set_visible(False)\n",
    "    ax.get_yaxis().set_visible(False)\n",
    "    ax.set_title('Original')\n",
    "    \n",
    "    ax = plt.subplot(3, 3, 2)\n",
    "    if show_ZB == True:\n",
    "        ax = sns.heatmap(X_test_predict_teacher[i].reshape(18, 14), vmin = 0, vmax = X_test[i].max(), cmap = \"Purples\", cbar_kws = {'label': 'ET (GeV)'})\n",
    "    else:\n",
    "        ax = sns.heatmap(MC_flag_predict_teacher[n][i].reshape(18, 14), vmin = 0, vmax = MC_flag[n][i].max(), cmap = \"Purples\", cbar_kws = {'label': 'ET (GeV)'})\n",
    "    ax.get_xaxis().set_visible(False)\n",
    "    ax.get_yaxis().set_visible(False)\n",
    "    ax.set_title('Reconstructed')\n",
    "    \n",
    "    ax = plt.subplot(3, 3, 3)\n",
    "    if show_ZB == True:\n",
    "        ax = sns.heatmap(np.absolute(X_test_predict_teacher[i].reshape(18, 14) - X_test[i].reshape(18, 14)), vmin = 0, vmax = X_test[i].max(), cmap = \"Purples\", cbar_kws = {'label': 'ET (GeV)'})\n",
    "    else:\n",
    "        ax = sns.heatmap(np.absolute(MC_flag_predict_teacher[n][i].reshape(18, 14) - MC_flag[n][i].reshape(18, 14)), vmin = 0, vmax = MC_flag[n][i].max(), cmap = \"Purples\", cbar_kws = {'label': 'ET (GeV)'})\n",
    "    ax.get_xaxis().set_visible(False)\n",
    "    ax.get_yaxis().set_visible(False)\n",
    "    ax.set_title('abs(original-reconstructed)')\n",
    "\n",
    "    plt.show()"
   ]
  },
  {
   "cell_type": "markdown",
   "metadata": {},
   "source": [
    "# Knowledge Distillation (+ quantizing with QKeras)"
   ]
  },
  {
   "cell_type": "code",
   "execution_count": null,
   "metadata": {},
   "outputs": [],
   "source": [
    "# v1\n",
    "x_in = layers.Input(shape=(252,), name=\"In\")\n",
    "\n",
    "x = QDense(15, kernel_quantizer=quantized_bits(2, 0, 1, alpha=1.0),\n",
    "           use_bias=False, name='dense1')(x_in)\n",
    "x = QBatchNormalization(beta_quantizer=quantized_bits(10, 2, 1, alpha='auto'),\n",
    "                        gamma_quantizer=quantized_bits(10, 2, 1, alpha='auto'),\n",
    "                        mean_quantizer=quantized_bits(10, 2, 1, alpha='auto'),\n",
    "                        variance_quantizer=quantized_bits(10, 2, 1, alpha='auto'),\n",
    "                        name = 'QBN1')(x)\n",
    "x = QActivation('quantized_relu(5, 2)', name='relu1')(x)\n",
    "x = QDense(1, kernel_quantizer=quantized_bits(4, 0, 1, alpha=1.0),\n",
    "           use_bias=False, name='output')(x)\n",
    "\n",
    "student = tf.keras.models.Model(x_in, x)\n",
    "student.summary()\n",
    "student.compile(optimizer = 'adam', loss = 'mse')"
   ]
  },
  {
   "cell_type": "code",
   "execution_count": null,
   "metadata": {},
   "outputs": [],
   "source": [
    "# v2\n",
    "x_in = layers.Input(shape=(252,), name=\"In\")\n",
    "x = layers.Reshape((18,14,1), name='reshape')(x_in)\n",
    "\n",
    "x = QConv2D(3,(3,3), strides=2, padding=\"valid\", use_bias=False,\n",
    "            kernel_quantizer=quantized_bits(16,4,1,alpha='auto'), name='conv')(x)\n",
    "x = QActivation('quantized_relu(16,4)', name='relu1')(x)\n",
    "x = layers.Flatten(name='flatten')(x)\n",
    "x = QDense(20, kernel_quantizer=quantized_bits(16,4,1,alpha='auto'),\n",
    "           use_bias=False, name='dense1')(x)\n",
    "x = QActivation('quantized_relu(16,4)', name='relu2')(x)\n",
    "x = QDense(1, kernel_quantizer=quantized_bits(16,2,1,alpha='auto'),\n",
    "           use_bias=False, name='output')(x)\n",
    "\n",
    "student = tf.keras.models.Model(x_in, x)\n",
    "student.summary()\n",
    "student.compile(optimizer = 'adam', loss = 'mse')"
   ]
  },
  {
   "cell_type": "code",
   "execution_count": null,
   "metadata": {
    "scrolled": true
   },
   "outputs": [],
   "source": [
    "history = student.fit(X_train.reshape((-1,252,1)), X_train_loss_teacher,\n",
    "                      epochs = 30,\n",
    "                      validation_data = (X_val.reshape((-1,252,1)), X_val_loss_teacher),\n",
    "                      batch_size = 1024)"
   ]
  },
  {
   "cell_type": "code",
   "execution_count": null,
   "metadata": {},
   "outputs": [],
   "source": [
    "plt.figure(figsize = (15,10))\n",
    "axes = plt.subplot(2, 2, 1)\n",
    "axes.plot(history.history['loss'], label = 'train loss')\n",
    "#axes.set_yscale(value = \"log\")\n",
    "axes.plot(history.history['val_loss'], label = 'val loss')\n",
    "axes.legend(loc = \"upper right\")\n",
    "axes.set_xlabel('Epoch')\n",
    "axes.set_ylabel('Loss')"
   ]
  },
  {
   "cell_type": "code",
   "execution_count": null,
   "metadata": {},
   "outputs": [],
   "source": [
    "X_train_loss_student = student.predict(X_train.reshape((-1,252,1)))\n",
    "X_val_loss_student = student.predict(X_val.reshape((-1,252,1)))\n",
    "X_test_loss_student = student.predict(X_test.reshape((-1,252,1)))\n",
    "MC_loss_student = []\n",
    "MC_flag_loss_student = []\n",
    "for i in range(len(MC)):\n",
    "    MC_loss_student.append(student.predict(MC[i].reshape((-1,252,1))))\n",
    "    MC_flag_loss_student.append(student.predict(MC_flag[i].reshape((-1,252,1))))"
   ]
  },
  {
   "cell_type": "code",
   "execution_count": null,
   "metadata": {},
   "outputs": [],
   "source": [
    "nbins = 60\n",
    "rmin = 0\n",
    "rmax = 60\n",
    "#plt.hist(X_train_loss_student, density = 1, bins = nbins, alpha = 0.1, label = 'ZB23train', range = (rmin, rmax), log = True)\n",
    "#plt.hist(X_val_loss_student, density = 1, bins = nbins, alpha = 0.1, label = 'ZB23val', range = (rmin, rmax), log = True)\n",
    "plt.hist(X_test_loss_student, density = 1, bins = nbins, alpha = 0.1, label = 'ZB23', range = (rmin, rmax), log = True)\n",
    "plt.hist(MC_flag_loss_student[0], density = 1, bins = nbins, label = 'H_ToLongLived', color='green', histtype = 'step', range = (rmin, rmax))\n",
    "plt.hist(MC_flag_loss_student[1], density = 1, bins = nbins, label = 'SUEP', color='red', histtype = 'step', range = (rmin, rmax))\n",
    "plt.hist(MC_flag_loss_student[2], density = 1, bins = nbins, label = 'SUSYGGBBH', color='blue', histtype = 'step', range = (rmin, rmax))\n",
    "plt.hist(MC_flag_loss_student[3], density = 1, bins = nbins, label = 'TT', color='orange', histtype = 'step', range = (rmin, rmax))\n",
    "plt.hist(MC_flag_loss_student[4], density = 1, bins = nbins, label = 'VBFHto2C', color='purple', histtype = 'step', range = (rmin, rmax))\n",
    "#plt.legend(loc='center left', bbox_to_anchor=(1, 0.5))\n",
    "#plt.legend(loc='center left', bbox_to_anchor=(0.57, 0.5))\n",
    "plt.title('CICADA_v3_v2')\n",
    "plt.legend(loc='best')\n",
    "plt.xlabel(\"Score\")\n",
    "#plt.xticks(np.arange(rmin, rmax, step = 0.0002))\n",
    "plt.show()"
   ]
  },
  {
   "cell_type": "code",
   "execution_count": null,
   "metadata": {},
   "outputs": [],
   "source": [
    "X_test_A_loss_student = student.predict(X_A.reshape((-1,252,1)))\n",
    "X_test_B_loss_student = student.predict(X_B.reshape((-1,252,1)))\n",
    "X_test_C_loss_student = student.predict(X_C.reshape((-1,252,1)))\n",
    "X_test_D_loss_student = student.predict(X_D.reshape((-1,252,1)))\n",
    "X_test_EphC_loss_student = student.predict(X_EphC.reshape((-1,252,1)))"
   ]
  },
  {
   "cell_type": "code",
   "execution_count": null,
   "metadata": {},
   "outputs": [],
   "source": [
    "nbins = 100\n",
    "rmin = 0\n",
    "rmax = 25\n",
    "plt.hist(X_test_A_loss_student, density = 1, bins = nbins, label = 'ZB23A', range = (rmin, rmax), log = True, histtype = 'step')\n",
    "plt.hist(X_test_B_loss_student, density = 1, bins = nbins, label = 'ZB23B', range = (rmin, rmax), log = True, histtype = 'step')\n",
    "plt.hist(X_test_C_loss_student, density = 1, bins = nbins, label = 'ZB23C', range = (rmin, rmax), log = True, histtype = 'step')\n",
    "plt.hist(X_test_D_loss_student, density = 1, bins = nbins, label = 'ZB23D', range = (rmin, rmax), log = True, histtype = 'step')\n",
    "plt.hist(X_test_EphC_loss_student, density = 1, bins = nbins, label = 'EZB23C', range = (rmin, rmax), log = True, histtype = 'step')\n",
    "plt.legend(loc='center left', bbox_to_anchor=(1, 0.5))\n",
    "plt.legend(loc='center left', bbox_to_anchor=(0.57, 0.5))\n",
    "plt.title('CICADA_v3_v2, scores on different ZB runs')\n",
    "plt.legend(loc='best')\n",
    "plt.xlabel(\"Score\")\n",
    "#plt.xticks(np.arange(rmin, rmax, step = 0.0002))\n",
    "plt.show()"
   ]
  },
  {
   "cell_type": "markdown",
   "metadata": {},
   "source": [
    "# ROC plotting"
   ]
  },
  {
   "cell_type": "markdown",
   "metadata": {},
   "source": [
    "### Assigning labels and arranging for ROC plotting"
   ]
  },
  {
   "cell_type": "code",
   "execution_count": null,
   "metadata": {},
   "outputs": [],
   "source": [
    "signal_acceptance_flag = True\n",
    "\n",
    "#Assign labels for various signals (y = 1) and backgrounds (y = 0)\n",
    "Y_bkg = np.zeros((X_test.shape[0], 1))\n",
    "Y_sig = []\n",
    "for i in range(len(MC)):\n",
    "    if signal_acceptance_flag == False:\n",
    "        Y_sig.append(np.ones((MC[i].shape[0], 1)))\n",
    "    else:\n",
    "        Y_sig.append(np.ones((MC_flag[i].shape[0], 1)))\n",
    "\n",
    "#Concatenate datasets to make ROC curves\n",
    "\n",
    "#True labels\n",
    "Y_true = []\n",
    "#Model scores\n",
    "Y_teacher = []\n",
    "Y_student = []\n",
    "\n",
    "for i in range(len(MC)):\n",
    "    if signal_acceptance_flag == False:\n",
    "        Y_true.append(np.concatenate((Y_sig[i], Y_bkg)))\n",
    "        Y_teacher.append(np.concatenate((MC_loss_teacher[i], X_test_loss_teacher)))\n",
    "        Y_student.append(np.concatenate((MC_loss_student[i], X_test_loss_student)))\n",
    "    else:\n",
    "        Y_true.append(np.concatenate((Y_sig[i], Y_bkg)))\n",
    "        Y_teacher.append(np.concatenate((MC_flag_loss_teacher[i], X_test_loss_teacher)))\n",
    "        Y_student.append(np.concatenate((MC_flag_loss_student[i], X_test_loss_student)))"
   ]
  },
  {
   "cell_type": "markdown",
   "metadata": {},
   "source": [
    "### Teacher model ROC"
   ]
  },
  {
   "cell_type": "code",
   "execution_count": null,
   "metadata": {},
   "outputs": [],
   "source": [
    "plt.figure(figsize = (13, 13))\n",
    "axes = plt.subplot(2, 2, 1)\n",
    "fpr_teacher = []\n",
    "tpr_teacher = []\n",
    "thresholds_teacher = []\n",
    "roc_auc_teacher = []\n",
    "for i in range(len(MC)):\n",
    "    fpr_teacher.append(np.empty((Y_true[i].shape[0],1)))\n",
    "    tpr_teacher.append(np.empty((Y_true[i].shape[0],1)))\n",
    "    thresholds_teacher.append(np.empty((Y_true[i].shape[0],1)))\n",
    "    roc_auc_teacher.append(np.empty((Y_true[i].shape[0],1)))\n",
    "    fpr_teacher[i], tpr_teacher[i], thresholds_teacher[i] = roc_curve(Y_true[i], Y_teacher[i])\n",
    "    roc_auc_teacher[i] = auc(fpr_teacher[i], tpr_teacher[i])\n",
    "    fpr_teacher[i] *= 28.61\n",
    "    if i == 0:\n",
    "        axes.plot(fpr_teacher[0], tpr_teacher[0], linestyle = '-', lw = 1.5, color = 'green', label = 'H_ToLongLived (AUC = %.5f)' % (roc_auc_teacher[0]))\n",
    "    if i == 1:\n",
    "        axes.plot(fpr_teacher[1], tpr_teacher[1], linestyle = '-', lw = 1.5, color = 'red', label = 'SUEP (AUC = %.5f)' % (roc_auc_teacher[1]))\n",
    "    if i == 2:\n",
    "        axes.plot(fpr_teacher[2], tpr_teacher[2], linestyle = '-', lw = 1.5, color = 'blue', label = 'SUSYGGBBH (AUC = %.5f)' % (roc_auc_teacher[2]))\n",
    "    if i == 3:\n",
    "        axes.plot(fpr_teacher[3], tpr_teacher[3], linestyle = '-', lw = 1.5, color = 'orange', label = 'TT (AUC = %.5f)' % (roc_auc_teacher[3]))\n",
    "    if i == 4:\n",
    "        axes.plot(fpr_teacher[4], tpr_teacher[4], linestyle = '-', lw = 1.5, color = 'purple', label = 'VBFHto2C (AUC = %.5f)' % (roc_auc_teacher[4]))\n",
    "axes.plot([0.003, 0.003], [0, 1], linestyle = '--', lw = 1, color = 'black', label = 'Trigger rate = 3 kHz')\n",
    "#axes.set_xlim([0.00002861, 28.61])\n",
    "axes.set_xlim([0.0001, 28.61])\n",
    "axes.set_ylim([0.000001, 1.0])\n",
    "axes.set_xscale(value = \"log\")\n",
    "axes.set_yscale(value = \"log\")\n",
    "axes.set_xlabel('Trigger Rate (MHz)',size=15)\n",
    "axes.set_ylabel('Signal Efficiency',size=15)\n",
    "axes.set_title('Teacher Network',size=15)\n",
    "#axes.legend(loc='center left', bbox_to_anchor = (0.3, 0.3),fontsize=12)\n",
    "axes.legend(loc='center left', bbox_to_anchor=(0.26, 0.3),fontsize=12)\n",
    "plt.show()"
   ]
  },
  {
   "cell_type": "markdown",
   "metadata": {},
   "source": [
    "### Student model ROC"
   ]
  },
  {
   "cell_type": "code",
   "execution_count": null,
   "metadata": {},
   "outputs": [],
   "source": [
    "plt.figure(figsize = (13, 13))\n",
    "axes = plt.subplot(2, 2, 1)\n",
    "fpr_student = []\n",
    "tpr_student = []\n",
    "thresholds_student = []\n",
    "roc_auc_student = []\n",
    "\n",
    "for i in range(len(MC)):\n",
    "    fpr_student.append(np.empty((Y_true[i].shape[0],1)))\n",
    "    tpr_student.append(np.empty((Y_true[i].shape[0],1)))\n",
    "    thresholds_student.append(np.empty((Y_true[i].shape[0],1)))\n",
    "    roc_auc_student.append(np.empty((Y_true[i].shape[0],1)))\n",
    "    fpr_student[i], tpr_student[i], thresholds_student[i] = roc_curve(Y_true[i], Y_student[i])\n",
    "    roc_auc_student[i] = auc(fpr_student[i], tpr_student[i])\n",
    "    fpr_student[i] *= 28.61\n",
    "    if i == 0:\n",
    "        axes.plot(fpr_student[0], tpr_student[0], linestyle = '-', lw = 1.5, color = 'green', label = 'H_ToLongLived (AUC = %.5f)' % (roc_auc_student[0]))\n",
    "    if i == 1:\n",
    "        axes.plot(fpr_student[1], tpr_student[1], linestyle = '-', lw = 1.5, color = 'red', label = 'SUEP (AUC = %.5f)' % (roc_auc_student[1]))\n",
    "    if i == 2:\n",
    "        axes.plot(fpr_student[2], tpr_student[2], linestyle = '-', lw = 1.5, color = 'blue', label = 'SUSYGGBBH (AUC = %.5f)' % (roc_auc_student[2]))\n",
    "    if i == 3:\n",
    "        axes.plot(fpr_student[3], tpr_student[3], linestyle = '-', lw = 1.5, color = 'orange', label = 'TT (AUC = %.5f)' % (roc_auc_student[3]))\n",
    "    if i == 4:\n",
    "        axes.plot(fpr_student[4], tpr_student[4], linestyle = '-', lw = 1.5, color = 'purple', label = 'VBFHto2C (AUC = %.5f)' % (roc_auc_student[4]))\n",
    "axes.plot([0.003, 0.003], [0, 1], linestyle = '--', lw = 1, color = 'black', label = 'Trigger rate = 3 kHz')\n",
    "#axes.set_xlim([0.00002861, 28.61])\n",
    "axes.set_xlim([0.0001, 28.61])\n",
    "axes.set_ylim([0.000001, 1])\n",
    "axes.set_xscale(value = \"log\")\n",
    "axes.set_yscale(value = \"log\")\n",
    "axes.set_xlabel('Trigger Rate (MHz)',size=15)\n",
    "axes.set_ylabel('Signal Efficiency',size=15)\n",
    "axes.set_title('CICADA_v3_v2, signal(Run3) vs ZB(2023)',size=15)\n",
    "axes.legend(loc='center left', bbox_to_anchor = (0.26, 0.3),fontsize=12)\n",
    "#axes.legend(loc='center left', bbox_to_anchor=(1, 0.3),fontsize=12)\n",
    "plt.show()"
   ]
  },
  {
   "cell_type": "markdown",
   "metadata": {},
   "source": [
    "# cross-validation"
   ]
  },
  {
   "cell_type": "code",
   "execution_count": null,
   "metadata": {},
   "outputs": [],
   "source": [
    "signal_acceptance_flag = True\n",
    "\n",
    "Y_bkg = np.zeros((X_test.shape[0], 1))\n",
    "Y_sig = []\n",
    "for i in range(len(MC)):\n",
    "    if signal_acceptance_flag == False:\n",
    "        Y_sig.append(np.ones((MC[i].shape[0], 1)))\n",
    "    else:\n",
    "        Y_sig.append(np.ones((MC_flag[i].shape[0], 1)))\n",
    "        \n",
    "Y_true = []\n",
    "Y_student = []\n",
    "\n",
    "for i in range(len(MC)):\n",
    "    if signal_acceptance_flag == False:\n",
    "        Y_true.append(np.concatenate((Y_sig[i], Y_bkg)))\n",
    "        Y_student.append(np.concatenate((MC_loss_student[i], X_test_loss_student)))\n",
    "    else:\n",
    "        Y_true.append(np.concatenate((Y_sig[i], Y_bkg)))\n",
    "        Y_student.append(np.concatenate((MC_flag_loss_student[i], X_test_loss_student)))\n",
    "\n",
    "def kfold(y, k):\n",
    "    N=y.shape[0]\n",
    "    n=np.floor(N/k).astype(int)\n",
    "    y_kf=[]\n",
    "    for i in range(k):\n",
    "        y_kf.append(y[i*n : (i+1)*n])\n",
    "    return y_kf\n",
    "\n",
    "kf=10\n",
    "X_test_loss_model = X_test_loss_student\n",
    "Y_model = Y_student\n",
    "if signal_acceptance_flag == False:\n",
    "    MC_loss_model = MC_loss_student\n",
    "else:\n",
    "    MC_loss_model = MC_flag_loss_student\n",
    "\n",
    "X_test_loss_model_kf=kfold(X_test_loss_model,kf)\n",
    "Y_bkg_kf=kfold(Y_bkg,kf)\n",
    "\n",
    "plt.figure(figsize = (16, 16))\n",
    "axes = plt.subplot(2, 2, 1)\n",
    "\n",
    "fpr = []\n",
    "tpr = []\n",
    "thresholds = []\n",
    "roc_auc = []\n",
    "\n",
    "for j in range(len(MC)):\n",
    "    fpr.append(np.empty((Y_true[j].shape[0],1)))\n",
    "    tpr.append(np.empty((Y_true[j].shape[0],1)))\n",
    "    thresholds.append(np.empty((Y_true[j].shape[0],1)))\n",
    "    roc_auc.append(np.empty((Y_true[j].shape[0],1)))\n",
    "    fpr[j], tpr[j], thresholds[j] = roc_curve(Y_true[j], Y_model[j])\n",
    "    roc_auc[j] = auc(fpr[j], tpr[j])\n",
    "    fpr[j] *= 28.61\n",
    "    \n",
    "    MC_loss_model_kf=kfold(MC_loss_model[j],kf)\n",
    "    Y_sig_kf=kfold(Y_sig[j],kf)\n",
    "\n",
    "    Y_true_kf=[]\n",
    "    Y_model_kf=[]\n",
    "    for i in range(kf):\n",
    "        Y_true_kf.append(np.concatenate((Y_sig_kf[i],Y_bkg_kf[i])))\n",
    "        Y_model_kf.append((np.concatenate((MC_loss_model_kf[i],X_test_loss_model_kf[i]))))\n",
    "\n",
    "    fpr_mean=np.linspace(0,1,10000000)\n",
    "    tpr_kf=[]\n",
    "    fpr_kf=[]\n",
    "    thresholds_kf=[]\n",
    "    roc_auc_kf=[]\n",
    "    for i in range(kf):\n",
    "        tpr_kf.append(np.empty((Y_true_kf[i].shape[0],1)))\n",
    "        fpr_kf.append(np.empty((Y_true_kf[i].shape[0],1)))\n",
    "        thresholds_kf.append(np.empty((Y_true_kf[i].shape[0],1)))\n",
    "        roc_auc_kf.append(np.empty((Y_true_kf[i].shape[0],1)))\n",
    "        fpr_kf[i], tpr_kf[i], thresholds_kf[i] = roc_curve(Y_true_kf[i], Y_model_kf[i])\n",
    "        roc_auc_kf[i] = auc(fpr_kf[i], tpr_kf[i])\n",
    "\n",
    "    tpr_total=[]\n",
    "    for i in range(kf):\n",
    "        interp_tpr=np.interp(fpr_mean, fpr_kf[i], tpr_kf[i])\n",
    "        interp_tpr[0]=0.0\n",
    "        tpr_total.append(interp_tpr)\n",
    "    tpr_mean=np.mean(tpr_total, axis=0)\n",
    "    tpr_mean[-1]=1.0\n",
    "    roc_auc_mean=auc(fpr_mean,tpr_mean)\n",
    "    roc_auc_std=np.std(roc_auc_kf)\n",
    "    \n",
    "    tpr_std=np.std(tpr_total, axis=0)\n",
    "    tpr_up=np.minimum(tpr_mean+tpr_std,1)\n",
    "    tpr_down=np.maximum(tpr_mean-tpr_std,0)\n",
    "\n",
    "    fpr_mean *= 28.61\n",
    "    \n",
    "    if j == 0:\n",
    "        axes.plot(fpr_mean, tpr_mean, linestyle = '-', lw = 1.5, color = 'green', label = 'H_ToLongLived (AUC = %.5f $\\pm$ %0.5f)' % (roc_auc_mean, roc_auc_std))\n",
    "        axes.fill_between(fpr_mean, tpr_down, tpr_up, color='green', alpha=0.1)\n",
    "    if j == 1:\n",
    "        axes.plot(fpr_mean, tpr_mean, linestyle = '-', lw = 1.5, color = 'red', label = 'SUEP (AUC = %.5f $\\pm$ %0.5f)' % (roc_auc_mean, roc_auc_std))\n",
    "        axes.fill_between(fpr_mean, tpr_down, tpr_up, color='red', alpha=0.1)\n",
    "    if j == 2:\n",
    "        axes.plot(fpr_mean, tpr_mean, linestyle = '-', lw = 1.5, color = 'blue', label = 'SUSYGGBBH (AUC = %.5f $\\pm$ %0.5f)' % (roc_auc_mean, roc_auc_std))\n",
    "        axes.fill_between(fpr_mean, tpr_down, tpr_up, color='blue', alpha=0.1)\n",
    "    if j == 3:\n",
    "        axes.plot(fpr_mean, tpr_mean, linestyle = '-', lw = 1.5, color = 'orange', label = 'TT (AUC = %.5f $\\pm$ %0.5f)' % (roc_auc_mean, roc_auc_std))\n",
    "        axes.fill_between(fpr_mean, tpr_down, tpr_up, color='orange', alpha=0.1)\n",
    "    if j == 4:\n",
    "        axes.plot(fpr_mean, tpr_mean, linestyle = '-', lw = 1.5, color = 'purple', label = 'VBFHto2C (AUC = %.5f $\\pm$ %0.5f)' % (roc_auc_mean, roc_auc_std))\n",
    "        axes.fill_between(fpr_mean, tpr_down, tpr_up, color='purple', alpha=0.1)\n",
    "\n",
    "axes.plot([0.003, 0.003], [0, 1], linestyle = '--', lw = 1, color = 'black', label = 'Trigger rate = 3 kHz')\n",
    "axes.set_xlim([0.0001, 28.61])\n",
    "axes.set_ylim([0.000001, 1])\n",
    "axes.set_xscale(value = \"log\")\n",
    "axes.set_yscale(value = \"log\")\n",
    "axes.set_xlabel('Trigger Rate (MHz)',size=17)\n",
    "axes.set_ylabel('Signal Efficiency',size=17)\n",
    "axes.set_title('CICADA_v3_v2, signal(Run3) vs ZB(2023)',size=17)\n",
    "axes.legend(loc='center left', bbox_to_anchor = (0.28, 0.3),fontsize=11)\n",
    "plt.show()"
   ]
  },
  {
   "cell_type": "code",
   "execution_count": null,
   "metadata": {},
   "outputs": [],
   "source": []
  }
 ],
 "metadata": {
  "kernelspec": {
   "display_name": "Python 3 (ipykernel)",
   "language": "python",
   "name": "python3"
  },
  "language_info": {
   "codemirror_mode": {
    "name": "ipython",
    "version": 3
   },
   "file_extension": ".py",
   "mimetype": "text/x-python",
   "name": "python",
   "nbconvert_exporter": "python",
   "pygments_lexer": "ipython3",
   "version": "3.9.12"
  }
 },
 "nbformat": 4,
 "nbformat_minor": 4
}
