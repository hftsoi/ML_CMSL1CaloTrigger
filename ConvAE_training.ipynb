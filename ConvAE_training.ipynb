{
 "cells": [
  {
   "cell_type": "markdown",
   "metadata": {},
   "source": [
    "# Convolutional Autoencoder Training for Anomaly Detection @ L1Trigger"
   ]
  },
  {
   "cell_type": "markdown",
   "metadata": {},
   "source": [
    "# Packages"
   ]
  },
  {
   "cell_type": "code",
   "execution_count": 1,
   "metadata": {},
   "outputs": [],
   "source": [
    "import h5py\n",
    "import numpy as np\n",
    "import pandas as pd\n",
    "import tensorflow as tf\n",
    "import matplotlib.pyplot as plt\n",
    "import seaborn as sns\n",
    "from sklearn.model_selection import train_test_split\n",
    "from sklearn.preprocessing import StandardScaler\n",
    "from tensorflow import keras\n",
    "from tensorflow.keras import layers, models\n",
    "from sklearn.metrics import roc_curve, auc\n",
    "import tensorflow_probability as tfp\n",
    "\n",
    "import keras_tuner\n",
    "from keras_tuner import Hyperband\n",
    "\n",
    "import joblib"
   ]
  },
  {
   "cell_type": "markdown",
   "metadata": {},
   "source": [
    "# Input files reading"
   ]
  },
  {
   "cell_type": "markdown",
   "metadata": {},
   "source": [
    "All input files are already sorted in Calo regions (i, j) ~ (18, 14)<br>\n",
    "Where i = 0 -> 17 corresponds to GCT_Phi = 0 -> 17<br>\n",
    "Where j = 0 -> 13 corresponds to RCT_Eta = 4 -> 17\n",
    "\n",
    "Keep this ordering as is when feeding into neural nets. Also keep this in mind when generating/preparing new samples."
   ]
  },
  {
   "cell_type": "markdown",
   "metadata": {},
   "source": [
    "Zerobias and MC signal files:"
   ]
  },
  {
   "cell_type": "code",
   "execution_count": 2,
   "metadata": {
    "scrolled": true
   },
   "outputs": [
    {
     "name": "stdout",
     "output_type": "stream",
     "text": [
      "ZeroBias shape: (500000, 18, 14, 3)\n",
      "i = 0: (500000, 18, 14, 3)\n",
      "i = 1: (500000, 18, 14, 3)\n",
      "i = 2: (500000, 18, 14, 3)\n",
      "i = 3: (300000, 18, 14, 3)\n",
      "i = 4: (100000, 18, 14, 3)\n",
      "i = 5: (500000, 18, 14, 3)\n",
      "i = 6: (98600, 18, 14, 3)\n"
     ]
    }
   ],
   "source": [
    "'''\n",
    "ZeroBiasA0 = h5py.File('bkg/ZeroBias2018RunA_0.h5', 'r')\n",
    "ZeroBiasA1 = h5py.File('bkg/ZeroBias2018RunA_1.h5', 'r')\n",
    "ZeroBiasA2 = h5py.File('bkg/ZeroBias2018RunA_2.h5', 'r')\n",
    "ZeroBiasA0 = np.stack((ZeroBiasA0['CaloRegions'][:].astype('float32'),\n",
    "                       (~ZeroBiasA0['ElectronBit'][:]+2).astype('float32'),\n",
    "                       (~ZeroBiasA0['TauBit'][:]+2).astype('float32')))\n",
    "ZeroBiasA1 = np.stack((ZeroBiasA1['CaloRegions'][:].astype('float32'),\n",
    "                       (~ZeroBiasA1['ElectronBit'][:]+2).astype('float32'),\n",
    "                       (~ZeroBiasA1['TauBit'][:]+2).astype('float32')))\n",
    "ZeroBiasA2 = np.stack((ZeroBiasA2['CaloRegions'][:].astype('float32'),\n",
    "                       (~ZeroBiasA2['ElectronBit'][:]+2).astype('float32'),\n",
    "                       (~ZeroBiasA2['TauBit'][:]+2).astype('float32')))\n",
    "ZeroBiasA0 = np.moveaxis(ZeroBiasA0, 0, -1)\n",
    "ZeroBiasA1 = np.moveaxis(ZeroBiasA1, 0, -1)\n",
    "ZeroBiasA2 = np.moveaxis(ZeroBiasA2, 0, -1)\n",
    "ZeroBiasA = np.concatenate((ZeroBiasA0, ZeroBiasA1, ZeroBiasA2))\n",
    "del ZeroBiasA0\n",
    "del ZeroBiasA1\n",
    "del ZeroBiasA2\n",
    "'''\n",
    "\n",
    "ZeroBias = h5py.File('bkg/EphemeralZeroBias2018RunD_1.h5', 'r')\n",
    "ZeroBias = np.stack((ZeroBias['CaloRegions'][:500000].astype('float32'),\n",
    "                     ZeroBias['EGBit'][:500000].astype('float32'),\n",
    "                     ZeroBias['TauBit'][:500000].astype('float32')))\n",
    "ZeroBias = np.moveaxis(ZeroBias, 0, -1)\n",
    "\n",
    "print('ZeroBias shape: ' + str(ZeroBias.shape))\n",
    "\n",
    "MC_files = []\n",
    "MC_files.append('bkg/110X/QCD_Pt-15to7000_TuneCP5_Flat_14TeV_0.h5')#i=0\n",
    "MC_files.append('bkg/120X/SingleNeutrino_E-10-gun_0.h5')#i=1\n",
    "MC_files.append('bkg/120X/SingleNeutrino_Pt-2To20-gun_0.h5')#i=2\n",
    "'''\n",
    "MC_files.append('sig/110X/GluGluToHHTo4B_node_SM_TuneCP5_14TeV.h5')#i=3\n",
    "MC_files.append('sig/110X/HTo2LongLivedTo4mu_MH-1000_MFF-450_CTau-10000mm_TuneCP5_14TeV.h5')\n",
    "MC_files.append('sig/110X/HTo2LongLivedTo4mu_MH-125_MFF-12_CTau-900mm_TuneCP5_14TeV.h5')\n",
    "MC_files.append('sig/110X/HTo2LongLivedTo4mu_MH-125_MFF-25_CTau-1500mm_TuneCP5_14TeV.h5')\n",
    "MC_files.append('sig/110X/HTo2LongLivedTo4mu_MH-125_MFF-50_CTau-3000mm_TuneCP5_14TeV.h5')\n",
    "MC_files.append('sig/110X/VBFHToTauTau_M125_TuneCUETP8M1_14TeV.h5')\n",
    "MC_files.append('sig/110X/VBF_HH_CV_1_C2V_1_C3_1_TuneCP5_PSweights_14TeV.h5')\n",
    "MC_files.append('sig/110X/VBF_HToInvisible_M125_TuneCUETP8M1_14TeV.h5')\n",
    "MC_files.append('sig/110X/VectorZPrimeToQQ_M100_pT300_TuneCP5_14TeV.h5')\n",
    "MC_files.append('sig/110X/VectorZPrimeToQQ_M200_pT300_TuneCP5_14TeV.h5')\n",
    "MC_files.append('sig/110X/VectorZPrimeToQQ_M50_pT300_TuneCP5_14TeV.h5')#i=13\n",
    "MC_files.append('sig/110X/ZprimeToZH_MZprime1000_MZ50_MH80_ZTouds_HTouds_narrow_TuneCP5_14TeV.h5')\n",
    "MC_files.append('sig/110X/ZprimeToZH_MZprime600_MZ50_MH80_ZTouds_HTouds_narrow_TuneCP5_14TeV.h5')\n",
    "MC_files.append('sig/110X/ZprimeToZH_MZprime800_MZ50_MH80_ZTouds_HTouds_narrow_TuneCP5_14TeV.h5')\n",
    "'''\n",
    "\n",
    "MC_files.append('sig/120X/GluGluHToTauTau_M-125_TuneCP5_14TeV.h5')\n",
    "MC_files.append('sig/120X/GluGluToHHTo4B_node_cHHH1_TuneCP5_14TeV.h5')\n",
    "'''\n",
    "MC_files.append('sig/120X/GluGluToHHTo4B_node_cHHH5_TuneCP5_14TeV.h5')\n",
    "MC_files.append('sig/120X/HTo2LongLivedTo4b_MH-1000_MFF-450_CTau-100000mm_TuneCP5_14TeV.h5')\n",
    "MC_files.append('sig/120X/HTo2LongLivedTo4b_MH-1000_MFF-450_CTau-10000mm_TuneCP5_14TeV.h5')\n",
    "MC_files.append('sig/120X/HTo2LongLivedTo4b_MH-125_MFF-12_CTau-9000mm_TuneCP5_14TeV.h5')\n",
    "MC_files.append('sig/120X/HTo2LongLivedTo4b_MH-125_MFF-12_CTau-900mm_TuneCP5_14TeV.h5')#i=23\n",
    "MC_files.append('sig/120X/HTo2LongLivedTo4b_MH-125_MFF-25_CTau-15000mm_TuneCP5_14TeV.h5')\n",
    "MC_files.append('sig/120X/HTo2LongLivedTo4b_MH-125_MFF-25_CTau-1500mm_TuneCP5_14TeV.h5')\n",
    "MC_files.append('sig/120X/HTo2LongLivedTo4b_MH-125_MFF-50_CTau-30000mm_TuneCP5_14TeV.h5')\n",
    "MC_files.append('sig/120X/HTo2LongLivedTo4b_MH-125_MFF-50_CTau-3000mm_TuneCP5_14TeV.h5')\n",
    "MC_files.append('sig/120X/HTo2LongLivedTo4b_MH-250_MFF-120_CTau-10000mm_TuneCP5_14TeV.h5')\n",
    "MC_files.append('sig/120X/HTo2LongLivedTo4b_MH-250_MFF-120_CTau-1000mm_TuneCP5_14TeV.h5')\n",
    "MC_files.append('sig/120X/HTo2LongLivedTo4b_MH-250_MFF-60_CTau-1000mm_TuneCP5_14TeV.h5')\n",
    "MC_files.append('sig/120X/HTo2LongLivedTo4b_MH-350_MFF-160_CTau-10000mm_TuneCP5_14TeV.h5')\n",
    "MC_files.append('sig/120X/HTo2LongLivedTo4b_MH-350_MFF-160_CTau-1000mm_TuneCP5_14TeV.h5')\n",
    "MC_files.append('sig/120X/HTo2LongLivedTo4b_MH-350_MFF-160_CTau-500mm_TuneCP5_14TeV.h5')#i=33\n",
    "MC_files.append('sig/120X/HTo2LongLivedTo4b_MH-350_MFF-80_CTau-10000mm_TuneCP5_14TeV.h5')\n",
    "MC_files.append('sig/120X/HTo2LongLivedTo4b_MH-350_MFF-80_CTau-1000mm_TuneCP5_14TeV.h5')\n",
    "MC_files.append('sig/120X/HTo2LongLivedTo4b_MH-350_MFF-80_CTau-500mm_TuneCP5_14TeV.h5')\n",
    "MC_files.append('sig/120X/HTo2LongLivedTo4mu_MH-1000_MFF-450_CTau-10000mm_TuneCP5_14TeV.h5')\n",
    "MC_files.append('sig/120X/HTo2LongLivedTo4mu_MH-125_MFF-12_CTau-900mm_TuneCP5_14TeV.h5')\n",
    "MC_files.append('sig/120X/HTo2LongLivedTo4mu_MH-125_MFF-25_CTau-1500mm_TuneCP5_14TeV.h5')\n",
    "MC_files.append('sig/120X/HTo2LongLivedTo4mu_MH-125_MFF-50_CTau-3000mm_TuneCP5_14TeV.h5')\n",
    "MC_files.append('sig/120X/SUSYGluGluToBBHToBB_NarrowWidth_M-1200_TuneCP5_13TeV-pythia814TeV.h5')\n",
    "MC_files.append('sig/120X/SUSYGluGluToBBHToBB_NarrowWidth_M-120_TuneCP5_14TeV.h5')\n",
    "MC_files.append('sig/120X/SUSYGluGluToBBHToBB_NarrowWidth_M-350_TuneCP5_14TeV.h5')#i=43\n",
    "MC_files.append('sig/120X/SUSYGluGluToBBHToBB_NarrowWidth_M-600_TuneCP5_14TeV.h5')\n",
    "'''\n",
    "MC_files.append('sig/120X/TT_TuneCP5_14TeV.h5')\n",
    "'''\n",
    "MC_files.append('sig/120X/TprimeBToTH_M-650_LH_TuneCP5_14TeV.h5')\n",
    "MC_files.append('sig/120X/VBFHHTo4B_CV_1_C2V_2_C3_1_TuneCP5_14TeV.h5')\n",
    "MC_files.append('sig/120X/VBFHToInvisible_M125_TuneCP5_14TeV.h5')\n",
    "MC_files.append('sig/120X/VBFHToTauTau_M125_TuneCP5_14TeV.h5')\n",
    "MC_files.append('sig/120X/VectorZPrimeGammaToQQGamma_M-10_GPt-75_TuneCP5_14TeV.h5')\n",
    "MC_files.append('sig/120X/VectorZPrimeToQQ_M-100_Pt-300_TuneCP5_14TeV.h5')\n",
    "MC_files.append('sig/120X/VectorZPrimeToQQ_M-200_Pt-300_TuneCP5_14TeV.h5')#i=52\n",
    "MC_files.append('sig/120X/emj-mMed-800-mDark-10-ctau-0p1.h5')\n",
    "MC_files.append('sig/120X/emj-mMed-800-mDark-10-ctau-1.h5')\n",
    "MC_files.append('sig/120X/emj-mMed-800-mDark-10-ctau-1000.h5')\n",
    "MC_files.append('sig/120X/emj-mMed-800-mDark-10-ctau-150.h5')\n",
    "'''\n",
    "MC_files.append('sig/120X/haa4b_ma15_powheg.h5')\n",
    "'''\n",
    "MC_files.append('sig/120X/haa4b_ma15_powheg_FlatPU0To80.h5')\n",
    "MC_files.append('sig/120X/haa4b_ma50_powheg.h5')\n",
    "MC_files.append('sig/120X/haa4taus_ma15_powheg.h5')\n",
    "'''\n",
    "\n",
    "MC = []\n",
    "for i in range(len(MC_files)):\n",
    "    MC.append(h5py.File(MC_files[i], 'r'))\n",
    "    MC[i] = np.stack((MC[i]['CaloRegions'][:500000].astype('float32'),\n",
    "                      MC[i]['EGBit'][:500000].astype('float32'),\n",
    "                      MC[i]['TauBit'][:500000].astype('float32')))\n",
    "    MC[i] = np.moveaxis(MC[i], 0, -1)\n",
    "    print('i = ' + str(i) + ': ' + str(MC[i].shape))"
   ]
  },
  {
   "cell_type": "markdown",
   "metadata": {},
   "source": [
    "See distributions of EG/Tau bits"
   ]
  },
  {
   "cell_type": "code",
   "execution_count": null,
   "metadata": {
    "scrolled": true
   },
   "outputs": [],
   "source": [
    "table_EGTau_FF = []\n",
    "table_EGTau_TF = []\n",
    "table_EGTau_FT = []\n",
    "table_EGTau_TT = []\n",
    "\n",
    "table_EGTau_FF_pt = []\n",
    "table_EGTau_TF_pt = []\n",
    "table_EGTau_FT_pt = []\n",
    "table_EGTau_TT_pt = []\n",
    "\n",
    "bits = []\n",
    "bits_pt = []\n",
    "for n in range(1000):\n",
    "    for i in range(18):\n",
    "        for j in range(14):\n",
    "            if ZeroBias[n,i,j,1]==0 and ZeroBias[n,i,j,2]==0:\n",
    "                bits.append(1)\n",
    "                if ZeroBias[n,i,j,0]>10:\n",
    "                    bits_pt.append(1)\n",
    "            if ZeroBias[n,i,j,1]==1 and ZeroBias[n,i,j,2]==0:\n",
    "                bits.append(2)\n",
    "                if ZeroBias[n,i,j,0]>10:\n",
    "                    bits_pt.append(2)\n",
    "            if ZeroBias[n,i,j,1]==0 and ZeroBias[n,i,j,2]==1:\n",
    "                bits.append(3)\n",
    "                if ZeroBias[n,i,j,0]>10:\n",
    "                    bits_pt.append(3)\n",
    "            if ZeroBias[n,i,j,1]==1 and ZeroBias[n,i,j,2]==1:\n",
    "                bits.append(4)\n",
    "                if ZeroBias[n,i,j,0]>10:\n",
    "                    bits_pt.append(4)\n",
    "                \n",
    "table_EGTau_FF.append(np.round(bits.count(1)/(len(bits))*100,5))\n",
    "table_EGTau_TF.append(np.round(bits.count(2)/(len(bits))*100,5))\n",
    "table_EGTau_FT.append(np.round(bits.count(3)/(len(bits))*100,5))\n",
    "table_EGTau_TT.append(np.round(bits.count(4)/(len(bits))*100,5))\n",
    "\n",
    "table_EGTau_FF_pt.append(np.round(bits_pt.count(1)/(len(bits))*100,5))\n",
    "table_EGTau_TF_pt.append(np.round(bits_pt.count(2)/(len(bits))*100,5))\n",
    "table_EGTau_FT_pt.append(np.round(bits_pt.count(3)/(len(bits))*100,5))\n",
    "table_EGTau_TT_pt.append(np.round(bits_pt.count(4)/(len(bits))*100,5))\n",
    "\n",
    "for k in range(len(MC_files)):\n",
    "    bits = []\n",
    "    bits_pt = []\n",
    "    for n in range(MC[k].shape[0]):\n",
    "        for i in range(18):\n",
    "            for j in range(14):\n",
    "                if MC[k][n,i,j,1]==0 and MC[k][n,i,j,2]==0:\n",
    "                    bits.append(1)\n",
    "                    if MC[k][n,i,j,0]>10:\n",
    "                        bits_pt.append(1)\n",
    "                if MC[k][n,i,j,1]==1 and MC[k][n,i,j,2]==0:\n",
    "                    bits.append(2)\n",
    "                    if MC[k][n,i,j,0]>10:\n",
    "                        bits_pt.append(2)\n",
    "                if MC[k][n,i,j,1]==0 and MC[k][n,i,j,2]==1:\n",
    "                    bits.append(3)\n",
    "                    if MC[k][n,i,j,0]>10:\n",
    "                        bits_pt.append(3)\n",
    "                if MC[k][n,i,j,1]==1 and MC[k][n,i,j,2]==1:\n",
    "                    bits.append(4)\n",
    "                    if MC[k][n,i,j,0]>10:\n",
    "                        bits_pt.append(4)\n",
    "    \n",
    "    table_EGTau_FF.append(np.round(bits.count(1)/(len(bits))*100,5))\n",
    "    table_EGTau_TF.append(np.round(bits.count(2)/(len(bits))*100,5))\n",
    "    table_EGTau_FT.append(np.round(bits.count(3)/(len(bits))*100,5))\n",
    "    table_EGTau_TT.append(np.round(bits.count(4)/(len(bits))*100,5))\n",
    "    \n",
    "    table_EGTau_FF_pt.append(np.round(bits_pt.count(1)/(len(bits))*100,5))\n",
    "    table_EGTau_TF_pt.append(np.round(bits_pt.count(2)/(len(bits))*100,5))\n",
    "    table_EGTau_FT_pt.append(np.round(bits_pt.count(3)/(len(bits))*100,5))\n",
    "    table_EGTau_TT_pt.append(np.round(bits_pt.count(4)/(len(bits))*100,5))"
   ]
  },
  {
   "cell_type": "code",
   "execution_count": null,
   "metadata": {
    "scrolled": false
   },
   "outputs": [],
   "source": [
    "files_table=[]\n",
    "files_table.append('EphemeralZeroBias2018RunD')\n",
    "for i in range(len(MC_files)):\n",
    "    files_table.append(MC_files[i])\n",
    "\n",
    "table_EGTau = pd.DataFrame({'Both OFF': np.round(table_EGTau_FF,3),\n",
    "                            'EG-only': np.round(table_EGTau_TF,3),\n",
    "                            'Tau-only': np.round(table_EGTau_FT,3),\n",
    "                            'Both ON': np.round(table_EGTau_TT,3)},\n",
    "                            index = files_table)\n",
    "\n",
    "table_EGTau_pt = pd.DataFrame({'pt>10, Both OFF': np.round(table_EGTau_FF_pt,3),\n",
    "                               'pt>10, EG-only': np.round(table_EGTau_TF_pt,3),\n",
    "                               'pt>10, Tau-only': np.round(table_EGTau_FT_pt,3),\n",
    "                               'pt>10, Both ON': np.round(table_EGTau_TT_pt,3)},\n",
    "                               index = files_table)\n",
    "\n",
    "table_EG = pd.DataFrame({'EG OFF': np.round(table_EGTau_FF,2)+np.round(table_EGTau_FT,2),\n",
    "                         'EG ON': np.round(table_EGTau_TF,2)+np.round(table_EGTau_TT,2)},\n",
    "                         index = files_table)\n",
    "\n",
    "table_EG_pt = pd.DataFrame({'pt>10, EG OFF': np.round(table_EGTau_FF_pt,2)+np.round(table_EGTau_FT_pt,2),\n",
    "                            'pt>10, EG ON': np.round(table_EGTau_TF_pt,2)+np.round(table_EGTau_TT_pt,2)},\n",
    "                            index = files_table)\n",
    "\n",
    "table_Tau = pd.DataFrame({'Tau OFF': np.round(table_EGTau_FF,2)+np.round(table_EGTau_TF,2),\n",
    "                          'Tau ON': np.round(table_EGTau_FT,2)+np.round(table_EGTau_TT,2)},\n",
    "                          index = files_table)\n",
    "\n",
    "table_Tau_pt = pd.DataFrame({'pt>10, Tau OFF': np.round(table_EGTau_FF_pt,2)+np.round(table_EGTau_TF_pt,2),\n",
    "                             'pt>10, Tau ON': np.round(table_EGTau_FT_pt,2)+np.round(table_EGTau_TT_pt,2)},\n",
    "                             index = files_table)\n",
    "\n",
    "table_EGTau = table_EGTau.drop(index=[MC_files[0],MC_files[1],MC_files[2]])\n",
    "table_EGTau_pt = table_EGTau_pt.drop(index=[MC_files[0],MC_files[1],MC_files[2]])\n",
    "table_EG = table_EG.drop(index=[MC_files[0],MC_files[1],MC_files[2]])\n",
    "table_EG_pt = table_EG_pt.drop(index=[MC_files[0],MC_files[1],MC_files[2]])\n",
    "table_Tau = table_Tau.drop(index=[MC_files[0],MC_files[1],MC_files[2]])\n",
    "table_Tau_pt = table_Tau_pt.drop(index=[MC_files[0],MC_files[1],MC_files[2]])\n",
    "\n",
    "pd.set_option('display.max_colwidth', None)\n",
    "display(table_EGTau)\n",
    "display(table_EGTau_pt)\n",
    "display(table_EG)\n",
    "display(table_EG_pt)\n",
    "display(table_Tau)\n",
    "display(table_Tau_pt)"
   ]
  },
  {
   "cell_type": "code",
   "execution_count": null,
   "metadata": {},
   "outputs": [],
   "source": [
    "del table_EGTau_FF, table_EGTau_TF, table_EGTau_FT, table_EGTau_TT\n",
    "del table_EGTau_FF_pt, table_EGTau_TF_pt, table_EGTau_FT_pt, table_EGTau_TT_pt\n",
    "del bits, bits_pt\n",
    "del files_table, table_EGTau, table_EGTau_pt, table_EG, table_EG_pt, table_Tau, table_Tau_pt"
   ]
  },
  {
   "cell_type": "code",
   "execution_count": null,
   "metadata": {},
   "outputs": [],
   "source": [
    "@@@@ masking"
   ]
  },
  {
   "cell_type": "code",
   "execution_count": null,
   "metadata": {},
   "outputs": [],
   "source": [
    "ZeroBias_masked = np.empty(shape=ZeroBias.shape, dtype=int)\n",
    "ZeroBias_masked[:,:,:,0] = ZeroBias[:,:,:,0] * (1 - ZeroBias[:,:,:,1]) * (1 - ZeroBias[:,:,:,2])\n",
    "ZeroBias_masked[:,:,:,1] = ZeroBias[:,:,:,0] * ZeroBias[:,:,:,1]\n",
    "ZeroBias_masked[:,:,:,2] = ZeroBias[:,:,:,0] * ZeroBias[:,:,:,2]\n",
    "\n",
    "MC_masked = []\n",
    "for i in range(len(MC_files)):\n",
    "    MC_masked.append(np.empty(shape=MC[i].shape, dtype=int))\n",
    "    MC_masked[i][:,:,:,0] = MC[i][:,:,:,0] * (1 - MC[i][:,:,:,1]) * (1 - MC[i][:,:,:,2])\n",
    "    MC_masked[i][:,:,:,1] = MC[i][:,:,:,0] * MC[i][:,:,:,1]\n",
    "    MC_masked[i][:,:,:,2] = MC[i][:,:,:,0] * MC[i][:,:,:,2]"
   ]
  },
  {
   "cell_type": "markdown",
   "metadata": {},
   "source": [
    "Visualize Et and EG/Tau bits per event"
   ]
  },
  {
   "cell_type": "code",
   "execution_count": null,
   "metadata": {
    "scrolled": false
   },
   "outputs": [],
   "source": [
    "for n in range(1230,1231):\n",
    "    bits = np.empty(shape = (18,14,3), dtype = 'object')\n",
    "    for i in range(18):\n",
    "        for j in range(14):\n",
    "            if ZeroBias[n,i,j,0]==0:\n",
    "                bits[i,j,0] = ' '\n",
    "            if ZeroBias[n,i,j,0]>0:\n",
    "                bits[i,j,0] = ZeroBias[n,i,j,0].astype(int)\n",
    "            if ZeroBias[n,i,j,1]==0:\n",
    "                bits[i,j,1] = ' '\n",
    "            if ZeroBias[n,i,j,1]==1:\n",
    "                bits[i,j,1] = 'EG'\n",
    "            if ZeroBias[n,i,j,2]==0:\n",
    "                bits[i,j,2] = ' '\n",
    "            if ZeroBias[n,i,j,2]==1:\n",
    "                bits[i,j,2] = 'Tau'\n",
    "    \n",
    "    fig, ax = plt.subplots(figsize = (18,18))\n",
    "    ax = plt.subplot(2, 2, 1)\n",
    "    ax = sns.heatmap(ZeroBias[n,:,:,0], vmin = 0, vmax = ZeroBias[n,:,:,0].max(), annot = bits[:,:,0], fmt = '', linewidths = 0.1, cmap = \"Blues\", cbar_kws = {'label': 'ET (GeV)'})\n",
    "    ax.get_xaxis().set_visible(False)\n",
    "    ax.get_yaxis().set_visible(False)\n",
    "    ax.set_title('EphemeralZeroBias2018RunD\\nAnnotation = Et (GeV)')\n",
    "\n",
    "    ax = plt.subplot(2, 2, 2)\n",
    "    ax = sns.heatmap(ZeroBias[n,:,:,0], vmin = 0, vmax = ZeroBias[n,:,:,0].max(), annot = bits[:,:,1], fmt = '', linewidths = 0.1, cmap = \"Blues\", cbar_kws = {'label': 'ET (GeV)'})\n",
    "    ax.get_xaxis().set_visible(False)\n",
    "    ax.get_yaxis().set_visible(False)\n",
    "    ax.set_title('EphemeralZeroBias2018RunD\\nAnnotation = EGamma bit (bool)')\n",
    "    \n",
    "    ax = plt.subplot(2, 2, 3)\n",
    "    ax = sns.heatmap(ZeroBias[n,:,:,0], vmin = 0, vmax = ZeroBias[n,:,:,0].max(), annot = bits[:,:,2], fmt = '', linewidths = 0.1, cmap = \"Blues\", cbar_kws = {'label': 'ET (GeV)'})\n",
    "    ax.get_xaxis().set_visible(False)\n",
    "    ax.get_yaxis().set_visible(False)\n",
    "    ax.set_title('EphemeralZeroBias2018RunD\\nAnnotation = Tau bit (bool)')\n",
    "    \n",
    "    plt.show()\n",
    "    \n",
    "del bits"
   ]
  },
  {
   "cell_type": "code",
   "execution_count": null,
   "metadata": {
    "scrolled": false
   },
   "outputs": [],
   "source": [
    "for n in range(1233,1236):\n",
    "    mask = np.empty(shape = (18,14,3), dtype = 'object')\n",
    "    for i in range(18):\n",
    "        for j in range(14):\n",
    "            if ZeroBias_masked[n,i,j,0]==0:\n",
    "                mask[i,j,0] = ' '\n",
    "            if ZeroBias_masked[n,i,j,0]>0:\n",
    "                mask[i,j,0] = ZeroBias_masked[n,i,j,0]\n",
    "            if ZeroBias_masked[n,i,j,1]==0:\n",
    "                mask[i,j,1] = ' '\n",
    "            if ZeroBias_masked[n,i,j,1]>0:\n",
    "                mask[i,j,1] = ZeroBias_masked[n,i,j,1]\n",
    "            if ZeroBias_masked[n,i,j,2]==0:\n",
    "                mask[i,j,2] = ' '\n",
    "            if ZeroBias_masked[n,i,j,2]>0:\n",
    "                mask[i,j,2] = ZeroBias_masked[n,i,j,2]\n",
    "                \n",
    "    fig, ax = plt.subplots(figsize = (18,18))\n",
    "    ax = plt.subplot(2, 2, 1)\n",
    "    ax = sns.heatmap(ZeroBias_masked[n,:,:,0], vmin = 0, vmax = ZeroBias[n,:,:,0].max(), annot = mask[:,:,0], fmt = '', linewidths = 0.1, cmap = \"Blues\", cbar_kws = {'label': 'ET (GeV)'})\n",
    "    ax.get_xaxis().set_visible(False)\n",
    "    ax.get_yaxis().set_visible(False)\n",
    "    ax.set_title('EphemeralZeroBias2018RunD\\nAnnotation = Et without EG/Tau (GeV)')\n",
    "\n",
    "    ax = plt.subplot(2, 2, 2)\n",
    "    ax = sns.heatmap(ZeroBias_masked[n,:,:,1], vmin = 0, vmax = ZeroBias[n,:,:,0].max(), annot = mask[:,:,1], fmt = '', linewidths = 0.1, cmap = \"Blues\", cbar_kws = {'label': 'ET (GeV)'})\n",
    "    ax.get_xaxis().set_visible(False)\n",
    "    ax.get_yaxis().set_visible(False)\n",
    "    ax.set_title('EphemeralZeroBias2018RunD\\nAnnotation = Et with EGbit (GeV)')\n",
    "    \n",
    "    ax = plt.subplot(2, 2, 3)\n",
    "    ax = sns.heatmap(ZeroBias_masked[n,:,:,2], vmin = 0, vmax = ZeroBias[n,:,:,0].max(), annot = mask[:,:,2], fmt = '', linewidths = 0.1, cmap = \"Blues\", cbar_kws = {'label': 'ET (GeV)'})\n",
    "    ax.get_xaxis().set_visible(False)\n",
    "    ax.get_yaxis().set_visible(False)\n",
    "    ax.set_title('EphemeralZeroBias2018RunD\\nAnnotation = Et with Taubit (GeV)')\n",
    "    \n",
    "    plt.show()\n",
    "del mask"
   ]
  },
  {
   "cell_type": "code",
   "execution_count": null,
   "metadata": {
    "scrolled": false
   },
   "outputs": [],
   "source": [
    "k=4\n",
    "for n in range(193,194):\n",
    "    bits = np.empty(shape = (18,14,3), dtype = 'object')\n",
    "    for i in range(18):\n",
    "        for j in range(14):\n",
    "            if MC[k][n,i,j,0]==0:\n",
    "                bits[i,j,0] = ' '\n",
    "            if MC[k][n,i,j,0]>0:\n",
    "                bits[i,j,0] = MC[k][n,i,j,0].astype(int)\n",
    "            if MC[k][n,i,j,1]==0:\n",
    "                bits[i,j,1] = ' '\n",
    "            if MC[k][n,i,j,1]==1:\n",
    "                bits[i,j,1] = 'EG'\n",
    "            if MC[k][n,i,j,2]==0:\n",
    "                bits[i,j,2] = ' '\n",
    "            if MC[k][n,i,j,2]==1:\n",
    "                bits[i,j,2] = 'Tau'\n",
    "\n",
    "    fig, ax = plt.subplots(figsize = (18,18))\n",
    "    ax = plt.subplot(2, 2, 1)\n",
    "    ax = sns.heatmap(MC[k][n,:,:,0], vmin = 0, vmax = MC[k][n,:,:,0].max(), annot = bits[:,:,0], fmt = '', linewidths = 0.1, cmap = \"Greens\", cbar_kws = {'label': 'ET (GeV)'})\n",
    "    ax.get_xaxis().set_visible(False)\n",
    "    ax.get_yaxis().set_visible(False)\n",
    "    ax.set_title('{}\\nAnnotation = Et (GeV)'.format(MC_files[k]))\n",
    "\n",
    "    ax = plt.subplot(2, 2, 2)\n",
    "    ax = sns.heatmap(MC[k][n,:,:,0], vmin = 0, vmax = MC[k][n,:,:,0].max(), annot = bits[:,:,1], fmt = '', linewidths = 0.1, cmap = \"Greens\", cbar_kws = {'label': 'ET (GeV)'})\n",
    "    ax.get_xaxis().set_visible(False)\n",
    "    ax.get_yaxis().set_visible(False)\n",
    "    ax.set_title('{}\\nAnnotation = EGamma bit (bool)'.format(MC_files[k]))\n",
    "    \n",
    "    ax = plt.subplot(2, 2, 3)\n",
    "    ax = sns.heatmap(MC[k][n,:,:,0], vmin = 0, vmax = MC[k][n,:,:,0].max(), annot = bits[:,:,2], fmt = '', linewidths = 0.1, cmap = \"Greens\", cbar_kws = {'label': 'ET (GeV)'})\n",
    "    ax.get_xaxis().set_visible(False)\n",
    "    ax.get_yaxis().set_visible(False)\n",
    "    ax.set_title('{}\\nAnnotation = Tau bit (bool)'.format(MC_files[k]))\n",
    "    \n",
    "    plt.show()\n",
    "    \n",
    "del bits"
   ]
  },
  {
   "cell_type": "code",
   "execution_count": null,
   "metadata": {
    "scrolled": false
   },
   "outputs": [],
   "source": [
    "k=5\n",
    "for n in range(193,196):\n",
    "    mask = np.empty(shape = (18,14,3), dtype = 'object')\n",
    "    for i in range(18):\n",
    "        for j in range(14):\n",
    "            if MC_masked[k][n,i,j,0]==0:\n",
    "                mask[i,j,0] = ' '\n",
    "            if MC_masked[k][n,i,j,0]>0:\n",
    "                mask[i,j,0] = MC_masked[k][n,i,j,0].astype(int)\n",
    "            if MC_masked[k][n,i,j,1]==0:\n",
    "                mask[i,j,1] = ' '\n",
    "            if MC_masked[k][n,i,j,1]>0:\n",
    "                mask[i,j,1] = MC_masked[k][n,i,j,1].astype(int)\n",
    "            if MC_masked[k][n,i,j,2]==0:\n",
    "                mask[i,j,2] = ' '\n",
    "            if MC_masked[k][n,i,j,2]>0:\n",
    "                mask[i,j,2] = MC_masked[k][n,i,j,2].astype(int)\n",
    "\n",
    "    fig, ax = plt.subplots(figsize = (18,18))\n",
    "    ax = plt.subplot(2, 2, 1)\n",
    "    ax = sns.heatmap(MC_masked[k][n,:,:,0], vmin = 0, vmax = MC[k][n,:,:,0].max(), annot = mask[:,:,0], fmt = '', linewidths = 0.1, cmap = \"Greens\", cbar_kws = {'label': 'ET (GeV)'})\n",
    "    ax.get_xaxis().set_visible(False)\n",
    "    ax.get_yaxis().set_visible(False)\n",
    "    ax.set_title('{}\\nAnnotation = Et without EG/Tau (GeV)'.format(MC_files[k]))\n",
    "\n",
    "    ax = plt.subplot(2, 2, 2)\n",
    "    ax = sns.heatmap(MC_masked[k][n,:,:,1], vmin = 0, vmax = MC[k][n,:,:,0].max(), annot = mask[:,:,1], fmt = '', linewidths = 0.1, cmap = \"Greens\", cbar_kws = {'label': 'ET (GeV)'})\n",
    "    ax.get_xaxis().set_visible(False)\n",
    "    ax.get_yaxis().set_visible(False)\n",
    "    ax.set_title('{}\\nAnnotation = Et with EGbit (GeV)'.format(MC_files[k]))\n",
    "    \n",
    "    ax = plt.subplot(2, 2, 3)\n",
    "    ax = sns.heatmap(MC_masked[k][n,:,:,2], vmin = 0, vmax = MC[k][n,:,:,0].max(), annot = mask[:,:,2], fmt = '', linewidths = 0.1, cmap = \"Greens\", cbar_kws = {'label': 'ET (GeV)'})\n",
    "    ax.get_xaxis().set_visible(False)\n",
    "    ax.get_yaxis().set_visible(False)\n",
    "    ax.set_title('{}\\nAnnotation = Et with Taubit (GeV)'.format(MC_files[k]))\n",
    "    \n",
    "    plt.show()\n",
    "    \n",
    "del mask"
   ]
  },
  {
   "cell_type": "markdown",
   "metadata": {},
   "source": [
    "Take a look at some ZB statistics."
   ]
  },
  {
   "cell_type": "code",
   "execution_count": null,
   "metadata": {},
   "outputs": [],
   "source": [
    "ZB_mean = np.mean(ZeroBias[:,:,:,0], axis = 0)\n",
    "\n",
    "fig, ax = plt.subplots(figsize = (10,10))\n",
    "ax = plt.subplot(2, 2, 2)\n",
    "ax = sns.heatmap(ZB_mean.reshape(18, 14), vmin = 0, vmax = ZB_mean.max(), cmap = \"Blues\", cbar_kws = {'label': 'ET (GeV)'})\n",
    "ax.get_xaxis().set_visible(False)\n",
    "ax.get_yaxis().set_visible(False)\n",
    "ax.set_title('Mean Et distribution (EphemeralZeroBias2018RunD)')\n",
    "plt.show()"
   ]
  },
  {
   "cell_type": "code",
   "execution_count": null,
   "metadata": {},
   "outputs": [],
   "source": [
    "plt.hist(ZeroBias[:,:,:,0].reshape((-1)), bins = 20, log = True)\n",
    "plt.xlabel(\"ZeroBias Et\")\n",
    "plt.show()\n",
    "\n",
    "print('Mean ZeroBias pT = ' + str(np.mean(ZeroBias.reshape(-1))))"
   ]
  },
  {
   "cell_type": "markdown",
   "metadata": {},
   "source": [
    "# Hyperparameter searching (no quantization here)"
   ]
  },
  {
   "cell_type": "markdown",
   "metadata": {},
   "source": [
    "If we want to train with custom loss functions."
   ]
  },
  {
   "cell_type": "code",
   "execution_count": null,
   "metadata": {},
   "outputs": [],
   "source": [
    "import tensorflow.keras.backend as K\n",
    "def custom_loss_for_train():\n",
    "    def func(y_true, y_pred):\n",
    "        #MSE(output, input)\n",
    "        loss = K.mean((y_pred - y_true)**2, axis = [1, 2, 3])\n",
    "        \n",
    "        #MSE(output, mean ZB)\n",
    "        #loss = K.mean((y_pred - ZB_mean)**2, axis = [1, 2, 3])\n",
    "        \n",
    "        #MSE(output, 0) for denoising\n",
    "        #loss = K.mean(y_pred**2, axis = [1, 2, 3])\n",
    "        \n",
    "        return loss\n",
    "    return func"
   ]
  },
  {
   "cell_type": "markdown",
   "metadata": {},
   "source": [
    "Hypermodel for convolutional autoencoder (usually a teacher model for Knowledge Distillation later)."
   ]
  },
  {
   "cell_type": "code",
   "execution_count": null,
   "metadata": {},
   "outputs": [],
   "source": [
    "def hypermodel(hp):\n",
    "    hp_model = tf.keras.Sequential()\n",
    "    hp_model.add(tf.keras.layers.InputLayer(input_shape = (18, 14, 1)))\n",
    "    hp_model.add(layers.Conv2D(filters = hp.Int('filters_1',\n",
    "                                                min_value = 15,\n",
    "                                                max_value = 25,\n",
    "                                                step = 2),\n",
    "                               kernel_size = (3, 3),\n",
    "                               activation = 'relu',\n",
    "                               strides = 1,\n",
    "                               padding = 'same'))\n",
    "    \n",
    "    hp_model.add(layers.AveragePooling2D((2, 2)))\n",
    "    hp_model.add(layers.Conv2D(filters = hp.Int('filters_2',\n",
    "                                                min_value = 15,\n",
    "                                                max_value = 25,\n",
    "                                                step = 2),\n",
    "                               kernel_size = (3, 3),\n",
    "                               activation = 'relu',\n",
    "                               strides = 1,\n",
    "                               padding = 'same'))\n",
    "    \n",
    "    hp_model.add(layers.Conv2D(filters = 1,\n",
    "                               kernel_size = (3, 3),\n",
    "                               activation = 'relu',\n",
    "                               strides = 1,\n",
    "                               padding = 'same'))\n",
    "    \n",
    "    hp_model.add(layers.Conv2D(filters = hp.Int('filters_3',\n",
    "                                                min_value = 15,\n",
    "                                                max_value = 25,\n",
    "                                                step = 2),\n",
    "                               kernel_size = (3, 3),\n",
    "                               activation = 'relu',\n",
    "                               strides = 1,\n",
    "                               padding = 'same'))\n",
    "    \n",
    "    hp_model.add(layers.UpSampling2D((2, 2)))\n",
    "    hp_model.add(layers.Conv2D(filters = hp.Int('filters_4',\n",
    "                                                min_value = 15,\n",
    "                                                max_value = 25,\n",
    "                                                step = 2),\n",
    "                               kernel_size = (3, 3),\n",
    "                               activation = 'relu',\n",
    "                               strides = 1,\n",
    "                               padding = 'same'))\n",
    "    \n",
    "    hp_model.add(layers.Conv2D(filters = 1, kernel_size = (3, 3), activation = 'relu', strides = 1, padding = 'same'))\n",
    "    hp_model.compile(optimizer = 'adam', loss = custom_loss_for_train())\n",
    "    return hp_model"
   ]
  },
  {
   "cell_type": "markdown",
   "metadata": {},
   "source": [
    "Hypermodel for shallowly dense (usually a student model for Knowledge Distillation later)."
   ]
  },
  {
   "cell_type": "code",
   "execution_count": null,
   "metadata": {},
   "outputs": [],
   "source": [
    "def hypermodel(hp):\n",
    "    hp_model = tf.keras.Sequential()\n",
    "    hp_model.add(tf.keras.layers.InputLayer(input_shape = (18, 14, 1)))\n",
    "    hp_model.add(tf.keras.layers.Flatten())\n",
    "    hp_model.add(tf.keras.layers.Dense(units = hp.Int('units_1',\n",
    "                                                      min_value = 10,\n",
    "                                                      max_value = 40,\n",
    "                                                      step = 2),\n",
    "                                       activation = 'relu'))\n",
    "    hp_model.add(tf.keras.layers.Dropout(rate = 0.3))\n",
    "    hp_model.add(tf.keras.layers.Dense(1, activation = 'relu'))\n",
    "    hp_model.compile(optimizer = 'adam', loss = 'mse')\n",
    "    return hp_model"
   ]
  },
  {
   "cell_type": "markdown",
   "metadata": {},
   "source": [
    "Set configuration for tuner (Hyperband)."
   ]
  },
  {
   "cell_type": "code",
   "execution_count": null,
   "metadata": {},
   "outputs": [],
   "source": [
    "tuner = Hyperband(hypermodel,\n",
    "                 objective = 'val_loss',\n",
    "                 max_epochs = 20,\n",
    "                 factor = 3, #number of models to train in a bracket = 1+log_factor(max_epochs)\n",
    "                 hyperband_iterations = 2, #number of times to iterate over the full Hyperband algorithm\n",
    "                 seed = 10,\n",
    "                 directory = 'hypertuning',\n",
    "                 project_name = 'tune',\n",
    "                 overwrite = True)"
   ]
  },
  {
   "cell_type": "markdown",
   "metadata": {},
   "source": [
    "Partition the dataset into train/val/test sets."
   ]
  },
  {
   "cell_type": "code",
   "execution_count": null,
   "metadata": {},
   "outputs": [],
   "source": [
    "X = ZeroBias\n",
    "\n",
    "train_ratio = 0.75\n",
    "val_ratio = 0.2\n",
    "test_ratio = 1 - train_ratio - val_ratio\n",
    "X_train_val, X_test = train_test_split(X, test_size = test_ratio, random_state = 123)\n",
    "X_train, X_val = train_test_split(X_train_val, test_size = val_ratio/(val_ratio + train_ratio), random_state = 123)"
   ]
  },
  {
   "cell_type": "markdown",
   "metadata": {},
   "source": [
    "Run the search. Mind the label when training for reconstruction or something else."
   ]
  },
  {
   "cell_type": "code",
   "execution_count": null,
   "metadata": {},
   "outputs": [],
   "source": [
    "tuner.search(X_train, X_train,\n",
    "            epochs = 20,\n",
    "            validation_data = (X_val, X_val),\n",
    "            batch_size = 256)"
   ]
  },
  {
   "cell_type": "markdown",
   "metadata": {},
   "source": [
    "Show the best models."
   ]
  },
  {
   "cell_type": "code",
   "execution_count": null,
   "metadata": {},
   "outputs": [],
   "source": [
    "tuner.results_summary(num_trials = 3)"
   ]
  },
  {
   "cell_type": "markdown",
   "metadata": {},
   "source": [
    "Take one of them for later use."
   ]
  },
  {
   "cell_type": "code",
   "execution_count": null,
   "metadata": {},
   "outputs": [],
   "source": [
    "best_hp = tuner.get_best_hyperparameters()[0]\n",
    "model = tuner.hypermodel.build(best_hp)\n",
    "model.summary()"
   ]
  },
  {
   "cell_type": "markdown",
   "metadata": {},
   "source": [
    "# Conv AE"
   ]
  },
  {
   "cell_type": "markdown",
   "metadata": {},
   "source": [
    "Convolutional autoencoder to be trained for input reconstruction (to be used as a teacher model for Knowledge Distillation later).\n",
    "\n",
    "The encoder part, transforming the (18, 14) region input into a smaller latent space."
   ]
  },
  {
   "cell_type": "code",
   "execution_count": null,
   "metadata": {},
   "outputs": [],
   "source": [
    "X = ZeroBias[:,:,:,0].reshape(-1,18,14,1)\n",
    "#X = ZeroBias_masked\n",
    "\n",
    "train_ratio = 0.5\n",
    "val_ratio = 0.1\n",
    "test_ratio = 1 - train_ratio - val_ratio\n",
    "X_train_val, X_test = train_test_split(X, test_size = test_ratio, random_state = 123)\n",
    "X_train, X_val = train_test_split(X_train_val, test_size = val_ratio/(val_ratio + train_ratio), random_state = 123)"
   ]
  },
  {
   "cell_type": "code",
   "execution_count": null,
   "metadata": {},
   "outputs": [],
   "source": [
    "encoder_input = tf.keras.Input(shape=(18,14,3), name='input')\n",
    "\n",
    "encoder = layers.Conv2D(30, (3,3), strides=1, padding='same', name='conv2d_1')(encoder_input)\n",
    "encoder = layers.Activation('relu', name='relu_1')(encoder)\n",
    "encoder = layers.AveragePooling2D((2,2), name='pool_1')(encoder)\n",
    "encoder = layers.Conv2D(40, (3,3), strides=1, padding='same', name='conv2d_2')(encoder)\n",
    "encoder = layers.Activation('relu', name='relu_2')(encoder)\n",
    "encoder = layers.Flatten(name='flatten')(encoder)\n",
    "\n",
    "encoder_output = layers.Dense(120, activation='relu', name='latent')(encoder)\n",
    "\n",
    "encoder = tf.keras.models.Model(encoder_input, encoder_output)\n",
    "encoder.summary()"
   ]
  },
  {
   "cell_type": "markdown",
   "metadata": {},
   "source": [
    "The decoder part, reconstructing from latent space back to the (18, 14) region input. Note the Conv2DTranspose is not yet supported in hls4ml, but ok to use if it is going to be distilled to another network. "
   ]
  },
  {
   "cell_type": "code",
   "execution_count": null,
   "metadata": {},
   "outputs": [],
   "source": [
    "decoder = layers.Dense(9*7*40, name='dense')(encoder_output)\n",
    "decoder = layers.Reshape((9,7,40), name='reshape')(decoder)\n",
    "decoder = layers.Activation('relu', name='relu_3')(decoder)\n",
    "decoder = layers.Conv2D(40, (3,3), strides=1, padding='same', name='conv2d_3')(decoder)\n",
    "decoder = layers.Activation('relu', name='relu_4')(decoder)\n",
    "decoder = layers.UpSampling2D((2,2), name='upsampling')(decoder)\n",
    "decoder = layers.Conv2D(30, (3,3), strides=1, padding='same', name='conv2d_4')(decoder)\n",
    "decoder = layers.Activation('relu', name='relu_5')(decoder)\n",
    "\n",
    "decoder_output = layers.Conv2D(3, (3,3), activation='relu', strides=1, padding='same', name='output')(decoder)"
   ]
  },
  {
   "cell_type": "code",
   "execution_count": null,
   "metadata": {},
   "outputs": [],
   "source": [
    "model = tf.keras.Model(encoder_input, decoder_output)\n",
    "model.summary()\n",
    "#keras.utils.plot_model(encoder, show_shapes=True, show_layer_names=True)"
   ]
  },
  {
   "cell_type": "code",
   "execution_count": null,
   "metadata": {},
   "outputs": [],
   "source": [
    "model.compile(optimizer = 'adam', loss = 'mse')"
   ]
  },
  {
   "cell_type": "code",
   "execution_count": null,
   "metadata": {},
   "outputs": [],
   "source": [
    "@@@@@@@@@@@@@@@@@@@@ bits"
   ]
  },
  {
   "cell_type": "code",
   "execution_count": null,
   "metadata": {},
   "outputs": [],
   "source": [
    "X = ZeroBias\n",
    "\n",
    "train_ratio = 0.75\n",
    "val_ratio = 0.2\n",
    "test_ratio = 1 - train_ratio - val_ratio\n",
    "X_train_val, X_test = train_test_split(X, test_size = test_ratio, random_state = 123)\n",
    "X_train, X_val = train_test_split(X_train_val, test_size = val_ratio/(val_ratio + train_ratio), random_state = 123)"
   ]
  },
  {
   "cell_type": "code",
   "execution_count": null,
   "metadata": {
    "scrolled": false
   },
   "outputs": [],
   "source": [
    "encoder_input = tf.keras.Input(shape=(18,14,1), name='Et_input')\n",
    "encoder_Et = layers.Conv2D(20, (3,3), strides=1, padding='same', name='Et_conv2d_1')(encoder_input)\n",
    "encoder_Et = layers.Activation('relu', name='Et_relu_1')(encoder_Et)\n",
    "encoder_Et = layers.AveragePooling2D((2,2), name='Et_pooling')(encoder_Et)\n",
    "encoder_Et = layers.Conv2D(30, (3,3), strides=1, padding='same', name='Et_conv2d_2')(encoder_Et)\n",
    "encoder_Et = layers.Activation('relu', name='Et_relu_2')(encoder_Et)\n",
    "encoder_Et = layers.Flatten(name='Et_flatten')(encoder_Et)\n",
    "encoder_Et = layers.Dense(100, name='Et_dense')(encoder_Et)\n",
    "encoder_Et = layers.Activation('relu', name='Et_relu_3')(encoder_Et)\n",
    "encoder_Et = tf.keras.models.Model(encoder_input, encoder_Et)\n",
    "\n",
    "encoder_input = tf.keras.Input(shape=(18,14,1), name='EG_input')\n",
    "encoder_EG = layers.Conv2D(20, (3,3), strides=1, padding='same', name='EG_conv2d_1')(encoder_input)\n",
    "encoder_EG = layers.Activation('relu', name='EG_relu_1')(encoder_EG)\n",
    "encoder_EG = layers.AveragePooling2D((2,2), name='EG_pooling')(encoder_EG)\n",
    "encoder_EG = layers.Conv2D(30, (3,3), strides=1, padding='same', name='EG_conv2d_2')(encoder_EG)\n",
    "encoder_EG = layers.Activation('relu', name='EG_relu_2')(encoder_EG)\n",
    "encoder_EG = layers.Flatten(name='EG_flatten')(encoder_EG)\n",
    "encoder_EG = layers.Dense(100, name='EG_dense')(encoder_EG)\n",
    "encoder_EG = layers.Activation('relu', name='EG_relu_3')(encoder_EG)\n",
    "encoder_EG = tf.keras.models.Model(encoder_input, encoder_EG)\n",
    "\n",
    "encoder_input = tf.keras.Input(shape=(18,14,1), name='Tau_input')\n",
    "encoder_Tau = layers.Conv2D(20, (3,3), strides=1, padding='same', name='Tau_conv2d_1')(encoder_input)\n",
    "encoder_Tau = layers.Activation('relu', name='Tau_relu_1')(encoder_Tau)\n",
    "encoder_Tau = layers.AveragePooling2D((2,2), name='Tau_pooling')(encoder_Tau)\n",
    "encoder_Tau = layers.Conv2D(30, (3,3), strides=1, padding='same', name='Tau_conv2d_2')(encoder_Tau)\n",
    "encoder_Tau = layers.Activation('relu', name='Tau_relu_2')(encoder_Tau)\n",
    "encoder_Tau = layers.Flatten(name='Tau_flatten')(encoder_Tau)\n",
    "encoder_Tau = layers.Dense(100, name='Tau_dense')(encoder_Tau)\n",
    "encoder_Tau = layers.Activation('relu', name='Tau_relu_3')(encoder_Tau)\n",
    "encoder_Tau = tf.keras.models.Model(encoder_input, encoder_Tau)\n",
    "\n",
    "encoder_output = layers.concatenate([encoder_Et.output, encoder_EG.output, encoder_Tau.output], name='latent_combine')\n",
    "encoder_output = layers.Dense(100, name='latent_dense')(encoder_output)\n",
    "encoder_output = layers.Activation('relu', name='latent_relu')(encoder_output)\n",
    "\n",
    "encoder = tf.keras.models.Model([encoder_Et.input, encoder_EG.input, encoder_Tau.input], encoder_output)\n",
    "encoder.summary()\n",
    "#keras.utils.plot_model(encoder, show_shapes=True, show_layer_names=True)"
   ]
  },
  {
   "cell_type": "code",
   "execution_count": null,
   "metadata": {},
   "outputs": [],
   "source": [
    "decoder = layers.Dense(9*7*20, name='decoder_dense')(encoder_output)\n",
    "decoder = layers.Reshape((9,7,20), name='decoder_reshape')(decoder)\n",
    "decoder = layers.Activation('relu', name='decoder_relu_1')(decoder)\n",
    "decoder = layers.Conv2D(30, (3,3), strides=1, padding='same', name='decoder_conv2d_1')(decoder)\n",
    "decoder = layers.Activation('relu', name='decoder_relu_2')(decoder)\n",
    "decoder = layers.UpSampling2D((2,2), name='decoder_upsampling')(decoder)\n",
    "decoder = layers.Conv2D(20, (3,3), strides=1, padding='same', name='decoder_conv2d_2')(decoder)\n",
    "decoder = layers.Activation('relu', name='decoder_relu_3')(decoder)\n",
    "decoder = layers.Conv2D(3, (3,3), strides=1, padding='same', name='decoder_conv2d_3')(decoder)\n",
    "decoder = layers.Activation('relu', name='decoder_relu_4')(decoder)\n",
    "\n",
    "#decoder = tf.keras.models.Model(encoder_output, decoder)\n",
    "#decoder.summary()"
   ]
  },
  {
   "cell_type": "code",
   "execution_count": null,
   "metadata": {},
   "outputs": [],
   "source": [
    "decoder_Et = layers.Dense(9*7*20, name='decoder_Et_dense')(encoder_output)\n",
    "decoder_Et = layers.Reshape((9,7,20), name='decoder_Et_reshape')(decoder_Et)\n",
    "decoder_Et = layers.Activation('relu', name='decoder_Et_relu_1')(decoder_Et)\n",
    "decoder_Et = layers.Conv2D(30, (3,3), strides=1, padding='same', name='decoder_Et_conv2d_1')(decoder_Et)\n",
    "decoder_Et = layers.Activation('relu', name='decoder_Et_relu_2')(decoder_Et)\n",
    "decoder_Et = layers.UpSampling2D((2,2), name='decoder_Et_upsampling')(decoder_Et)\n",
    "decoder_Et = layers.Conv2D(20, (3,3), strides=1, padding='same', name='decoder_Et_conv2d_2')(decoder_Et)\n",
    "decoder_Et = layers.Activation('relu', name='decoder_Et_relu_3')(decoder_Et)\n",
    "decoder_Et = layers.Conv2D(1, (3,3), strides=1, padding='same', name='decoder_Et_conv2d_3')(decoder_Et)\n",
    "decoder_Et = layers.Activation('relu', name='decoder_Et_relu_4')(decoder_Et)\n",
    "#decoder_Et = tf.keras.models.Model(encoder_output, decoder_Et)\n",
    "\n",
    "decoder_EG = layers.Dense(9*7*20, name='decoder_EG_dense')(encoder_output)\n",
    "decoder_EG = layers.Reshape((9,7,20), name='decoder_EG_reshape')(decoder_EG)\n",
    "decoder_EG = layers.Activation('relu', name='decoder_EG_relu_1')(decoder_EG)\n",
    "decoder_EG = layers.Conv2D(30, (3,3), strides=1, padding='same', name='decoder_EG_conv2d_1')(decoder_EG)\n",
    "decoder_EG = layers.Activation('relu', name='decoder_EG_relu_2')(decoder_EG)\n",
    "decoder_EG = layers.UpSampling2D((2,2), name='decoder_EG_upsampling')(decoder_EG)\n",
    "decoder_EG = layers.Conv2D(20, (3,3), strides=1, padding='same', name='decoder_EG_conv2d_2')(decoder_EG)\n",
    "decoder_EG = layers.Activation('relu', name='decoder_EG_relu_3')(decoder_EG)\n",
    "decoder_EG = layers.Conv2D(1, (3,3), strides=1, padding='same', name='decoder_EG_conv2d_3')(decoder_EG)\n",
    "decoder_EG = layers.Activation('relu', name='decoder_EG_relu_4')(decoder_EG)\n",
    "#decoder_EG = tf.keras.models.Model(encoder_output, decoder_EG)\n",
    "\n",
    "decoder_Tau = layers.Dense(9*7*20, name='decoder_Tau_dense')(encoder_output)\n",
    "decoder_Tau = layers.Reshape((9,7,20), name='decoder_Tau_reshape')(decoder_Tau)\n",
    "decoder_Tau = layers.Activation('relu', name='decoder_Tau_relu_1')(decoder_Tau)\n",
    "decoder_Tau = layers.Conv2D(30, (3,3), strides=1, padding='same', name='decoder_Tau_conv2d_1')(decoder_Tau)\n",
    "decoder_Tau = layers.Activation('relu', name='decoder_Tau_relu_2')(decoder_Tau)\n",
    "decoder_Tau = layers.UpSampling2D((2,2), name='decoder_Tau_upsampling')(decoder_Tau)\n",
    "decoder_Tau = layers.Conv2D(20, (3,3), strides=1, padding='same', name='decoder_Tau_conv2d_2')(decoder_Tau)\n",
    "decoder_Tau = layers.Activation('relu', name='decoder_Tau_relu_3')(decoder_Tau)\n",
    "decoder_Tau = layers.Conv2D(1, (3,3), strides=1, padding='same', name='decoder_Tau_conv2d_3')(decoder_Tau)\n",
    "decoder_Tau = layers.Activation('relu', name='decoder_Tau_relu_4')(decoder_Tau)\n",
    "#decoder_Tau = tf.keras.models.Model(encoder_output, decoder_Tau)"
   ]
  },
  {
   "cell_type": "code",
   "execution_count": null,
   "metadata": {
    "scrolled": false
   },
   "outputs": [],
   "source": [
    "model = tf.keras.Model([encoder_Et.input, encoder_EG.input, encoder_Tau.input], [decoder_Et,decoder_EG,decoder_Tau])\n",
    "model.summary()\n",
    "keras.utils.plot_model(model, show_shapes=True, show_layer_names=True)"
   ]
  },
  {
   "cell_type": "code",
   "execution_count": null,
   "metadata": {},
   "outputs": [],
   "source": [
    "model.compile(optimizer = 'adam', loss = 'mse')"
   ]
  },
  {
   "cell_type": "code",
   "execution_count": null,
   "metadata": {},
   "outputs": [],
   "source": []
  },
  {
   "cell_type": "markdown",
   "metadata": {},
   "source": [
    "# Conv VAE"
   ]
  },
  {
   "cell_type": "code",
   "execution_count": null,
   "metadata": {},
   "outputs": [],
   "source": [
    "class Sampling(layers.Layer):\n",
    "    \"\"\"Uses (z_mean, z_log_var) to sample z, the vector encoding a digit.\"\"\"\n",
    "\n",
    "    def call(self, inputs):\n",
    "        z_mean, z_log_var = inputs\n",
    "        batch = tf.shape(z_mean)[0]\n",
    "        dim = tf.shape(z_mean)[1]\n",
    "        epsilon = tf.keras.backend.random_normal(shape=(batch, dim))\n",
    "        return z_mean + tf.exp(0.5 * z_log_var) * epsilon"
   ]
  },
  {
   "cell_type": "code",
   "execution_count": null,
   "metadata": {},
   "outputs": [],
   "source": [
    "latent_dim = 20\n",
    "encoder_inputs = tf.keras.Input(shape = (18, 14, 1))\n",
    "\n",
    "encoding = layers.Conv2D(20, (3, 3), strides = 1, padding = 'same')(encoder_inputs)\n",
    "encoding = layers.Activation('relu')(encoding)\n",
    "encoding = layers.AveragePooling2D((2, 2))(encoding)\n",
    "encoding = layers.Conv2D(20, (3, 3), strides = 1, padding = 'same')(encoding)\n",
    "encoding = layers.Activation('relu')(encoding)\n",
    "encoding = layers.Flatten()(encoding)\n",
    "\n",
    "z_mean = layers.Dense(latent_dim, name = 'z_mean')(encoding)\n",
    "z_log_var = layers.Dense(latent_dim, name = 'z_log_var')(encoding)\n",
    "z = Sampling()([z_mean, z_log_var])\n",
    "\n",
    "encoder = tf.keras.Model(encoder_inputs, [z_mean, z_log_var, z], name = 'encoder')\n",
    "encoder.summary()"
   ]
  },
  {
   "cell_type": "code",
   "execution_count": null,
   "metadata": {},
   "outputs": [],
   "source": [
    "latent_inputs = tf.keras.Input(shape = (latent_dim,))\n",
    "\n",
    "decoding = layers.Dense(9 * 7 * 20)(latent_inputs)\n",
    "decoding = layers.Reshape((9, 7, 20))(decoding)\n",
    "decoding = layers.Activation('relu')(decoding)\n",
    "decoding = layers.Conv2D(20, (3, 3), strides = 1, padding = 'same')(decoding)\n",
    "decoding = layers.Activation('relu')(decoding)\n",
    "decoding = layers.UpSampling2D((2, 2))(decoding)\n",
    "decoding = layers.Conv2D(20, (3, 3), strides = 1, padding = 'same')(decoding)\n",
    "decoding = layers.Activation('relu')(decoding)\n",
    "\n",
    "decoder_outputs = layers.Conv2D(1, (3, 3), activation = 'sigmoid', strides = 1, padding = 'same')(decoding)\n",
    "\n",
    "decoder = tf.keras.Model(latent_inputs, decoder_outputs, name = 'decoder')\n",
    "decoder.summary()"
   ]
  },
  {
   "cell_type": "code",
   "execution_count": null,
   "metadata": {},
   "outputs": [],
   "source": [
    "class VAE(keras.Model):\n",
    "    def __init__(self, encoder, decoder, **kwargs):\n",
    "        super(VAE, self).__init__(**kwargs)\n",
    "        self.encoder = encoder\n",
    "        self.decoder = decoder\n",
    "        self.total_loss_tracker = keras.metrics.Mean(name=\"total_loss\")\n",
    "        self.reconstruction_loss_tracker = keras.metrics.Mean(\n",
    "            name=\"reconstruction_loss\"\n",
    "        )\n",
    "        self.kl_loss_tracker = keras.metrics.Mean(name=\"kl_loss\")\n",
    "\n",
    "    @property\n",
    "    def metrics(self):\n",
    "        return [\n",
    "            self.total_loss_tracker,\n",
    "            self.reconstruction_loss_tracker,\n",
    "            self.kl_loss_tracker,\n",
    "        ]\n",
    "\n",
    "    def train_step(self, data):\n",
    "        with tf.GradientTape() as tape:\n",
    "            z_mean, z_log_var, z = self.encoder(data)\n",
    "            reconstruction = self.decoder(z)\n",
    "            reconstruction_loss = 10*tf.reduce_mean(tf.reduce_sum(keras.losses.binary_crossentropy(data, reconstruction), axis = (1, 2)))\n",
    "            #reconstruction_loss = 100*tf.reduce_mean(tf.square(data - reconstruction), axis = (1, 2, 3))\n",
    "            kl_loss = tf.reduce_mean(tf.reduce_sum(-0.5 * (1 + z_log_var - tf.square(z_mean) - tf.exp(z_log_var)), axis = 1))\n",
    "            #total_loss = reconstruction_loss + kl_loss\n",
    "            #total_loss = reconstruction_loss\n",
    "            total_loss = kl_loss\n",
    "        grads = tape.gradient(total_loss, self.trainable_weights)\n",
    "        self.optimizer.apply_gradients(zip(grads, self.trainable_weights))\n",
    "        self.total_loss_tracker.update_state(total_loss)\n",
    "        self.reconstruction_loss_tracker.update_state(reconstruction_loss)\n",
    "        self.kl_loss_tracker.update_state(kl_loss)\n",
    "        return {\n",
    "            \"loss\": self.total_loss_tracker.result(),\n",
    "            \"reconstruction_loss\": self.reconstruction_loss_tracker.result(),\n",
    "            \"kl_loss\": self.kl_loss_tracker.result(),\n",
    "        }"
   ]
  },
  {
   "cell_type": "code",
   "execution_count": null,
   "metadata": {},
   "outputs": [],
   "source": [
    "vae = VAE(encoder, decoder)\n",
    "vae.compile(optimizer = 'adam')"
   ]
  },
  {
   "cell_type": "code",
   "execution_count": null,
   "metadata": {
    "scrolled": true
   },
   "outputs": [],
   "source": [
    "et_scale = 1\n",
    "history = vae.fit(X_train/et_scale, epochs = 8,\n",
    "                  #validation_data = (X_val/et_scale,X_val/et_scale),\n",
    "                  batch_size = 512)"
   ]
  },
  {
   "cell_type": "code",
   "execution_count": null,
   "metadata": {},
   "outputs": [],
   "source": [
    "plt.figure(figsize = (15,10))\n",
    "axes_left = plt.subplot(2, 2, 1)\n",
    "axes_left.plot(history.history['loss'], label = 'Total loss = Reco + KL', c = 'g', linestyle = 'solid')\n",
    "axes_left.plot(history.history['reconstruction_loss'], label = 'Reconstruction loss (BCE)', c = 'g' , linestyle = 'dashed')\n",
    "axes_left.legend(loc = \"upper left\")\n",
    "axes_left.set_xlabel('Epoch')\n",
    "axes_left.set_ylabel('Total loss', c = 'g')\n",
    "\n",
    "axes_right = axes_left.twinx()\n",
    "axes_right.plot(history.history['kl_loss'], label = 'KL loss', c = 'r', linestyle = 'dashed')\n",
    "axes_right.legend(loc = \"upper right\")\n",
    "axes_right.set_ylabel('KL loss', c = 'r')"
   ]
  },
  {
   "cell_type": "code",
   "execution_count": null,
   "metadata": {},
   "outputs": [],
   "source": [
    "plt.figure(figsize = (15,10))\n",
    "axes = plt.subplot(2, 2, 1)\n",
    "axes.plot(history.history['kl_loss'], label = 'KL loss', c = 'r', linestyle = 'dashed')\n",
    "axes.legend(loc = \"upper left\")\n",
    "axes.set_yscale(value = \"log\")\n",
    "axes.set_xlabel('Epoch')\n",
    "axes.set_ylabel('KL loss', c = 'g')\n"
   ]
  },
  {
   "cell_type": "code",
   "execution_count": null,
   "metadata": {},
   "outputs": [],
   "source": [
    "X_test_mu, X_test_logvar, X_test_z = vae.encoder.predict(X_test/et_scale)\n",
    "X_test_predict = vae.decoder.predict(X_test_z)\n",
    "\n",
    "MC_zb_mu = []\n",
    "MC_zb_logvar = []\n",
    "MC_zb_z = []\n",
    "MC_zb_predict = []\n",
    "for i in range(len(MC_zb)):\n",
    "    mu, logvar, z = vae.encoder.predict(MC_zb[i]/et_scale)\n",
    "    predict = vae.decoder.predict(z)\n",
    "    MC_zb_mu.append(mu)\n",
    "    MC_zb_logvar.append(logvar)\n",
    "    MC_zb_z.append(z)\n",
    "    MC_zb_predict.append(predict)"
   ]
  },
  {
   "cell_type": "code",
   "execution_count": null,
   "metadata": {
    "scrolled": true
   },
   "outputs": [],
   "source": [
    "i = 0\n",
    "j = 1\n",
    "n = 5\n",
    "\n",
    "df_z_mu_sig = pd.DataFrame(MC_zb_mu[n][1:9000, i], columns = [\"z_mu[{}]\".format(i)])\n",
    "df_z_mu_sig[\"z_mu[{}]\".format(j)] = MC_zb_mu[n][1:9000, j]\n",
    "df_z_mu_sig[\"dataset\"] = MC_files[n]\n",
    "df_z_mu_zb = pd.DataFrame(X_test_mu[1:9000, i], columns = [\"z_mu[{}]\".format(i)])\n",
    "df_z_mu_zb[\"z_mu[{}]\".format(j)] = X_test_mu[1:9000, j]\n",
    "df_z_mu_zb[\"dataset\"] = \"test (ZB)\"\n",
    "df_z_mu = pd.concat([df_z_mu_sig,df_z_mu_zb])\n",
    "\n",
    "df_z_sigma_sig = pd.DataFrame(np.exp(MC_zb_logvar[n][1:9000, i]/2), columns = [\"z_sigma[{}]\".format(i)])\n",
    "df_z_sigma_sig[\"z_sigma[{}]\".format(j)] = np.exp(MC_zb_logvar[n][1:9000, j]/2)\n",
    "df_z_sigma_sig[\"dataset\"] = MC_files[n]\n",
    "df_z_sigma_zb = pd.DataFrame(np.exp(X_test_logvar[1:9000, i]/2), columns = [\"z_sigma[{}]\".format(i)])\n",
    "df_z_sigma_zb[\"z_sigma[{}]\".format(j)] = np.exp(X_test_logvar[1:9000, j]/2)\n",
    "df_z_sigma_zb[\"dataset\"] = \"test (ZB)\"\n",
    "df_z_sigma = pd.concat([df_z_sigma_sig,df_z_sigma_zb])\n",
    "\n",
    "df_z_sig = pd.DataFrame(np.exp(MC_zb_z[n][1:9000, i]/2), columns = [\"z[{}]\".format(i)])\n",
    "df_z_sig[\"z[{}]\".format(j)] = np.exp(MC_zb_z[n][1:9000, j]/2)\n",
    "df_z_sig[\"dataset\"] = MC_files[n]\n",
    "df_z_zb = pd.DataFrame(np.exp(X_test_z[1:9000, i]/2), columns = [\"z[{}]\".format(i)])\n",
    "df_z_zb[\"z[{}]\".format(j)] = np.exp(X_test_z[1:9000, j]/2)\n",
    "df_z_zb[\"dataset\"] = \"test (ZB)\"\n",
    "df_z = pd.concat([df_z_sig,df_z_zb])\n",
    "\n",
    "plt.figure(figsize=(6, 6))\n",
    "sns.jointplot(x = df_z_mu[\"z_mu[{}]\".format(i)], y = df_z_mu[\"z_mu[{}]\".format(j)], hue = df_z_mu[\"dataset\"], height = 8, ratio = 5,\n",
    "              #xlim = (-0.001, 0.001), ylim = (-0.001, 0.001),\n",
    "              marker = '.', alpha = 1)\n",
    "plt.show()\n",
    "\n",
    "plt.figure(figsize=(6, 6))\n",
    "sns.jointplot(x = df_z_sigma[\"z_sigma[{}]\".format(i)], y = df_z_sigma[\"z_sigma[{}]\".format(j)], hue = df_z_sigma[\"dataset\"], height = 8, ratio = 5,\n",
    "              #xlim = (-8, 8), ylim = (-8, 8),\n",
    "              marker = '.', alpha = 1)\n",
    "plt.show()\n",
    "\n",
    "plt.figure(figsize=(6, 6))\n",
    "sns.jointplot(x = df_z[\"z[{}]\".format(i)], y = df_z[\"z[{}]\".format(j)], hue = df_z[\"dataset\"], height = 8, ratio = 5,\n",
    "              #xlim = (-8, 8), ylim = (-8, 8),\n",
    "              marker = '.', alpha = 1)\n",
    "plt.show()"
   ]
  },
  {
   "cell_type": "code",
   "execution_count": null,
   "metadata": {},
   "outputs": [],
   "source": [
    "def custom_loss_for_pred(y_true, y_pred, choice):\n",
    "    #MSE\n",
    "    if choice == 0:\n",
    "        loss = np.mean((y_true - y_pred)**2, axis = (1, 2, 3))\n",
    "        return loss\n",
    "    \n",
    "    #MSE for de-noising model\n",
    "    if choice == 1:\n",
    "        loss = np.mean(y_pred**2, axis = (1, 2, 3))\n",
    "        return loss\n",
    "    \n",
    "    #VAE radius loss\n",
    "    if choice == 2:\n",
    "        loss = np.sqrt(np.sum(y_pred**2, axis = 1))\n",
    "        return loss\n",
    "    \n",
    "    #VAE KL loss\n",
    "    if choice == 3:\n",
    "        loss = -0.5 * np.sum(1.0 + y_pred - y_true**2 - np.exp(y_pred), axis = 1)\n",
    "        return loss\n",
    "    \n",
    "    #BCE loss\n",
    "    if choice == 4:\n",
    "        #loss = np.mean(np.sum(keras.losses.binary_crossentropy(y_true, y_pred), axis = (1, 2)))\n",
    "        loss = np.sum(keras.losses.binary_crossentropy(y_true, y_pred), axis = (1, 2))\n",
    "        return loss"
   ]
  },
  {
   "cell_type": "code",
   "execution_count": null,
   "metadata": {},
   "outputs": [],
   "source": [
    "#For VAE\n",
    "X_test_vaeloss_mse = custom_loss_for_pred(X_test/et_scale, X_test_predict, 0)\n",
    "MC_zb_vaeloss_mse = []\n",
    "for i in range(len(MC_zb)):\n",
    "    MC_zb_vaeloss_mse.append(custom_loss_for_pred(MC_zb[i]/et_scale, MC_zb_predict[i], 0))\n",
    "    \n",
    "X_test_vaeloss_bce = custom_loss_for_pred(X_test/et_scale, X_test_predict, 4)\n",
    "MC_zb_vaeloss_bce = []\n",
    "for i in range(len(MC_zb)):\n",
    "    MC_zb_vaeloss_bce.append(custom_loss_for_pred(MC_zb[i]/et_scale, MC_zb_predict[i], 4))\n",
    "\n",
    "X_test_vaeloss_radius = custom_loss_for_pred(X_test, X_test_mu, 2)\n",
    "MC_zb_vaeloss_radius = []\n",
    "for i in range(len(MC_zb)):\n",
    "    MC_zb_vaeloss_radius.append(custom_loss_for_pred(MC_zb[i], MC_zb_mu[i], 2))\n",
    "    \n",
    "X_test_vaeloss_kl = custom_loss_for_pred(X_test_mu, X_test_logvar, 3)\n",
    "MC_zb_vaeloss_kl = []\n",
    "for i in range(len(MC_zb)):\n",
    "    MC_zb_vaeloss_kl.append(custom_loss_for_pred(MC_zb_mu[i], MC_zb_logvar[i], 3))\n",
    "\n",
    "weight_mse = 0\n",
    "weight_bce = 0\n",
    "weight_radius = 0\n",
    "weight_kl = 1.0\n",
    "\n",
    "X_test_vaeloss = weight_mse*X_test_vaeloss_mse + weight_bce*X_test_vaeloss_bce + weight_radius*X_test_vaeloss_radius + weight_kl*X_test_vaeloss_kl\n",
    "MC_zb_vaeloss = []\n",
    "for i in range(len(MC_zb)):\n",
    "    MC_zb_vaeloss.append(weight_mse*MC_zb_vaeloss_mse[i] + weight_bce*MC_zb_vaeloss_bce[i] + weight_radius*MC_zb_vaeloss_radius[i] + weight_kl*MC_zb_vaeloss_kl[i])"
   ]
  },
  {
   "cell_type": "code",
   "execution_count": null,
   "metadata": {
    "scrolled": true
   },
   "outputs": [],
   "source": [
    "#Original vs Reconstructed\n",
    "#show_ZB = True\n",
    "show_ZB = False\n",
    "n = 5\n",
    "for i in range(580,590):\n",
    "    fig, ax = plt.subplots(figsize = (17,17))\n",
    "    if show_ZB == True:\n",
    "        print('ZB test\\nloss = ' + str(X_test_vaeloss[i]))\n",
    "    else:\n",
    "        print(str(MC_files[n]) + '\\nloss = ' + str(MC_zb_vaeloss[n][i]))\n",
    "    ax = plt.subplot(3, 3, 1)\n",
    "    if show_ZB == True:\n",
    "        ax = sns.heatmap(X_test[i,:,:,0].reshape(18, 14)/et_scale, vmin = 0, vmax = X_test[i,:,:,0].max()/et_scale, cmap = \"Blues\", cbar_kws = {'label': 'Scaled ET'})\n",
    "    else:\n",
    "        ax = sns.heatmap(MC_zb[n][i,:,:,0].reshape(18, 14)/et_scale, vmin = 0, vmax = MC_zb[n][i,:,:,0].max()/et_scale, cmap = \"Blues\", cbar_kws = {'label': 'Scaled ET'})\n",
    "    ax.get_xaxis().set_visible(False)\n",
    "    ax.get_yaxis().set_visible(False)\n",
    "    ax.set_title('Original')\n",
    "    \n",
    "    ax = plt.subplot(3, 3, 2)\n",
    "    if show_ZB == True:\n",
    "        ax = sns.heatmap(X_test_predict[i,:,:,0].reshape(18, 14), vmin = 0, vmax = X_test[i,:,:,0].max()/et_scale, cmap = \"Blues\", cbar_kws = {'label': 'Scaled ET'})\n",
    "    else:\n",
    "        ax = sns.heatmap(MC_zb_predict[n][i,:,:,0].reshape(18, 14), vmin = 0, vmax = MC_zb[n][i,:,:,0].max()/et_scale, cmap = \"Blues\", cbar_kws = {'label': 'Scaled ET'})\n",
    "    ax.get_xaxis().set_visible(False)\n",
    "    ax.get_yaxis().set_visible(False)\n",
    "    ax.set_title('Reconstructed')\n",
    "    \n",
    "    ax = plt.subplot(3, 3, 3)\n",
    "    if show_ZB == True:\n",
    "        ax = sns.heatmap(np.absolute(X_test_predict[i,:,:,0] - X_test[i,:,:,0]/et_scale).reshape(18, 14), vmin = 0, vmax = X_test[i,:,:,0].max()/et_scale, cmap = \"Blues\", cbar_kws = {'label': 'Scaled ET'})\n",
    "    else:\n",
    "        ax = sns.heatmap(np.absolute(MC_zb_predict[n][i,:,:,0] - MC_zb[n][i,:,:,0]/et_scale).reshape(18, 14), vmin = 0, vmax = MC_zb[n][i,:,:,0].max()/et_scale, cmap = \"Blues\", cbar_kws = {'label': 'Scaled ET'})\n",
    "    ax.get_xaxis().set_visible(False)\n",
    "    ax.get_yaxis().set_visible(False)\n",
    "    ax.set_title('abs(original-reconstructed)')\n",
    "    plt.show()"
   ]
  },
  {
   "cell_type": "code",
   "execution_count": null,
   "metadata": {
    "scrolled": true
   },
   "outputs": [],
   "source": [
    "nbins = 20\n",
    "rmin = 0\n",
    "rmax = 1000\n",
    "plt.hist(X_test_vaeloss_mse, density = 1, bins = nbins, alpha = 0.3, label = 'test (ZeroBias)', range = (rmin, rmax), log = True)\n",
    "plt.hist(MC_zb_vaeloss_mse[0], density = 1, bins = nbins, label = 'QCD', alpha = 0.1, histtype = 'stepfilled', range = (rmin, rmax))\n",
    "for i in range(3,7):\n",
    "    plt.hist(MC_zb_vaeloss_mse[i], density = 1, bins = nbins, label = MC_files[i], histtype = 'step', range = (rmin, rmax))\n",
    "plt.legend(loc='center left', bbox_to_anchor=(1, 0.5))\n",
    "plt.xlabel(\"Reconstruction MSE loss\")\n",
    "plt.show()\n",
    "\n",
    "nbins = 20\n",
    "rmin = 0\n",
    "rmax = 1000\n",
    "plt.hist(X_test_vaeloss_bce, density = 1, bins = nbins, alpha = 0.3, label = 'test (ZeroBias)', range = (rmin, rmax), log = True)\n",
    "plt.hist(MC_zb_vaeloss_bce[0], density = 1, bins = nbins, label = 'QCD', alpha = 0.1, histtype = 'stepfilled', range = (rmin, rmax))\n",
    "for i in range(3,7):\n",
    "    plt.hist(MC_zb_vaeloss_bce[i], density = 1, bins = nbins, label = MC_files[i], histtype = 'step', range = (rmin, rmax))\n",
    "plt.legend(loc='center left', bbox_to_anchor=(1, 0.5))\n",
    "plt.xlabel(\"Reconstruction BCE loss\")\n",
    "plt.show()\n",
    "\n",
    "nbins = 40\n",
    "rmin = 0\n",
    "rmax = 0.0001\n",
    "plt.hist(X_test_vaeloss_radius, density = 1, bins = nbins, alpha = 0.3, label = 'test (ZeroBias)', range = (rmin, rmax), log = True)\n",
    "plt.hist(MC_zb_vaeloss_radius[0], density = 1, bins = nbins, label = 'QCD', alpha = 0.1, histtype = 'stepfilled', range = (rmin, rmax))\n",
    "for i in range(3,7):\n",
    "    plt.hist(MC_zb_vaeloss_radius[i], density = 1, bins = nbins, label = MC_files[i], histtype = 'step', range = (rmin, rmax))\n",
    "plt.legend(loc='center left', bbox_to_anchor=(1, 0.5))\n",
    "plt.xlabel(\"Radius loss\")\n",
    "plt.show()\n",
    "\n",
    "nbins = 40\n",
    "rmin = 0\n",
    "rmax = 0.00001\n",
    "plt.hist(X_test_vaeloss_kl, density = 1, bins = nbins, alpha = 0.3, label = 'test (ZeroBias)', range = (rmin, rmax), log = True)\n",
    "plt.hist(MC_zb_vaeloss_kl[0], density = 1, bins = nbins, label = 'QCD', alpha = 0.1, histtype = 'stepfilled', range = (rmin, rmax))\n",
    "for i in range(3,7):\n",
    "    plt.hist(MC_zb_vaeloss_kl[i], density = 1, bins = nbins, label = MC_files[i], histtype = 'step', range = (rmin, rmax))\n",
    "plt.legend(loc='center left', bbox_to_anchor=(1, 0.5))\n",
    "plt.xlabel(\"KL loss\")\n",
    "plt.show()"
   ]
  },
  {
   "cell_type": "code",
   "execution_count": null,
   "metadata": {
    "scrolled": true
   },
   "outputs": [],
   "source": [
    "n = 5\n",
    "\n",
    "df_vaeloss_sig = pd.DataFrame(MC_zb_vaeloss_mse[n][1:9000], columns = [\"MSE loss\"])\n",
    "df_vaeloss_sig[\"BCE loss\"] = MC_zb_vaeloss_bce[n][1:9000]\n",
    "df_vaeloss_sig[\"Radius loss\"] = MC_zb_vaeloss_radius[n][1:9000]\n",
    "df_vaeloss_sig[\"KL loss\"] = MC_zb_vaeloss_kl[n][1:9000]\n",
    "df_vaeloss_sig[\"dataset\"] = MC_files[n]\n",
    "df_vaeloss_zb = pd.DataFrame(X_test_vaeloss_mse[1:9000], columns = [\"MSE loss\"])\n",
    "df_vaeloss_zb[\"BCE loss\"] = X_test_vaeloss_bce[1:9000]\n",
    "df_vaeloss_zb[\"Radius loss\"] = X_test_vaeloss_radius[1:9000]\n",
    "df_vaeloss_zb[\"KL loss\"] = X_test_vaeloss_kl[1:9000]\n",
    "df_vaeloss_zb[\"dataset\"] = \"test (ZB)\"\n",
    "\n",
    "df_vaeloss = pd.concat([df_vaeloss_sig,df_vaeloss_zb])\n",
    "\n",
    "plt.figure(figsize=(6, 6))\n",
    "sns.jointplot(x = df_vaeloss[\"MSE loss\"], y = df_vaeloss[\"BCE loss\"], height = 8, ratio = 5, hue = df_vaeloss[\"dataset\"],\n",
    "              xlim = (0.0, 0.05), ylim = (0, 100),\n",
    "              marker = '.', alpha = 1)\n",
    "plt.show()\n",
    "\n",
    "plt.figure(figsize=(6, 6))\n",
    "sns.jointplot(x = df_vaeloss[\"Radius loss\"], y = df_vaeloss[\"KL loss\"], height = 8, ratio = 5, hue = df_vaeloss[\"dataset\"],\n",
    "              xlim = (0, 10), ylim = (0, 50),\n",
    "              marker = '.', alpha = 1)\n",
    "plt.show()\n",
    "\n",
    "plt.figure(figsize=(6, 6))\n",
    "sns.jointplot(x = df_vaeloss[\"MSE loss\"], y = df_vaeloss[\"KL loss\"], height = 8, ratio = 5, hue = df_vaeloss[\"dataset\"],\n",
    "              xlim = (0, 0.05), ylim = (0, 50),\n",
    "              marker = '.', alpha = 1)\n",
    "plt.show()\n",
    "\n",
    "plt.figure(figsize=(6, 6))\n",
    "sns.jointplot(x = df_vaeloss[\"BCE loss\"], y = df_vaeloss[\"KL loss\"], height = 8, ratio = 5 ,hue = df_vaeloss[\"dataset\"],\n",
    "              xlim = (0, 100), ylim = (0, 40),\n",
    "              marker = '.', alpha = 1)\n",
    "plt.show()"
   ]
  },
  {
   "cell_type": "code",
   "execution_count": null,
   "metadata": {},
   "outputs": [],
   "source": [
    "ZeroBias_mean = np.mean(ZeroBias, axis = 0)\n",
    "\n",
    "baseline_zb = np.mean((X_test - ZeroBias_mean)**2, axis = (1, 2))\n",
    "baseline_mc = []\n",
    "for i in range(len(MC_zb)):\n",
    "    baseline_mc.append(np.mean((MC_zb[i] - ZeroBias_mean)**2, axis = (1, 2)))\n",
    "\n",
    "Y_zb = np.zeros((X_test.shape[0], 1))\n",
    "Y_mc = []\n",
    "for i in range(len(MC)):\n",
    "    Y_mc.append(np.ones((MC_zb[i].shape[0], 1)))\n",
    "\n",
    "Y_true = []\n",
    "Y_baseline = []\n",
    "Y_mse = []\n",
    "Y_bce = []\n",
    "Y_radius = []\n",
    "Y_kl = []\n",
    "Y_total = []\n",
    "for i in range(len(MC)):\n",
    "    Y_true.append(np.concatenate((Y_mc[i], Y_zb)))\n",
    "    Y_baseline.append(np.concatenate((baseline_mc[i], baseline_zb)))\n",
    "    Y_mse.append(np.concatenate((MC_zb_vaeloss_mse[i], X_test_vaeloss_mse)))\n",
    "    Y_bce.append(np.concatenate((MC_zb_vaeloss_bce[i], X_test_vaeloss_bce)))\n",
    "    Y_radius.append(np.concatenate((MC_zb_vaeloss_radius[i], X_test_vaeloss_radius)))\n",
    "    Y_kl.append(np.concatenate((MC_zb_vaeloss_kl[i], X_test_vaeloss_kl)))\n",
    "    Y_total.append(np.concatenate((MC_zb_vaeloss[i], X_test_vaeloss)))"
   ]
  },
  {
   "cell_type": "code",
   "execution_count": null,
   "metadata": {},
   "outputs": [],
   "source": [
    "n = 5\n",
    "\n",
    "plt.figure(figsize = (13, 13))\n",
    "axes = plt.subplot(2, 2, 1)\n",
    "\n",
    "fpr_baseline = np.empty((Y_true[n].shape[0],1))\n",
    "tpr_baseline = np.empty((Y_true[n].shape[0],1))\n",
    "thresholds_baseline = np.empty((Y_true[n].shape[0],1))\n",
    "roc_auc_baseline = np.empty((Y_true[n].shape[0],1))\n",
    "\n",
    "fpr_mse = np.empty((Y_true[n].shape[0],1))\n",
    "tpr_mse = np.empty((Y_true[n].shape[0],1))\n",
    "thresholds_mse = np.empty((Y_true[n].shape[0],1))\n",
    "roc_auc_mse = np.empty((Y_true[n].shape[0],1))\n",
    "\n",
    "fpr_bce = np.empty((Y_true[n].shape[0],1))\n",
    "tpr_bce = np.empty((Y_true[n].shape[0],1))\n",
    "thresholds_bce = np.empty((Y_true[n].shape[0],1))\n",
    "roc_auc_bce = np.empty((Y_true[n].shape[0],1))\n",
    "\n",
    "fpr_radius = np.empty((Y_true[n].shape[0],1))\n",
    "tpr_radius = np.empty((Y_true[n].shape[0],1))\n",
    "thresholds_radius = np.empty((Y_true[n].shape[0],1))\n",
    "roc_auc_radius = np.empty((Y_true[n].shape[0],1))\n",
    "\n",
    "fpr_kl = np.empty((Y_true[n].shape[0],1))\n",
    "tpr_kl = np.empty((Y_true[n].shape[0],1))\n",
    "thresholds_kl = np.empty((Y_true[n].shape[0],1))\n",
    "roc_auc_kl = np.empty((Y_true[n].shape[0],1))\n",
    "\n",
    "fpr_total = np.empty((Y_true[n].shape[0],1))\n",
    "tpr_total = np.empty((Y_true[n].shape[0],1))\n",
    "thresholds_total = np.empty((Y_true[n].shape[0],1))\n",
    "roc_auc_total = np.empty((Y_true[n].shape[0],1))\n",
    "\n",
    "fpr_baseline, tpr_baseline, thresholds_baseline = roc_curve(Y_true[n], Y_baseline[n])\n",
    "roc_auc_baseline = auc(fpr_baseline, tpr_baseline)\n",
    "\n",
    "fpr_mse, tpr_mse, thresholds_mse = roc_curve(Y_true[n], Y_mse[n])\n",
    "roc_auc_mse = auc(fpr_mse, tpr_mse)\n",
    "\n",
    "fpr_bce, tpr_bce, thresholds_bce = roc_curve(Y_true[n], Y_bce[n])\n",
    "roc_auc_bce = auc(fpr_bce, tpr_bce)\n",
    "\n",
    "fpr_radius, tpr_radius, thresholds_radius = roc_curve(Y_true[n], Y_radius[n])\n",
    "roc_auc_radius = auc(fpr_radius, tpr_radius)\n",
    "\n",
    "fpr_kl, tpr_kl, thresholds_kl = roc_curve(Y_true[n], Y_kl[n])\n",
    "roc_auc_kl = auc(fpr_kl, tpr_kl)\n",
    "\n",
    "fpr_total, tpr_total, thresholds_total = roc_curve(Y_true[n], Y_total[n])\n",
    "roc_auc_total = auc(fpr_total, tpr_total)\n",
    "\n",
    "lw = 2\n",
    "\n",
    "axes.plot(fpr_baseline, tpr_baseline, linestyle = '--', lw = lw, color = 'red', label = 'Cut-flow baseline (AUC = %.4f)' % (roc_auc_baseline))\n",
    "axes.plot(fpr_mse, tpr_mse, linestyle = '-', lw = lw, label = 'VAE anomaly score = MSE loss (AUC = %.4f)' % (roc_auc_mse))\n",
    "axes.plot(fpr_bce, tpr_bce, linestyle = '-', lw = lw, label = 'VAE anomaly score = BCE loss (AUC = %.4f)' % (roc_auc_bce))\n",
    "axes.plot(fpr_radius, tpr_radius, linestyle = '-', lw = lw, label = 'VAE anomaly score = radius loss (AUC = %.4f)' % (roc_auc_radius))\n",
    "axes.plot(fpr_kl, tpr_kl, linestyle = '-', lw = lw, label = 'VAE anomaly score = KL loss (AUC = %.4f)' % (roc_auc_kl))\n",
    "axes.plot(fpr_total, tpr_total, linestyle = '--', lw = lw, label = 'VAE anomaly score = BCE + KL (AUC = %.4f)' % (roc_auc_total))\n",
    "\n",
    "axes.plot([0.002, 0.002], [0, 1], linestyle = '--', lw = 1, color = 'black', label = 'FPR = 0.2% ~ (100 kHz)/(ZB rate)')\n",
    "axes.set_xlim([0.00001, 1.0])\n",
    "#axes.set_xlim([0, 1.0])\n",
    "axes.set_ylim([0, 1.0])\n",
    "#axes.set_ylim([0.9, 1.0])\n",
    "axes.set_xscale(value = \"log\")\n",
    "#axes.set_yscale(value = \"log\")\n",
    "axes.set_xlabel('False Positive Rate (FPR)')\n",
    "axes.set_ylabel('True Positive Rate (TPR)')\n",
    "axes.set_title(MC_files[n] + ' vs ZB')\n",
    "axes.legend(loc='center left', bbox_to_anchor = (0.6, 0.5))\n",
    "plt.show()"
   ]
  },
  {
   "cell_type": "code",
   "execution_count": null,
   "metadata": {},
   "outputs": [],
   "source": []
  },
  {
   "cell_type": "markdown",
   "metadata": {},
   "source": [
    "# Training"
   ]
  },
  {
   "cell_type": "markdown",
   "metadata": {},
   "source": [
    "Partition the dataset into train/val/test sets."
   ]
  },
  {
   "cell_type": "code",
   "execution_count": null,
   "metadata": {},
   "outputs": [],
   "source": [
    "X = ZeroBias\n",
    "\n",
    "train_ratio = 0.8\n",
    "val_ratio = 0.10\n",
    "test_ratio = 1 - train_ratio - val_ratio\n",
    "X_train_val, X_test = train_test_split(X, test_size = test_ratio, random_state = 1234)\n",
    "X_train, X_val = train_test_split(X_train_val, test_size = val_ratio/(val_ratio + train_ratio), random_state = 1234)"
   ]
  },
  {
   "cell_type": "markdown",
   "metadata": {},
   "source": [
    "Run the training. Mind the label when training for reconstruction or something else."
   ]
  },
  {
   "cell_type": "code",
   "execution_count": null,
   "metadata": {
    "scrolled": true
   },
   "outputs": [],
   "source": [
    "history = model.fit(X_train, X_train,\n",
    "                    epochs = 60,\n",
    "                    validation_data = (X_val, X_val),\n",
    "                    batch_size = 1024,\n",
    "                    callbacks = [\n",
    "                        tf.keras.callbacks.EarlyStopping(monitor = \"val_loss\", patience = 10, mode = \"min\")\n",
    "                    ])"
   ]
  },
  {
   "cell_type": "code",
   "execution_count": null,
   "metadata": {
    "scrolled": true
   },
   "outputs": [],
   "source": [
    "history = model.fit([np.delete(X_train,[1,2],axis=3),\n",
    "                     np.delete(X_train,[0,2],axis=3),\n",
    "                     np.delete(X_train,[0,1],axis=3)],\n",
    "                    #X_train,\n",
    "                    [np.delete(X_train,[1,2],axis=3),\n",
    "                     np.delete(X_train,[0,2],axis=3),\n",
    "                     np.delete(X_train,[0,1],axis=3)],\n",
    "                    epochs = 10,\n",
    "                    validation_data = (\n",
    "                    [np.delete(X_val,[1,2],axis=3),\n",
    "                     np.delete(X_val,[0,2],axis=3),\n",
    "                     np.delete(X_val,[0,1],axis=3)],\n",
    "                    #X_val),\n",
    "                    [np.delete(X_val,[1,2],axis=3),\n",
    "                     np.delete(X_val,[0,2],axis=3),\n",
    "                     np.delete(X_val,[0,1],axis=3)]),\n",
    "                    batch_size = 512,\n",
    "                    callbacks = [\n",
    "                        tf.keras.callbacks.EarlyStopping(monitor = \"val_loss\", patience = 10, mode = \"min\")\n",
    "                    ])"
   ]
  },
  {
   "cell_type": "markdown",
   "metadata": {},
   "source": [
    "Plot loss vs epoch."
   ]
  },
  {
   "cell_type": "code",
   "execution_count": null,
   "metadata": {},
   "outputs": [],
   "source": [
    "plt.figure(figsize = (15,10))\n",
    "axes = plt.subplot(2, 2, 1)\n",
    "axes.plot(history.history['loss'], label = 'train loss')\n",
    "#axes.set_yscale(value = \"log\")\n",
    "axes.plot(history.history['val_loss'], label = 'val loss')\n",
    "axes.legend(loc = \"upper right\")\n",
    "axes.set_xlabel('Epoch')\n",
    "axes.set_ylabel('Loss')"
   ]
  },
  {
   "cell_type": "markdown",
   "metadata": {},
   "source": [
    "# Saving/loading trained models"
   ]
  },
  {
   "cell_type": "code",
   "execution_count": null,
   "metadata": {},
   "outputs": [],
   "source": [
    "model.save('saved_models/teacher_sep26')"
   ]
  },
  {
   "cell_type": "code",
   "execution_count": null,
   "metadata": {},
   "outputs": [],
   "source": [
    "model = tf.keras.models.load_model('saved_models/teacher_sep26')\n",
    "model.summary()"
   ]
  },
  {
   "cell_type": "code",
   "execution_count": null,
   "metadata": {},
   "outputs": [],
   "source": [
    "qmodel.save('saved_models/qmodel_Oct3/')"
   ]
  },
  {
   "cell_type": "code",
   "execution_count": 11,
   "metadata": {},
   "outputs": [
    {
     "name": "stdout",
     "output_type": "stream",
     "text": [
      "Model: \"model_22\"\n",
      "_________________________________________________________________\n",
      " Layer (type)                Output Shape              Param #   \n",
      "=================================================================\n",
      " input (InputLayer)          [(None, 18, 14, 1)]       0         \n",
      "                                                                 \n",
      " flatten (Flatten)           (None, 252)               0         \n",
      "                                                                 \n",
      " dense1 (QDense)             (None, 100)               25200     \n",
      "                                                                 \n",
      " QBN1 (QBatchNormalization)  (None, 100)               400       \n",
      "                                                                 \n",
      " relu1 (QActivation)         (None, 100)               0         \n",
      "                                                                 \n",
      " output (QDense)             (None, 1)                 100       \n",
      "                                                                 \n",
      "=================================================================\n",
      "Total params: 25,700\n",
      "Trainable params: 25,500\n",
      "Non-trainable params: 200\n",
      "_________________________________________________________________\n"
     ]
    }
   ],
   "source": [
    "qmodel = tf.keras.models.load_model('saved_models/qmodel_oct3')\n",
    "qmodel.summary()"
   ]
  },
  {
   "cell_type": "markdown",
   "metadata": {},
   "source": [
    "# Loss distribution"
   ]
  },
  {
   "cell_type": "markdown",
   "metadata": {},
   "source": [
    "Feed all datasets into the trained model to compute prediction outputs."
   ]
  },
  {
   "cell_type": "code",
   "execution_count": 4,
   "metadata": {},
   "outputs": [],
   "source": [
    "X_test = h5py.File('bkg/EphemeralZeroBias2018RunD_2.h5', 'r')\n",
    "X_test = np.stack((X_test['CaloRegions'][:500000].astype('float32'),\n",
    "                   X_test['EGBit'][:500000].astype('float32'),\n",
    "                   X_test['TauBit'][:500000].astype('float32')))\n",
    "X_test = np.moveaxis(X_test, 0, -1)"
   ]
  },
  {
   "cell_type": "code",
   "execution_count": 13,
   "metadata": {},
   "outputs": [],
   "source": [
    "X_test_predict = qmodel.predict(np.delete(X_test,[1,2],axis=3))\n",
    "#X_train_predict = model.predict(X_train)\n",
    "#X_val_predict = model.predict(X_val)\n",
    "#X_test_predict = model.predict(X_test)\n",
    "MC_predict = []\n",
    "for i in range(len(MC)):\n",
    "    MC_predict.append(qmodel.predict(np.delete(MC[i],[1,2],axis=3)))\n",
    "    #MC_predict.append(model.predict(MC[i]))\n",
    "    #MC_predict.append(model.predict(MC_masked[i]))"
   ]
  },
  {
   "cell_type": "code",
   "execution_count": null,
   "metadata": {},
   "outputs": [],
   "source": [
    "X_test_predict = model.predict([np.delete(X_test,[1,2],axis=3),\n",
    "                                     np.delete(X_test,[0,2],axis=3),\n",
    "                                     np.delete(X_test,[0,1],axis=3)])\n",
    "MC_predict = []\n",
    "for i in range(len(MC)):\n",
    "    MC_predict.append(model.predict([np.delete(MC_masked[i],[1,2],axis=3),\n",
    "                                          np.delete(MC_masked[i],[0,2],axis=3),\n",
    "                                          np.delete(MC_masked[i],[0,1],axis=3)]))"
   ]
  },
  {
   "cell_type": "markdown",
   "metadata": {},
   "source": [
    "Define loss function to use for inference."
   ]
  },
  {
   "cell_type": "code",
   "execution_count": null,
   "metadata": {},
   "outputs": [],
   "source": [
    "def custom_loss_for_pred(y_true, y_pred, choice):\n",
    "    #MSE\n",
    "    if choice == 0:\n",
    "        loss = np.mean((y_true - y_pred)**2, axis = (1, 2, 3))\n",
    "        return loss\n",
    "    \n",
    "    #MSE for de-noising model\n",
    "    if choice == 1:\n",
    "        loss = np.mean(y_pred**2, axis = (1, 2, 3))\n",
    "        return loss\n",
    "    \n",
    "    #VAE radius loss\n",
    "    if choice == 2:\n",
    "        loss = np.sqrt(np.sum(y_pred**2, axis = 1))\n",
    "        return loss\n",
    "    \n",
    "    #VAE KL loss\n",
    "    if choice == 3:\n",
    "        loss = -0.5 * np.sum(1.0 + y_pred - y_true**2 - np.exp(y_pred), axis = 1)\n",
    "        return loss"
   ]
  },
  {
   "cell_type": "markdown",
   "metadata": {},
   "source": [
    "Compute loss for all samples."
   ]
  },
  {
   "cell_type": "code",
   "execution_count": null,
   "metadata": {},
   "outputs": [],
   "source": [
    "loss_choice = 0\n",
    "\n",
    "#X_test_loss = custom_loss_for_pred(np.delete(X_test,[1,2],axis=3), X_test_predict, loss_choice)\n",
    "#X_test_loss = custom_loss_for_pred(np.delete(X_test,[1,2],axis=3), X_test_predict[0], loss_choice)+custom_loss_for_pred(np.delete(X_test,[0,2],axis=3), X_test_predict[1], loss_choice)+custom_loss_for_pred(np.delete(X_test,[0,1],axis=3), X_test_predict[2], loss_choice)\n",
    "#X_test_loss = custom_loss_for_pred(np.delete(X_test,[0,2],axis=3), X_test_predict[1], loss_choice)+custom_loss_for_pred(np.delete(X_test,[0,1],axis=3), X_test_predict[2], loss_choice)\n",
    "X_train_loss = custom_loss_for_pred(X_train, X_train_predict, loss_choice)\n",
    "X_val_loss = custom_loss_for_pred(X_val, X_val_predict, loss_choice)\n",
    "X_test_loss = custom_loss_for_pred(X_test, X_test_predict, loss_choice)\n",
    "\n",
    "MC_loss = []\n",
    "for i in range(len(MC)):\n",
    "    #MC_loss.append(custom_loss_for_pred(np.delete(MC_masked[i],[1,2],axis=3), MC_predict[i][0], loss_choice)+custom_loss_for_pred(np.delete(MC_masked[i],[0,2],axis=3), MC_predict[i][1], loss_choice)+custom_loss_for_pred(np.delete(MC_masked[i],[0,1],axis=3), MC_predict[i][2], loss_choice))\n",
    "    #MC_loss.append(custom_loss_for_pred(np.delete(MC_masked[i],[0,2],axis=3), MC_predict[i][1], loss_choice)+custom_loss_for_pred(np.delete(MC_masked[i],[0,1],axis=3), MC_predict[i][2], loss_choice))\n",
    "    MC_loss.append(custom_loss_for_pred(np.delete(MC[i],[1,2],axis=3), MC_predict[i], loss_choice))"
   ]
  },
  {
   "cell_type": "markdown",
   "metadata": {},
   "source": [
    "Plot loss distributions."
   ]
  },
  {
   "cell_type": "code",
   "execution_count": null,
   "metadata": {},
   "outputs": [],
   "source": [
    "nbins = 20\n",
    "rmin = 0\n",
    "rmax = 100\n",
    "plt.hist(X_test_loss, density = 1, bins = nbins, alpha = 0.3, label = 'test (ZeroBias)', range = (rmin, rmax), log = True)\n",
    "#plt.hist(MC_ZB_loss[0], density = 1, bins = nbins, label = 'QCD', alpha = 0.1, histtype = 'stepfilled', range = (rmin, rmax))\n",
    "for i in range(3,7):\n",
    "    plt.hist(MC_loss[i], density = 1, bins = nbins, label = MC_files[i], histtype = 'step', range = (rmin, rmax))\n",
    "plt.legend(loc='center left', bbox_to_anchor=(1, 0.5))\n",
    "plt.xlabel(\"Anomaly score\")\n",
    "plt.show()"
   ]
  },
  {
   "cell_type": "markdown",
   "metadata": {},
   "source": [
    "# Comparison between original and reconstructed inputs"
   ]
  },
  {
   "cell_type": "code",
   "execution_count": null,
   "metadata": {
    "scrolled": true
   },
   "outputs": [],
   "source": [
    "show_ZB = True\n",
    "#show_ZB = False\n",
    "n = 6\n",
    "for i in range(1180,1190):\n",
    "    fig, ax = plt.subplots(figsize = (17,17))\n",
    "    if show_ZB == True:\n",
    "        print('ZB test\\nloss = ' + str(X_test_loss[i]))\n",
    "    else:\n",
    "        print(str(MC_files[n]) + '\\nloss = ' + str(MC_loss[n][i]))\n",
    "    ax = plt.subplot(3, 3, 1)\n",
    "    if show_ZB == True:\n",
    "        ax = sns.heatmap(X_test[i,:,:,0].reshape(18, 14), vmin = 0, vmax = X_test[i,:,:,0].max(), cmap = \"Greens\", cbar_kws = {'label': 'ET (GeV)'})\n",
    "    else:\n",
    "        ax = sns.heatmap(MC[n][i,:,:,0].reshape(18, 14), vmin = 0, vmax = MC[n][i,:,:,0].max(), cmap = \"Greens\", cbar_kws = {'label': 'ET (GeV)'})\n",
    "    ax.get_xaxis().set_visible(False)\n",
    "    ax.get_yaxis().set_visible(False)\n",
    "    ax.set_title('Original')\n",
    "    \n",
    "    ax = plt.subplot(3, 3, 2)\n",
    "    if show_ZB == True:\n",
    "        ax = sns.heatmap(X_test_predict[i,:,:,0].reshape(18, 14), vmin = 0, vmax = X_test[i,:,:,0].max(), cmap = \"Greens\", cbar_kws = {'label': 'ET (GeV)'})\n",
    "    else:\n",
    "        ax = sns.heatmap(MC_predict[n][i,:,:,0].reshape(18, 14), vmin = 0, vmax = MC[n][i,:,:,0].max(), cmap = \"Greens\", cbar_kws = {'label': 'ET (GeV)'})\n",
    "    ax.get_xaxis().set_visible(False)\n",
    "    ax.get_yaxis().set_visible(False)\n",
    "    ax.set_title('Reconstructed')\n",
    "    \n",
    "    ax = plt.subplot(3, 3, 3)\n",
    "    if show_ZB == True:\n",
    "        ax = sns.heatmap(np.absolute(X_test_predict[i,:,:,0] - X_test[i,:,:,0]).reshape(18, 14), vmin = 0, vmax = X_test[i,:,:,0].max(), cmap = \"Greens\", cbar_kws = {'label': 'ET (GeV)'})\n",
    "    else:\n",
    "        ax = sns.heatmap(np.absolute(MC_predict[n][i,:,:,0] - MC[n][i,:,:,0]).reshape(18, 14), vmin = 0, vmax = MC[n][i,:,:,0].max(), cmap = \"Greens\", cbar_kws = {'label': 'ET (GeV)'})\n",
    "    ax.get_xaxis().set_visible(False)\n",
    "    ax.get_yaxis().set_visible(False)\n",
    "    ax.set_title('abs(original-reconstructed)')\n",
    "    plt.show()"
   ]
  },
  {
   "cell_type": "code",
   "execution_count": null,
   "metadata": {},
   "outputs": [],
   "source": [
    "#show_ZB = True\n",
    "show_ZB = False\n",
    "n = 3\n",
    "for i in range(1180,1183):\n",
    "    fig, ax = plt.subplots(figsize = (12,12))\n",
    "    if show_ZB == True:\n",
    "        print('ZB test\\nloss = ' + str(X_test_loss[i]))\n",
    "    else:\n",
    "        print(str(MC_files[n]) + '\\nloss = ' + str(MC_loss[n][i]))\n",
    "    ax = plt.subplot(3, 3, 1)\n",
    "    if show_ZB == True:\n",
    "        ax = sns.heatmap(X_test[i,:,:,0].reshape(18, 14), vmin = 0, vmax = X_test[i,:,:,0].max(), cmap = \"Greens\", cbar_kws = {'label': 'ET (GeV)'})\n",
    "    else:\n",
    "        ax = sns.heatmap(MC_masked[n][i,:,:,0].reshape(18, 14), vmin = 0, vmax = MC_masked[n][i,:,:,0].max(), cmap = \"Greens\", cbar_kws = {'label': 'ET (GeV)'})\n",
    "    ax.get_xaxis().set_visible(False)\n",
    "    ax.get_yaxis().set_visible(False)\n",
    "    ax.set_title('Original: No-bit channel')\n",
    "    \n",
    "    ax = plt.subplot(3, 3, 2)\n",
    "    if show_ZB == True:\n",
    "        ax = sns.heatmap(X_test[i,:,:,1].reshape(18, 14), vmin = 0, vmax = X_test[i,:,:,1].max(), cmap = \"Greens\", cbar_kws = {'label': 'ET (GeV)'})\n",
    "    else:\n",
    "        ax = sns.heatmap(MC_masked[n][i,:,:,1].reshape(18, 14), vmin = 0, vmax = MC_masked[n][i,:,:,1].max(), cmap = \"Greens\", cbar_kws = {'label': 'ET (GeV)'})\n",
    "    ax.get_xaxis().set_visible(False)\n",
    "    ax.get_yaxis().set_visible(False)\n",
    "    ax.set_title('Original: EG channel')\n",
    "    \n",
    "    ax = plt.subplot(3, 3, 3)\n",
    "    if show_ZB == True:\n",
    "        ax = sns.heatmap(X_test[i,:,:,2].reshape(18, 14), vmin = 0, vmax = X_test[i,:,:,2].max(), cmap = \"Greens\", cbar_kws = {'label': 'ET (GeV)'})\n",
    "    else:\n",
    "        ax = sns.heatmap(MC_masked[n][i,:,:,2].reshape(18, 14), vmin = 0, vmax = MC_masked[n][i,:,:,2].max(), cmap = \"Greens\", cbar_kws = {'label': 'ET (GeV)'})\n",
    "    ax.get_xaxis().set_visible(False)\n",
    "    ax.get_yaxis().set_visible(False)\n",
    "    ax.set_title('Original: Tau channel')\n",
    "    \n",
    "    ax = plt.subplot(3, 3, 4)\n",
    "    if show_ZB == True:\n",
    "        ax = sns.heatmap(X_test_predict[0][i,:,:,0].reshape(18, 14), vmin = 0, vmax = X_test[i,:,:,0].max(), cmap = \"Greens\", cbar_kws = {'label': 'ET (GeV)'})\n",
    "    else:\n",
    "        ax = sns.heatmap(MC_predict[n][0][i,:,:,0].reshape(18, 14), vmin = 0, vmax = MC_masked[n][i,:,:,0].max(), cmap = \"Greens\", cbar_kws = {'label': 'ET (GeV)'})\n",
    "    ax.get_xaxis().set_visible(False)\n",
    "    ax.get_yaxis().set_visible(False)\n",
    "    ax.set_title('Reconstructed: No-bit channel')\n",
    "    \n",
    "    ax = plt.subplot(3, 3, 5)\n",
    "    if show_ZB == True:\n",
    "        ax = sns.heatmap(X_test_predict[1][i,:,:,0].reshape(18, 14), vmin = 0, vmax = X_test[i,:,:,1].max(), cmap = \"Greens\", cbar_kws = {'label': 'ET (GeV)'})\n",
    "    else:\n",
    "        ax = sns.heatmap(MC_predict[n][1][i,:,:,0].reshape(18, 14), vmin = 0, vmax = MC_masked[n][i,:,:,1].max(), cmap = \"Greens\", cbar_kws = {'label': 'ET (GeV)'})\n",
    "    ax.get_xaxis().set_visible(False)\n",
    "    ax.get_yaxis().set_visible(False)\n",
    "    ax.set_title('Reconstructed: EG channel')\n",
    "    \n",
    "    ax = plt.subplot(3, 3, 6)\n",
    "    if show_ZB == True:\n",
    "        ax = sns.heatmap(X_test_predict[2][i,:,:,0].reshape(18, 14), vmin = 0, vmax = X_test[i,:,:,2].max(), cmap = \"Greens\", cbar_kws = {'label': 'ET (GeV)'})\n",
    "    else:\n",
    "        ax = sns.heatmap(MC_predict[n][2][i,:,:,0].reshape(18, 14), vmin = 0, vmax = MC_masked[n][i,:,:,2].max(), cmap = \"Greens\", cbar_kws = {'label': 'ET (GeV)'})\n",
    "    ax.get_xaxis().set_visible(False)\n",
    "    ax.get_yaxis().set_visible(False)\n",
    "    ax.set_title('Reconstructed: Tau channel')\n",
    "    \n",
    "    plt.show()"
   ]
  },
  {
   "cell_type": "markdown",
   "metadata": {},
   "source": [
    "# Knowledge Distillation (+ quantizing with QKeras)"
   ]
  },
  {
   "cell_type": "code",
   "execution_count": null,
   "metadata": {},
   "outputs": [],
   "source": [
    "from qkeras import *"
   ]
  },
  {
   "cell_type": "markdown",
   "metadata": {},
   "source": [
    "Construct student model without quantization."
   ]
  },
  {
   "cell_type": "code",
   "execution_count": null,
   "metadata": {},
   "outputs": [],
   "source": [
    "x_in = layers.Input(shape = (18, 14, 1), name = \"input\")\n",
    "x = layers.Flatten(name = \"flatten\")(x_in)\n",
    "x = layers.Dense(60, use_bias = False, name = \"dense1\")(x)\n",
    "x = layers.BatchNormalization()(x)\n",
    "x = layers.Activation('relu', name = \"relu2\")(x)\n",
    "x = layers.Dense(80, use_bias = False, name = \"dense2\")(x)\n",
    "x = layers.BatchNormalization()(x)\n",
    "x = layers.Activation('relu', name = \"relu3\")(x)\n",
    "x = layers.Dense(1, name = \"dense3\")(x)\n",
    "#x = layers.Activation('relu', name = \"output\")(x)\n",
    "\n",
    "qmodel = tf.keras.models.Model(x_in, x)\n",
    "qmodel.summary()\n",
    "qmodel.compile(optimizer = 'adam', loss = 'mse')"
   ]
  },
  {
   "cell_type": "markdown",
   "metadata": {},
   "source": [
    "Construct student model with pre-defined quantization configuration."
   ]
  },
  {
   "cell_type": "code",
   "execution_count": null,
   "metadata": {},
   "outputs": [],
   "source": [
    "#For quantization-aware training\n",
    "x_in = layers.Input(shape = (18, 14, 1), name = 'input')\n",
    "x = layers.Flatten(name = 'flatten')(x_in)\n",
    "x = QDense(100, kernel_quantizer = quantized_bits(6, 0, 1, alpha=1.0),\n",
    "           use_bias = False, name = 'dense1')(x)\n",
    "#x = QBatchNormalization(name = 'QBN1')(x)\n",
    "x = QBatchNormalization(beta_quantizer=quantized_bits(10, 2, 1, alpha='auto'),\n",
    "                        gamma_quantizer=quantized_bits(10, 2, 1, alpha='auto'),\n",
    "                        mean_quantizer=quantized_bits(10, 2, 1, alpha='auto'),\n",
    "                        variance_quantizer=quantized_bits(10, 2, 1, alpha='auto'),\n",
    "                        name = 'QBN1')(x)\n",
    "x = QActivation('quantized_relu(5, 0)', name = 'relu1')(x)\n",
    "x = QDense(1, kernel_quantizer = quantized_bits(2, 0, 1, alpha=1.0),\n",
    "           use_bias = False, name = 'output')(x)\n",
    "\n",
    "qmodel = tf.keras.models.Model(x_in, x)\n",
    "qmodel.summary()\n",
    "qmodel.compile(optimizer = 'adam', loss = 'mse')"
   ]
  },
  {
   "cell_type": "markdown",
   "metadata": {},
   "source": [
    "Train the student model with knowledge distilled from a pre-trained teacher model."
   ]
  },
  {
   "cell_type": "code",
   "execution_count": null,
   "metadata": {
    "scrolled": true
   },
   "outputs": [],
   "source": [
    "history_student = qmodel.fit(X_train, X_train_loss,\n",
    "                                epochs = 60,\n",
    "                                validation_data = (X_val, X_val_loss),\n",
    "                                batch_size = 256,\n",
    "                                callbacks = [\n",
    "                                    #tensorboard_callback,\n",
    "                                    tf.keras.callbacks.EarlyStopping(monitor = \"val_loss\", patience = 200, mode = \"min\")\n",
    "                                ])"
   ]
  },
  {
   "cell_type": "markdown",
   "metadata": {},
   "source": [
    "Plot loss vs epoch."
   ]
  },
  {
   "cell_type": "code",
   "execution_count": null,
   "metadata": {},
   "outputs": [],
   "source": [
    "plt.figure(figsize = (15,10))\n",
    "axes = plt.subplot(2, 2, 1)\n",
    "axes.plot(history_student.history['loss'], label = 'train loss')\n",
    "#axes.set_yscale(value = \"log\")\n",
    "axes.plot(history_student.history['val_loss'], label = 'val loss')\n",
    "axes.legend(loc = \"upper right\")\n",
    "axes.set_xlabel('Epoch')\n",
    "axes.set_ylabel('Loss')"
   ]
  },
  {
   "cell_type": "markdown",
   "metadata": {},
   "source": [
    "Feed all datasets into the trained model to compute prediction outputs."
   ]
  },
  {
   "cell_type": "code",
   "execution_count": null,
   "metadata": {},
   "outputs": [],
   "source": [
    "X_train_predict_qmodel = qmodel.predict(X_train)\n",
    "X_test_predict_qmodel = qmodel.predict(X_test)\n",
    "MC_predict_qmodel = []\n",
    "for i in range(len(MC)):\n",
    "    MC_predict_qmodel.append(qmodel.predict(MC[i][:,:,:,0].reshape(-1,18,14,1)))"
   ]
  },
  {
   "cell_type": "markdown",
   "metadata": {},
   "source": [
    "Plot loss distributions."
   ]
  },
  {
   "cell_type": "code",
   "execution_count": 14,
   "metadata": {},
   "outputs": [
    {
     "data": {
      "image/png": "[encoded data removed]",
      "text/plain": [
       "<Figure size 432x288 with 1 Axes>"
      ]
     },
     "metadata": {
      "needs_background": "light"
     },
     "output_type": "display_data"
    }
   ],
   "source": [
    "nbins = 20\n",
    "rmin = 0\n",
    "rmax = 27\n",
    "#plt.hist(X_train_predict_qmodel, density = 1, bins = nbins, alpha = 0.3, label = 'train (ZeroBias)', range = (rmin, rmax), log = True)\n",
    "plt.hist(X_test_predict, density = 1, bins = nbins, alpha = 0.3, label = 'test (ZeroBias)', range = (rmin, rmax), log = True)\n",
    "#plt.hist(MC_predict_qmodel[0], density = 1, bins = nbins, label = 'QCD', alpha = 0.1, histtype = 'stepfilled', range = (rmin, rmax))\n",
    "#plt.hist(MC_predict_qmodel[1], density = 1, bins = nbins, label = 'SingleNu', alpha = 0.1, histtype = 'stepfilled', range = (rmin, rmax))\n",
    "plt.hist(MC_predict[3], density = 1, bins = nbins, label = 'H->tautau', histtype = 'step', range = (rmin, rmax))\n",
    "plt.hist(MC_predict[4], density = 1, bins = nbins, label = 'SM HH->4b', histtype = 'step', range = (rmin, rmax))\n",
    "plt.hist(MC_predict[5], density = 1, bins = nbins, label = 'TTbar', histtype = 'step', range = (rmin, rmax))\n",
    "plt.hist(MC_predict[6], density = 1, bins = nbins, label = 'H->aa->4b', histtype = 'step', range = (rmin, rmax))\n",
    "#plt.legend(loc='center left', bbox_to_anchor=(1, 0.5))\n",
    "#plt.legend(loc='center left', bbox_to_anchor=(0.57, 0.5))\n",
    "plt.legend(loc='upper right')\n",
    "plt.xlabel(\"loss\")\n",
    "#plt.xticks(np.arange(rmin, rmax, step = 0.0002))\n",
    "plt.show()"
   ]
  },
  {
   "cell_type": "markdown",
   "metadata": {},
   "source": [
    "# Knowledge Distillation (+ quantizing with AutoQKeras)"
   ]
  },
  {
   "cell_type": "code",
   "execution_count": null,
   "metadata": {},
   "outputs": [],
   "source": [
    "from qkeras import *\n",
    "from qkeras.autoqkeras import *"
   ]
  },
  {
   "cell_type": "code",
   "execution_count": null,
   "metadata": {},
   "outputs": [],
   "source": [
    "def metric_for_autoqk(y_true, y_pred):\n",
    "    loss = 10 - tf.reduce_mean(tf.square(y_true - y_pred), axis = -1)\n",
    "    return loss"
   ]
  },
  {
   "cell_type": "code",
   "execution_count": null,
   "metadata": {
    "scrolled": false
   },
   "outputs": [],
   "source": [
    "x_in = layers.Input(shape=(18,14,1),name=\"In\")\n",
    "x = layers.Flatten(name=\"Flatten\")(x_in)\n",
    "x = layers.Dense(40,use_bias=False,name=\"Dense_1\")(x)\n",
    "x = QBatchNormalization(name=\"QBN_1\")(x)\n",
    "x = layers.Activation('relu',name=\"Activation_1\")(x)\n",
    "x = layers.Dense(60,use_bias=False,name=\"Dense_2\")(x)\n",
    "x = QBatchNormalization(name=\"QBN_2\")(x)\n",
    "x = layers.Activation('relu',name=\"Activation_2\")(x)\n",
    "x = layers.Dense(1,use_bias=False,name=\"Out\")(x)\n",
    "\n",
    "qmodel_original = tf.keras.models.Model(x_in, x)\n",
    "qmodel_original.summary()\n",
    "qmodel_original.compile(optimizer = 'adam', loss = 'mse', metrics = [metric_for_autoqk])"
   ]
  },
  {
   "cell_type": "code",
   "execution_count": null,
   "metadata": {},
   "outputs": [],
   "source": [
    "quantization_config = {\n",
    "        \"kernel\": {\n",
    "                \"quantized_bits(2,0,1,alpha=1.0)\": 2,\n",
    "                \"quantized_bits(2,1,1,alpha=1.0)\": 2,\n",
    "                \"quantized_bits(3,0,1,alpha=1.0)\": 3,\n",
    "                \"quantized_bits(3,1,1,alpha=1.0)\": 3,\n",
    "                \"quantized_bits(4,0,1,alpha=1.0)\": 4,\n",
    "                \"quantized_bits(4,1,1,alpha=1.0)\": 4,\n",
    "                \"quantized_bits(5,0,1,alpha=1.0)\": 5,\n",
    "                \"quantized_bits(5,1,1,alpha=1.0)\": 5\n",
    "        },\n",
    "        \"activation\": {\n",
    "                \"quantized_relu(2,0)\": 2,\n",
    "                \"quantized_relu(2,1)\": 2,\n",
    "                \"quantized_relu(3,0)\": 3,\n",
    "                \"quantized_relu(3,1)\": 3,\n",
    "                \"quantized_relu(4,0)\": 4,\n",
    "                \"quantized_relu(4,1)\": 4,\n",
    "                \"quantized_relu(5,0)\": 5,\n",
    "                \"quantized_relu(5,1)\": 5\n",
    "        }\n",
    "}\n",
    "\n",
    "limit = {\n",
    "    \"Dense\": [5,5,5], # format for Dense is max bits for [kernel,bias,activation] \n",
    "    \"Activation\": [5] # format for Activation is max bits for [activation]\n",
    "    #\"BatchNormalization\": []\n",
    "}\n",
    "\n",
    "goal = {\n",
    "    \"type\": \"bits\", # energy, bits\n",
    "    \"params\": {\n",
    "        \"delta_p\": 8.0,\n",
    "        \"delta_n\": 8.0,\n",
    "        \"rate\": 2.0,\n",
    "        \"stress\": 1.0,\n",
    "        #\"process\": \"horowitz\",\n",
    "        #\"parameters_on_memory\": [\"sram\", \"sram\"],\n",
    "        #\"activations_on_memory\": [\"sram\", \"sram\"],\n",
    "        #\"rd_wr_on_io\": [False, False],\n",
    "        #\"min_sram_size\": [0, 0],\n",
    "        #\"source_quantizers\": [\"quantized_bits(bits=10,integer=10,symmetric=0,keep_negative=False)\"],\n",
    "        #\"reference_internal\": \"int8\",\n",
    "        #\"reference_accumulator\": \"int32\"\n",
    "        \"input_bits\": 8,\n",
    "        \"output_bits\": 8,\n",
    "        \"ref_bits\": 8,\n",
    "        \"config\": {\n",
    "            \"default\": [\"parameters\", \"activations\"]\n",
    "        }\n",
    "    }\n",
    "}\n",
    "\n",
    "run_config = {\n",
    "  \"output_dir\": \"run_config\",\n",
    "  \"goal\": goal,\n",
    "  \"quantization_config\": quantization_config,\n",
    "  \"learning_rate_optimizer\": False, # False since still experimental\n",
    "  \"transfer_weights\": False, # False for the #filters/neurons to float\n",
    "  \"mode\": \"hyperband\", # random/bayesian/hyperband\n",
    "  \"seed\": 123,\n",
    "  \"limit\": limit,\n",
    "  \"tune_filters\": \"none\", # layer/block/none(no filter tunning at all)\n",
    "  \"tune_filters_exceptions\": \"\",\n",
    "  #\"layer_indexes\": range(1 + 1, len(qmodel_original.layers))\n",
    "  \"layer_indexes\": (2,4,5,7,8)\n",
    "}\n",
    "\n",
    "print(\"quantizing layers:\", [qmodel_original.layers[i].name for i in run_config[\"layer_indexes\"]])"
   ]
  },
  {
   "cell_type": "code",
   "execution_count": null,
   "metadata": {
    "scrolled": false
   },
   "outputs": [],
   "source": [
    "autoqk = AutoQKeras(qmodel_original, metrics=[metric_for_autoqk], custom_objects={}, **run_config)\n",
    "autoqk.fit(X_train, X_train_loss, validation_data=(X_val, X_val_loss), batch_size=128, epochs=8)\n",
    "# i = log(reference_size / trial_size) / log(rate)\n",
    "# delta = i * ( (i < 0) * delta_n + (i >= 0) * delta_p )\n",
    "# objective to maximize in the search is\n",
    "# adjusted score =  metric * (1 + delta), as formulated in the paper"
   ]
  },
  {
   "cell_type": "code",
   "execution_count": null,
   "metadata": {},
   "outputs": [],
   "source": [
    "qmodel = autoqk.get_best_model()"
   ]
  },
  {
   "cell_type": "code",
   "execution_count": null,
   "metadata": {},
   "outputs": [],
   "source": [
    "qmodel.save_weights(\"qmodel1.h5\")"
   ]
  },
  {
   "cell_type": "code",
   "execution_count": null,
   "metadata": {},
   "outputs": [],
   "source": [
    "qmodel.load_weights(\"qmodel1.h5\")"
   ]
  },
  {
   "cell_type": "code",
   "execution_count": null,
   "metadata": {
    "scrolled": true
   },
   "outputs": [],
   "source": [
    "qmodel.compile(optimizer='adam', loss=\"mse\")\n",
    "history_qmodel = qmodel.fit(X_train, X_train_loss, epochs=40, batch_size=256, validation_data=(X_val, X_val_loss))"
   ]
  },
  {
   "cell_type": "code",
   "execution_count": null,
   "metadata": {},
   "outputs": [],
   "source": [
    "plt.figure(figsize = (15,10))\n",
    "axes = plt.subplot(2, 2, 1)\n",
    "axes.plot(history_qmodel.history['loss'], label = 'train loss')\n",
    "#axes.set_yscale(value = \"log\")\n",
    "axes.plot(history_qmodel.history['val_loss'], label = 'val loss')\n",
    "axes.legend(loc = \"upper right\")\n",
    "axes.set_xlabel('Epoch')\n",
    "axes.set_ylabel('Loss')"
   ]
  },
  {
   "cell_type": "code",
   "execution_count": null,
   "metadata": {},
   "outputs": [],
   "source": [
    "X_train_predict_qmodel = qmodel.predict(X_train)\n",
    "X_test_predict_qmodel = qmodel.predict(X_test)\n",
    "MC_predict_qmodel = []\n",
    "for i in range(len(MC)):\n",
    "    MC_predict_qmodel.append(qmodel.predict(np.delete(MC[i],[1,2],axis=3)))"
   ]
  },
  {
   "cell_type": "code",
   "execution_count": null,
   "metadata": {},
   "outputs": [],
   "source": [
    "nbins = 20\n",
    "rmin = 0\n",
    "rmax = 18\n",
    "#plt.hist(X_train_predict_qmodel, density = 1, bins = nbins, alpha = 0.3, label = 'train (ZeroBias)', range = (rmin, rmax), log = True)\n",
    "plt.hist(X_test_predict_qmodel, density = 1, bins = nbins, alpha = 0.3, label = 'test (ZeroBias)', range = (rmin, rmax), log = True)\n",
    "#plt.hist(MC_predict_qmodel[0], density = 1, bins = nbins, label = 'QCD', alpha = 0.1, histtype = 'stepfilled', range = (rmin, rmax))\n",
    "#plt.hist(MC_predict_qmodel[1], density = 1, bins = nbins, label = 'SingleNu', alpha = 0.1, histtype = 'stepfilled', range = (rmin, rmax))\n",
    "plt.hist(MC_predict_qmodel[3], density = 1, bins = nbins, label = 'H->tautau', histtype = 'step', range = (rmin, rmax))\n",
    "plt.hist(MC_predict_qmodel[4], density = 1, bins = nbins, label = 'SM HH->4b', histtype = 'step', range = (rmin, rmax))\n",
    "plt.hist(MC_predict_qmodel[5], density = 1, bins = nbins, label = 'TTbar', histtype = 'step', range = (rmin, rmax))\n",
    "plt.hist(MC_predict_qmodel[6], density = 1, bins = nbins, label = 'H->aa->4b', histtype = 'step', range = (rmin, rmax))\n",
    "#plt.legend(loc='center left', bbox_to_anchor=(1, 0.5))\n",
    "#plt.legend(loc='center left', bbox_to_anchor=(0.57, 0.5))\n",
    "plt.legend(loc='upper right')\n",
    "plt.xlabel(\"loss\")\n",
    "#plt.xticks(np.arange(rmin, rmax, step = 0.0002))\n",
    "plt.show()"
   ]
  },
  {
   "cell_type": "markdown",
   "metadata": {},
   "source": [
    "# TensorBoard (less useful)"
   ]
  },
  {
   "cell_type": "code",
   "execution_count": null,
   "metadata": {},
   "outputs": [],
   "source": [
    "%load_ext tensorboard\n",
    "rm -rf ./logs/\n",
    "tensorboard_callback = tf.keras.callbacks.TensorBoard(log_dir = \"logs/fit\", histogram_freq = 1)\n",
    "%tensorboard --logdir logs/fit"
   ]
  },
  {
   "cell_type": "markdown",
   "metadata": {},
   "source": [
    "# ROC plotting"
   ]
  },
  {
   "cell_type": "markdown",
   "metadata": {},
   "source": [
    "### Assigning labels and arranging for ROC plotting"
   ]
  },
  {
   "cell_type": "code",
   "execution_count": 8,
   "metadata": {},
   "outputs": [],
   "source": [
    "#Baseline\n",
    "#Assuming only the mean ZB is learned\n",
    "#Take mean ZB as outputs no matter what inputs are\n",
    "#Classifier of baseline = MSE(inputs, ZeroBias_mean)\n",
    "ZeroBias_mean = np.mean(ZeroBias[:,:,:,0].reshape(-1,18,14,1), axis = 0)\n",
    "\n",
    "baseline_zb = np.mean((X_test[:,:,:,0].reshape(-1,18,14,1) - ZeroBias_mean)**2, axis = (1, 2))\n",
    "baseline_mc = []\n",
    "for i in range(len(MC)):\n",
    "    baseline_mc.append(np.mean((MC[i][:,:,:,0].reshape(-1,18,14,1) - ZeroBias_mean)**2, axis = (1, 2)))"
   ]
  },
  {
   "cell_type": "code",
   "execution_count": 15,
   "metadata": {},
   "outputs": [],
   "source": [
    "#Assign labels for various signals (y = 1) and backgrounds (y = 0)\n",
    "Y_zb = np.zeros((X_test.shape[0], 1))\n",
    "Y_mc = []\n",
    "for i in range(len(MC)):\n",
    "    Y_mc.append(np.ones((MC[i].shape[0], 1)))\n",
    "\n",
    "#Concatenate datasets to make ROC curves, i.e. QCD/SingleNu/signals vs ZB\n",
    "\n",
    "#True labels\n",
    "Y_true = []\n",
    "#Baseline scores\n",
    "Y_baseline = []\n",
    "#Model scores\n",
    "Y_model = []\n",
    "Y_qmodel = []\n",
    "\n",
    "for i in range(len(MC)):\n",
    "    Y_true.append(np.concatenate((Y_mc[i], Y_zb)))\n",
    "    Y_baseline.append(np.concatenate((baseline_mc[i], baseline_zb)))\n",
    "    #Y_model.append(np.concatenate((MC_loss[i], X_test_loss)))\n",
    "    Y_qmodel.append(np.concatenate((MC_predict[i], X_test_predict)))"
   ]
  },
  {
   "cell_type": "markdown",
   "metadata": {},
   "source": [
    "### Baseline ROC"
   ]
  },
  {
   "cell_type": "code",
   "execution_count": null,
   "metadata": {},
   "outputs": [],
   "source": [
    "plt.figure(figsize = (13, 13))\n",
    "axes = plt.subplot(2, 2, 1)\n",
    "fpr_baseline = []\n",
    "tpr_baseline = []\n",
    "thresholds_baseline = []\n",
    "roc_auc_baseline = []\n",
    "for i in range(len(MC)):\n",
    "    fpr_baseline.append(np.empty((Y_true[i].shape[0],1)))\n",
    "    tpr_baseline.append(np.empty((Y_true[i].shape[0],1)))\n",
    "    thresholds_baseline.append(np.empty((Y_true[i].shape[0],1)))\n",
    "    roc_auc_baseline.append(np.empty((Y_true[i].shape[0],1)))\n",
    "    fpr_baseline[i], tpr_baseline[i], thresholds_baseline[i] = roc_curve(Y_true[i], Y_baseline[i])\n",
    "    roc_auc_baseline[i] = auc(fpr_baseline[i], tpr_baseline[i])\n",
    "    fpr_baseline[i] *= 28.61\n",
    "    if i == 0:\n",
    "        print(1)\n",
    "        #axes.plot(fpr_model[i], tpr_model[i], linestyle = '--', color = 'r', lw = 1, label = MC_files[i] + ' (AUC = %.8f)' % (roc_auc_model[i]))\n",
    "    if i == 1 or i == 2:\n",
    "        print(1)\n",
    "        #axes.plot(fpr_model[i], tpr_model[i], linestyle = ':', lw = 1, label = MC_files[i] + ' (AUC = %.8f)' % (roc_auc_model[i]))\n",
    "    if i == 3:\n",
    "        #axes.plot(fpr_model[3], tpr_model[3], linestyle = '--', lw = 1, color = 'blue', label = 'SM H->2tau (AUC = %.5f)' % (roc_auc_model[3]))\n",
    "        axes.plot(fpr_baseline[3], tpr_baseline[3], linestyle = '-', lw = 1.5, color = 'green', label = 'H->2Tau (AUC = %.5f)' % (roc_auc_baseline[3]))\n",
    "    if i == 4:\n",
    "        #axes.plot(fpr_model[4], tpr_model[4], linestyle = '--', lw = 1, color = 'orange', label = 'SM HH->4b (AUC = %.5f)' % (roc_auc_model[4]))\n",
    "        axes.plot(fpr_baseline[4], tpr_baseline[4], linestyle = '-', lw = 1.5, color = 'red', label = 'SM HH->4b (AUC = %.5f)' % (roc_auc_baseline[4]))\n",
    "    if i == 5:\n",
    "        #axes.plot(fpr_model[5], tpr_model[5], linestyle = '--', lw = 1, color = 'green', label = 'H->2LongLived->4b (AUC = %.5f)' % (roc_auc_model[5]))\n",
    "        axes.plot(fpr_baseline[5], tpr_baseline[5], linestyle = '-', lw = 1.5, color = 'blue', label = 'TTbar (AUC = %.5f)' % (roc_auc_baseline[5]))\n",
    "    if i == 6:\n",
    "        #axes.plot(fpr_model[6], tpr_model[6], linestyle = '--', lw = 1, color = 'red', label = 'TTbar (AUC = %.5f)' % (roc_auc_model[6]))\n",
    "        axes.plot(fpr_baseline[6], tpr_baseline[6], linestyle = '-', lw = 1.5, color = 'orange', label = 'H->aa->4b (AUC = %.5f)' % (roc_auc_baseline[6]))\n",
    "axes.plot([0.005, 0.005], [0, 1], linestyle = '--', lw = 1, color = 'black', label = 'FPR = 0.0175% ~ (5 kHz)/(ZeroBias 28.61 MHz)')\n",
    "axes.set_xlim([0.0002861, 28.61])\n",
    "axes.set_ylim([0.000001, 1.0])\n",
    "axes.set_xscale(value = \"log\")\n",
    "axes.set_yscale(value = \"log\")\n",
    "axes.set_xlabel('Trigger Rate (MHz)',size=15)\n",
    "axes.set_ylabel('Signal Efficiency',size=15)\n",
    "axes.set_title('Baseline (energy based)',size=15)\n",
    "axes.legend(loc='center left', bbox_to_anchor = (0.5, 0.5),fontsize=12)\n",
    "plt.show()"
   ]
  },
  {
   "cell_type": "markdown",
   "metadata": {},
   "source": [
    "### Teacher model ROC"
   ]
  },
  {
   "cell_type": "code",
   "execution_count": null,
   "metadata": {},
   "outputs": [],
   "source": [
    "plt.figure(figsize = (13, 13))\n",
    "axes = plt.subplot(2, 2, 1)\n",
    "fpr_model = []\n",
    "tpr_model = []\n",
    "thresholds_model = []\n",
    "roc_auc_model = []\n",
    "for i in range(len(MC)):\n",
    "    fpr_model.append(np.empty((Y_true[i].shape[0],1)))\n",
    "    tpr_model.append(np.empty((Y_true[i].shape[0],1)))\n",
    "    thresholds_model.append(np.empty((Y_true[i].shape[0],1)))\n",
    "    roc_auc_model.append(np.empty((Y_true[i].shape[0],1)))\n",
    "    fpr_model[i], tpr_model[i], thresholds_model[i] = roc_curve(Y_true[i], Y_model[i])\n",
    "    roc_auc_model[i] = auc(fpr_model[i], tpr_model[i])\n",
    "    fpr_model[i] *= 28.61\n",
    "    if i == 0:\n",
    "        print(1)\n",
    "        #axes.plot(fpr_model[i], tpr_model[i], linestyle = '--', color = 'r', lw = 1, label = MC_files[i] + ' (AUC = %.8f)' % (roc_auc_model[i]))\n",
    "    if i == 1 or i == 2:\n",
    "        print(1)\n",
    "        #axes.plot(fpr_model[i], tpr_model[i], linestyle = ':', lw = 1, label = MC_files[i] + ' (AUC = %.8f)' % (roc_auc_model[i]))\n",
    "    if i == 3:\n",
    "        #axes.plot(fpr_model[3], tpr_model[3], linestyle = '--', lw = 1, color = 'blue', label = 'SM H->2tau (AUC = %.5f)' % (roc_auc_model[3]))\n",
    "        axes.plot(fpr_model[3], tpr_model[3], linestyle = '-', lw = 1.5, color = 'green', label = 'H->tautau (AUC = %.5f)' % (roc_auc_model[3]))\n",
    "    if i == 4:\n",
    "        #axes.plot(fpr_model[4], tpr_model[4], linestyle = '--', lw = 1, color = 'orange', label = 'SM HH->4b (AUC = %.5f)' % (roc_auc_model[4]))\n",
    "        axes.plot(fpr_model[4], tpr_model[4], linestyle = '-', lw = 1.5, color = 'red', label = 'SM HH->4b (AUC = %.5f)' % (roc_auc_model[4]))\n",
    "    if i == 5:\n",
    "        #axes.plot(fpr_model[5], tpr_model[5], linestyle = '--', lw = 1, color = 'green', label = 'H->2LongLived->4b (AUC = %.5f)' % (roc_auc_model[5]))\n",
    "        axes.plot(fpr_model[5], tpr_model[5], linestyle = '-', lw = 1.5, color = 'blue', label = 'TTbar (AUC = %.5f)' % (roc_auc_model[5]))\n",
    "    if i == 6:\n",
    "        #axes.plot(fpr_model[6], tpr_model[6], linestyle = '--', lw = 1, color = 'red', label = 'TTbar (AUC = %.5f)' % (roc_auc_model[6]))\n",
    "        axes.plot(fpr_model[6], tpr_model[6], linestyle = '-', lw = 1.5, color = 'orange', label = 'H->aa->4b (AUC = %.5f)' % (roc_auc_model[6]))\n",
    "axes.plot([0.005, 0.005], [0, 1], linestyle = '--', lw = 1, color = 'black', label = 'Trigger rate = 5 kHz')\n",
    "axes.set_xlim([0.0002861, 28.61])\n",
    "axes.set_ylim([0.000001, 1.0])\n",
    "axes.set_xscale(value = \"log\")\n",
    "axes.set_yscale(value = \"log\")\n",
    "axes.set_xlabel('Trigger Rate (MHz)',size=15)\n",
    "axes.set_ylabel('Signal Efficiency',size=15)\n",
    "axes.set_title('Teacher model',size=15)\n",
    "axes.legend(loc='center left', bbox_to_anchor = (0.3, 0.5),fontsize=12)\n",
    "plt.show()"
   ]
  },
  {
   "cell_type": "markdown",
   "metadata": {},
   "source": [
    "### Student model ROC"
   ]
  },
  {
   "cell_type": "code",
   "execution_count": 16,
   "metadata": {},
   "outputs": [
    {
     "name": "stdout",
     "output_type": "stream",
     "text": [
      "1\n",
      "1\n",
      "1\n"
     ]
    },
    {
     "data": {
      "image/png": "[encoded data removed]",
      "text/plain": [
       "<Figure size 936x936 with 1 Axes>"
      ]
     },
     "metadata": {
      "needs_background": "light"
     },
     "output_type": "display_data"
    }
   ],
   "source": [
    "plt.figure(figsize = (13, 13))\n",
    "axes = plt.subplot(2, 2, 1)\n",
    "fpr_qmodel = []\n",
    "tpr_qmodel = []\n",
    "thresholds_qmodel = []\n",
    "roc_auc_qmodel = []\n",
    "for i in range(len(MC)):\n",
    "    fpr_qmodel.append(np.empty((Y_true[i].shape[0],1)))\n",
    "    tpr_qmodel.append(np.empty((Y_true[i].shape[0],1)))\n",
    "    thresholds_qmodel.append(np.empty((Y_true[i].shape[0],1)))\n",
    "    roc_auc_qmodel.append(np.empty((Y_true[i].shape[0],1)))\n",
    "    fpr_qmodel[i], tpr_qmodel[i], thresholds_qmodel[i] = roc_curve(Y_true[i], Y_qmodel[i])\n",
    "    roc_auc_qmodel[i] = auc(fpr_qmodel[i], tpr_qmodel[i])\n",
    "    fpr_qmodel[i] *= 28.61\n",
    "    if i == 0:\n",
    "        print(1)\n",
    "        #axes.plot(fpr_qmodel[i], tpr_qmodel[i], linestyle = '--', color = 'r', lw = 1, label = MC_files[i] + ' (AUC = %.8f)' % (roc_auc_qmodel[i]))\n",
    "    if i == 1 or i == 2:\n",
    "        print(1)\n",
    "        #axes.plot(fpr_qmodel[i], tpr_qmodel[i], linestyle = ':', lw = 1, label = MC_files[i] + ' (AUC = %.8f)' % (roc_auc_qmodel[i]))\n",
    "    if i == 3:\n",
    "        #axes.plot(fpr_qmodel[3], tpr_qmodel[3], linestyle = '--', lw = 1, color = 'blue', label = 'SM H->2tau (AUC = %.5f)' % (roc_auc_qmodel[3]))\n",
    "        axes.plot(fpr_qmodel[3], tpr_qmodel[3], linestyle = '-', lw = 1.5, color = 'green', label = 'H->tautau (AUC = %.5f)' % (roc_auc_qmodel[3]))\n",
    "    if i == 4:\n",
    "        #axes.plot(fpr_qmodel[4], tpr_qmodel[4], linestyle = '--', lw = 1, color = 'orange', label = 'SM HH->4b (AUC = %.5f)' % (roc_auc_qmodel[4]))\n",
    "        axes.plot(fpr_qmodel[4], tpr_qmodel[4], linestyle = '-', lw = 1.5, color = 'red', label = 'SM HH->4b (AUC = %.5f)' % (roc_auc_qmodel[4]))\n",
    "    if i == 5:\n",
    "        #axes.plot(fpr_qmodel[5], tpr_qmodel[5], linestyle = '--', lw = 1, color = 'green', label = 'H->2LongLived->4b (AUC = %.5f)' % (roc_auc_qmodel[5]))\n",
    "        axes.plot(fpr_qmodel[5], tpr_qmodel[5], linestyle = '-', lw = 1.5, color = 'blue', label = 'TTbar (AUC = %.5f)' % (roc_auc_qmodel[5]))\n",
    "    if i == 6:\n",
    "        #axes.plot(fpr_qmodel[6], tpr_qmodel[6], linestyle = '--', lw = 1, color = 'red', label = 'TTbar (AUC = %.5f)' % (roc_auc_qmodel[6]))\n",
    "        axes.plot(fpr_qmodel[6], tpr_qmodel[6], linestyle = '-', lw = 1.5, color = 'orange', label = 'H->aa->4b (AUC = %.5f)' % (roc_auc_qmodel[6]))\n",
    "axes.plot([0.005, 0.005], [0, 1], linestyle = '--', lw = 1, color = 'black', label = 'Trigger rate = 5 kHz')\n",
    "axes.set_xlim([0.0002861, 28.61])\n",
    "axes.set_ylim([0.000001, 1.0])\n",
    "axes.set_xscale(value = \"log\")\n",
    "axes.set_yscale(value = \"log\")\n",
    "axes.set_xlabel('Trigger Rate (MHz)',size=15)\n",
    "axes.set_ylabel('Signal Efficiency',size=15)\n",
    "axes.set_title('Quantized student model',size=15)\n",
    "axes.legend(loc='center left', bbox_to_anchor = (0.3, 0.5),fontsize=12)\n",
    "plt.show()"
   ]
  },
  {
   "cell_type": "code",
   "execution_count": null,
   "metadata": {},
   "outputs": [],
   "source": [
    "table_tpr_baseline = []\n",
    "table_tpr_model = []\n",
    "table_tpr_qmodel = []\n",
    "table_tpr_change = []\n",
    "for i in range(len(fpr_baseline)):\n",
    "    for j in range(len(fpr_baseline[i])):\n",
    "        if fpr_baseline[i][j] > 0.005:\n",
    "            table_tpr_baseline.append(tpr_baseline[i][j] * 100)\n",
    "            break\n",
    "    for j in range(len(fpr_model[i])):\n",
    "        if fpr_model[i][j] > 0.005:\n",
    "            table_tpr_model.append(tpr_model[i][j] * 100)\n",
    "            break\n",
    "    for j in range(len(fpr_qmodel[i])):\n",
    "        if fpr_qmodel[i][j] > 0.005:\n",
    "            table_tpr_qmodel.append(tpr_qmodel[i][j] * 100)\n",
    "            break\n",
    "\n",
    "#for i in range(len(MC)):\n",
    "    #table_tpr_change.append(100 * (table_tpr_model[i] - table_tpr_baseline[i])/table_tpr_baseline[i])\n",
    "\n",
    "MC_names = ['H->tautau','SM HH->4b','TTbar','H->aa->4b']\n",
    "table_tpr = pd.DataFrame({'Baseline': table_tpr_baseline[3:],\n",
    "                          'Model(Et)': table_tpr_model[3:],\n",
    "                          'QStudent(Et)': table_tpr_qmodel[3:]},\n",
    "                         index = MC_names)\n",
    "#table_tpr = table_tpr.sort_values(by = 'delta', ascending = False)\n",
    "\n",
    "pd.set_option('display.max_colwidth', None)\n",
    "table_tpr"
   ]
  },
  {
   "cell_type": "code",
   "execution_count": null,
   "metadata": {},
   "outputs": [],
   "source": [
    "table_tpr_model = []\n",
    "table_tpr_model_bits = []\n",
    "table_tpr_change = []\n",
    "for i in range(len(fpr_model)):\n",
    "    for j in range(len(fpr_model[i])):\n",
    "        if fpr_model[i][j] > 0.000175:\n",
    "            table_tpr_model.append(np.round(tpr_model[i][j] * 100,3))\n",
    "            break\n",
    "    for j in range(len(fpr_model_bits[i])):\n",
    "        if fpr_model_bits[i][j] > 0.000175:\n",
    "            table_tpr_model_bits.append(np.round(tpr_model_bits[i][j] * 100,3))\n",
    "            break\n",
    "\n",
    "for i in range(len(MC)):\n",
    "    table_tpr_change.append(np.round(100 * (table_tpr_model_bits[i] - table_tpr_model[i])/table_tpr_model[i],3))\n",
    "    #table_tpr_change.append(-table_tpr_student[i] + table_tpr_qmodel[i])\n",
    "\n",
    "table_tpr = pd.DataFrame({'Model(Et)': table_tpr_model[3:],\n",
    "                          'Model(Et, Taubit)': table_tpr_model_bits[3:],\n",
    "                          '% more sensitive': table_tpr_change[3:]},\n",
    "                         index = MC_files[3:])\n",
    "#table_tpr = table_tpr.sort_values(by = 'delta(qDense, Dense)', ascending = False)\n",
    "\n",
    "pd.set_option('display.max_colwidth', None)\n",
    "table_tpr"
   ]
  },
  {
   "cell_type": "code",
   "execution_count": null,
   "metadata": {},
   "outputs": [],
   "source": []
  },
  {
   "cell_type": "code",
   "execution_count": null,
   "metadata": {},
   "outputs": [],
   "source": []
  }
 ],
 "metadata": {
  "kernelspec": {
   "display_name": "Python 3 (ipykernel)",
   "language": "python",
   "name": "python3"
  },
  "language_info": {
   "codemirror_mode": {
    "name": "ipython",
    "version": 3
   },
   "file_extension": ".py",
   "mimetype": "text/x-python",
   "name": "python",
   "nbconvert_exporter": "python",
   "pygments_lexer": "ipython3",
   "version": "3.9.12"
  }
 },
 "nbformat": 4,
 "nbformat_minor": 4
}
