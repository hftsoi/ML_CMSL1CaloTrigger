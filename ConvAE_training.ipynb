{
 "cells": [
  {
   "cell_type": "code",
   "execution_count": null,
   "metadata": {},
   "outputs": [],
   "source": [
    "import h5py\n",
    "import numpy as np\n",
    "import pandas as pd\n",
    "import tensorflow as tf\n",
    "import matplotlib.pyplot as plt\n",
    "import seaborn as sns\n",
    "from sklearn.model_selection import train_test_split\n",
    "from sklearn.preprocessing import StandardScaler\n",
    "from tensorflow import keras\n",
    "from tensorflow.keras import layers, models\n",
    "from sklearn.metrics import roc_curve, auc\n",
    "import qkeras\n",
    "from qkeras import *\n",
    "#import tensorflow_probability as tfp\n",
    "#import keras_tuner\n",
    "#from keras_tuner import Hyperband\n",
    "import joblib"
   ]
  },
  {
   "cell_type": "markdown",
   "metadata": {},
   "source": [
    "# data files"
   ]
  },
  {
   "cell_type": "markdown",
   "metadata": {},
   "source": [
    "All input files have data already sorted in Calo regions (i, j) ~ (18, 14)<br>\n",
    "i = 0 -> 17 corresponds to GCT_Phi = 0 -> 17<br>\n",
    "j = 0 -> 13 corresponds to RCT_Eta = 4 -> 17"
   ]
  },
  {
   "cell_type": "code",
   "execution_count": null,
   "metadata": {
    "scrolled": true
   },
   "outputs": [],
   "source": [
    "ZB18A0 = h5py.File('bkg/ZeroBias2018RunA_0.h5', 'r')['CaloRegions'][:].astype('float32')\n",
    "ZB18A1 = h5py.File('bkg/ZeroBias2018RunA_1.h5', 'r')['CaloRegions'][:].astype('float32')\n",
    "ZB18A2 = h5py.File('bkg/ZeroBias2018RunA_2.h5', 'r')['CaloRegions'][:].astype('float32')\n",
    "ZB18A = np.concatenate((ZB18A0, ZB18A1, ZB18A2)); del ZB18A0, ZB18A1, ZB18A2\n",
    "ZB18A = np.reshape(ZB18A, (-1,18,14,1))\n",
    "\n",
    "ZB18D = h5py.File('bkg/EphemeralZeroBias2018RunD_2.h5', 'r')['CaloRegions'][:300000].astype('float32')\n",
    "ZB18D = np.reshape(ZB18D, (-1,18,14,1))\n",
    "\n",
    "ZB23 = h5py.File('bkg/EZB2023_0.h5', 'r')['CaloRegions'][:300000].astype('float32')\n",
    "ZB23 = np.reshape(ZB23, (-1,18,14,1))\n",
    "\n",
    "print('ZeroBias2018A shape: ' + str(ZB18A.shape))\n",
    "print('ZeroBias2018D shape: ' + str(ZB18D.shape))\n",
    "print('ZeroBias2023  shape: ' + str(ZB23.shape))\n",
    "\n",
    "MC_files = []\n",
    "MC_files.append('bkg/110X/QCD_Pt-15to7000_TuneCP5_Flat_14TeV_0.h5')#i=0\n",
    "MC_files.append('bkg/120X/SingleNeutrino_E-10-gun_0.h5')#i=1\n",
    "MC_files.append('bkg/120X/SingleNeutrino_Pt-2To20-gun_0.h5')#i=2\n",
    "'''\n",
    "MC_files.append('sig/110X/GluGluToHHTo4B_node_SM_TuneCP5_14TeV.h5')#i=3\n",
    "MC_files.append('sig/110X/HTo2LongLivedTo4mu_MH-1000_MFF-450_CTau-10000mm_TuneCP5_14TeV.h5')\n",
    "MC_files.append('sig/110X/HTo2LongLivedTo4mu_MH-125_MFF-12_CTau-900mm_TuneCP5_14TeV.h5')\n",
    "MC_files.append('sig/110X/HTo2LongLivedTo4mu_MH-125_MFF-25_CTau-1500mm_TuneCP5_14TeV.h5')\n",
    "MC_files.append('sig/110X/HTo2LongLivedTo4mu_MH-125_MFF-50_CTau-3000mm_TuneCP5_14TeV.h5')\n",
    "MC_files.append('sig/110X/VBFHToTauTau_M125_TuneCUETP8M1_14TeV.h5')\n",
    "MC_files.append('sig/110X/VBF_HH_CV_1_C2V_1_C3_1_TuneCP5_PSweights_14TeV.h5')\n",
    "MC_files.append('sig/110X/VBF_HToInvisible_M125_TuneCUETP8M1_14TeV.h5')\n",
    "MC_files.append('sig/110X/VectorZPrimeToQQ_M100_pT300_TuneCP5_14TeV.h5')\n",
    "MC_files.append('sig/110X/VectorZPrimeToQQ_M200_pT300_TuneCP5_14TeV.h5')\n",
    "MC_files.append('sig/110X/VectorZPrimeToQQ_M50_pT300_TuneCP5_14TeV.h5')#i=13\n",
    "MC_files.append('sig/110X/ZprimeToZH_MZprime1000_MZ50_MH80_ZTouds_HTouds_narrow_TuneCP5_14TeV.h5')\n",
    "MC_files.append('sig/110X/ZprimeToZH_MZprime600_MZ50_MH80_ZTouds_HTouds_narrow_TuneCP5_14TeV.h5')\n",
    "MC_files.append('sig/110X/ZprimeToZH_MZprime800_MZ50_MH80_ZTouds_HTouds_narrow_TuneCP5_14TeV.h5')\n",
    "'''\n",
    "MC_files.append('sig/120X/GluGluHToTauTau_M-125_TuneCP5_14TeV.h5')\n",
    "MC_files.append('sig/120X/GluGluToHHTo4B_node_cHHH1_TuneCP5_14TeV.h5')\n",
    "'''\n",
    "MC_files.append('sig/120X/GluGluToHHTo4B_node_cHHH5_TuneCP5_14TeV.h5')\n",
    "MC_files.append('sig/120X/HTo2LongLivedTo4b_MH-1000_MFF-450_CTau-100000mm_TuneCP5_14TeV.h5')\n",
    "MC_files.append('sig/120X/HTo2LongLivedTo4b_MH-1000_MFF-450_CTau-10000mm_TuneCP5_14TeV.h5')\n",
    "MC_files.append('sig/120X/HTo2LongLivedTo4b_MH-125_MFF-12_CTau-9000mm_TuneCP5_14TeV.h5')\n",
    "MC_files.append('sig/120X/HTo2LongLivedTo4b_MH-125_MFF-12_CTau-900mm_TuneCP5_14TeV.h5')#i=23\n",
    "MC_files.append('sig/120X/HTo2LongLivedTo4b_MH-125_MFF-25_CTau-15000mm_TuneCP5_14TeV.h5')\n",
    "MC_files.append('sig/120X/HTo2LongLivedTo4b_MH-125_MFF-25_CTau-1500mm_TuneCP5_14TeV.h5')\n",
    "MC_files.append('sig/120X/HTo2LongLivedTo4b_MH-125_MFF-50_CTau-30000mm_TuneCP5_14TeV.h5')\n",
    "MC_files.append('sig/120X/HTo2LongLivedTo4b_MH-125_MFF-50_CTau-3000mm_TuneCP5_14TeV.h5')\n",
    "MC_files.append('sig/120X/HTo2LongLivedTo4b_MH-250_MFF-120_CTau-10000mm_TuneCP5_14TeV.h5')\n",
    "MC_files.append('sig/120X/HTo2LongLivedTo4b_MH-250_MFF-120_CTau-1000mm_TuneCP5_14TeV.h5')\n",
    "MC_files.append('sig/120X/HTo2LongLivedTo4b_MH-250_MFF-60_CTau-1000mm_TuneCP5_14TeV.h5')\n",
    "MC_files.append('sig/120X/HTo2LongLivedTo4b_MH-350_MFF-160_CTau-10000mm_TuneCP5_14TeV.h5')\n",
    "MC_files.append('sig/120X/HTo2LongLivedTo4b_MH-350_MFF-160_CTau-1000mm_TuneCP5_14TeV.h5')\n",
    "MC_files.append('sig/120X/HTo2LongLivedTo4b_MH-350_MFF-160_CTau-500mm_TuneCP5_14TeV.h5')#i=33\n",
    "MC_files.append('sig/120X/HTo2LongLivedTo4b_MH-350_MFF-80_CTau-10000mm_TuneCP5_14TeV.h5')\n",
    "MC_files.append('sig/120X/HTo2LongLivedTo4b_MH-350_MFF-80_CTau-1000mm_TuneCP5_14TeV.h5')\n",
    "MC_files.append('sig/120X/HTo2LongLivedTo4b_MH-350_MFF-80_CTau-500mm_TuneCP5_14TeV.h5')\n",
    "MC_files.append('sig/120X/HTo2LongLivedTo4mu_MH-1000_MFF-450_CTau-10000mm_TuneCP5_14TeV.h5')\n",
    "MC_files.append('sig/120X/HTo2LongLivedTo4mu_MH-125_MFF-12_CTau-900mm_TuneCP5_14TeV.h5')\n",
    "MC_files.append('sig/120X/HTo2LongLivedTo4mu_MH-125_MFF-25_CTau-1500mm_TuneCP5_14TeV.h5')\n",
    "MC_files.append('sig/120X/HTo2LongLivedTo4mu_MH-125_MFF-50_CTau-3000mm_TuneCP5_14TeV.h5')\n",
    "MC_files.append('sig/120X/SUSYGluGluToBBHToBB_NarrowWidth_M-120_TuneCP5_14TeV.h5')\n",
    "MC_files.append('sig/120X/SUSYGluGluToBBHToBB_NarrowWidth_M-350_TuneCP5_14TeV.h5')#i=43\n",
    "MC_files.append('sig/120X/SUSYGluGluToBBHToBB_NarrowWidth_M-600_TuneCP5_14TeV.h5')\n",
    "'''\n",
    "MC_files.append('sig/120X/TT_TuneCP5_14TeV.h5')\n",
    "'''\n",
    "MC_files.append('sig/120X/TprimeBToTH_M-650_LH_TuneCP5_14TeV.h5')\n",
    "MC_files.append('sig/120X/VBFHHTo4B_CV_1_C2V_2_C3_1_TuneCP5_14TeV.h5')\n",
    "MC_files.append('sig/120X/VBFHToInvisible_M125_TuneCP5_14TeV.h5')\n",
    "MC_files.append('sig/120X/VBFHToTauTau_M125_TuneCP5_14TeV.h5')\n",
    "MC_files.append('sig/120X/VectorZPrimeGammaToQQGamma_M-10_GPt-75_TuneCP5_14TeV.h5')\n",
    "MC_files.append('sig/120X/VectorZPrimeToQQ_M-100_Pt-300_TuneCP5_14TeV.h5')\n",
    "MC_files.append('sig/120X/VectorZPrimeToQQ_M-200_Pt-300_TuneCP5_14TeV.h5')#i=52\n",
    "MC_files.append('sig/120X/emj-mMed-800-mDark-10-ctau-0p1.h5')\n",
    "MC_files.append('sig/120X/emj-mMed-800-mDark-10-ctau-1.h5')\n",
    "MC_files.append('sig/120X/emj-mMed-800-mDark-10-ctau-1000.h5')\n",
    "MC_files.append('sig/120X/emj-mMed-800-mDark-10-ctau-150.h5')\n",
    "'''\n",
    "MC_files.append('sig/120X/haa4b_ma15_powheg.h5')\n",
    "'''\n",
    "MC_files.append('sig/120X/haa4b_ma15_powheg_FlatPU0To80.h5')\n",
    "MC_files.append('sig/120X/haa4b_ma50_powheg.h5')\n",
    "MC_files.append('sig/120X/haa4taus_ma15_powheg.h5')\n",
    "'''\n",
    "MC_files.append('sig/120X/SUEP_L1_NOPU.h5')\n",
    "\n",
    "MC = []\n",
    "for i in range(len(MC_files)):\n",
    "    MC.append(h5py.File(MC_files[i], 'r')['CaloRegions'][:100000].astype('float32'))\n",
    "    MC[i] = np.reshape(MC[i], (-1,18,14,1))\n",
    "    print('i = ' + str(i) + ': ' + str(MC[i].shape))"
   ]
  },
  {
   "cell_type": "code",
   "execution_count": null,
   "metadata": {},
   "outputs": [],
   "source": [
    "#SUEP_NoPU"
   ]
  },
  {
   "cell_type": "code",
   "execution_count": null,
   "metadata": {},
   "outputs": [],
   "source": [
    "np.random.seed(420)\n",
    "suep_zb = np.empty((MC[7].shape[0],18,14,1))\n",
    "ZB_random_event = np.random.randint(low=0, high=ZB18D.shape[0], size=MC[7].shape[0])\n",
    "for j in range(MC[7].shape[0]):\n",
    "    suep_zb[j,:,:,0] = ZB18D[ZB_random_event[j],:,:,0] + MC[7][j,:,:,0]"
   ]
  },
  {
   "cell_type": "code",
   "execution_count": null,
   "metadata": {
    "scrolled": true
   },
   "outputs": [],
   "source": [
    "for i in range(1260,1270):\n",
    "    fig, ax = plt.subplots(figsize = (10,10))\n",
    "    print(str(MC_files[7]))\n",
    "    ax = plt.subplot(2, 2, 1)\n",
    "    ax = sns.heatmap(MC[7][i,:,:,0].reshape(18, 14), vmin = 0, vmax = suep_zb[i,:,:,0].max(), cmap = \"Purples\", cbar_kws = {'label': 'Et (GeV)'})\n",
    "    ax.get_xaxis().set_visible(False)\n",
    "    ax.get_yaxis().set_visible(False)\n",
    "    ax.set_title('SUEP_NoPU')\n",
    "    \n",
    "    ax = plt.subplot(2, 2, 2)\n",
    "    ax = sns.heatmap(suep_zb[i,:,:,0].reshape(18, 14), vmin = 0, vmax = suep_zb[i,:,:,0].max(), cmap = \"Purples\", cbar_kws = {'label': 'Et (GeV)'})\n",
    "    ax.get_xaxis().set_visible(False)\n",
    "    ax.get_yaxis().set_visible(False)\n",
    "    ax.set_title('SUEP_NoPU overlayed with ZB')\n",
    "    \n",
    "    plt.show()"
   ]
  },
  {
   "cell_type": "code",
   "execution_count": null,
   "metadata": {},
   "outputs": [],
   "source": [
    "MC[7][:,:,:,0] = suep_zb[:,:,:,0]"
   ]
  },
  {
   "cell_type": "markdown",
   "metadata": {},
   "source": [
    "Take a look at some ZB statistics."
   ]
  },
  {
   "cell_type": "code",
   "execution_count": null,
   "metadata": {},
   "outputs": [],
   "source": [
    "ZB18A_mean = np.mean(ZB18A, axis = 0)\n",
    "ZB18D_mean = np.mean(ZB18D, axis = 0)\n",
    "ZB23_mean = np.mean(ZB23, axis = 0)\n",
    "\n",
    "fig, ax = plt.subplots(figsize = (10,10))\n",
    "ax = plt.subplot(2, 2, 2)\n",
    "ax = sns.heatmap(ZB18A_mean.reshape(18, 14), vmin = 0, vmax = ZB18A_mean.max(), cmap = \"Purples\", cbar_kws = {'label': 'ET (GeV)'})\n",
    "ax.get_xaxis().set_visible(False)\n",
    "ax.get_yaxis().set_visible(False)\n",
    "ax.set_title('Mean Et (ZB2018RunA)')\n",
    "plt.show()\n",
    "\n",
    "fig, ax = plt.subplots(figsize = (10,10))\n",
    "ax = plt.subplot(2, 2, 2)\n",
    "ax = sns.heatmap(ZB18D_mean.reshape(18, 14), vmin = 0, vmax = ZB18D_mean.max(), cmap = \"Purples\", cbar_kws = {'label': 'ET (GeV)'})\n",
    "ax.get_xaxis().set_visible(False)\n",
    "ax.get_yaxis().set_visible(False)\n",
    "ax.set_title('Mean Et (ZB2018RunD)')\n",
    "plt.show()\n",
    "\n",
    "fig, ax = plt.subplots(figsize = (10,10))\n",
    "ax = plt.subplot(2, 2, 2)\n",
    "ax = sns.heatmap(ZB23_mean.reshape(18, 14), vmin = 0, vmax = ZB23_mean.max(), cmap = \"Purples\", cbar_kws = {'label': 'ET (GeV)'})\n",
    "ax.get_xaxis().set_visible(False)\n",
    "ax.get_yaxis().set_visible(False)\n",
    "ax.set_title('Mean Et (ZB2023)')\n",
    "plt.show()"
   ]
  },
  {
   "cell_type": "code",
   "execution_count": null,
   "metadata": {},
   "outputs": [],
   "source": [
    "plt.hist(ZB18A.reshape((-1)), bins = 20, range=(0,1024), density=1, label='2018A', log = True, histtype='step')\n",
    "plt.hist(ZB18D.reshape((-1)), bins = 20, range=(0,1024), density=1, label='2018D', log = True, histtype='step')\n",
    "plt.hist(ZB23.reshape((-1)), bins = 20, range=(0,1024), density=1, label='2023', log = True, histtype='step')\n",
    "plt.xlabel(\"ZB Et\")\n",
    "plt.legend(loc='best')\n",
    "plt.show()\n",
    "\n",
    "print('Mean ZB2018A pT = ' + str(np.mean(ZB18A.reshape(-1))))\n",
    "print('Mean ZB2018D pT = ' + str(np.mean(ZB18D.reshape(-1))))\n",
    "print('Mean ZB2023  pT = ' + str(np.mean(ZB23.reshape(-1))))"
   ]
  },
  {
   "cell_type": "code",
   "execution_count": null,
   "metadata": {},
   "outputs": [],
   "source": [
    "ZB18A_noBoundary = h5py.File('bkg/ZeroBias2018RunA_0.h5', 'r')\n",
    "ZB18A_noBoundary = np.stack((ZB18A_noBoundary['CaloRegions'][:500000].astype('float32')))\n",
    "ZB18A_noBoundary = np.reshape(ZB18A_noBoundary, (-1,18,14,1))\n",
    "ZB18A_noBoundary[:,:,0,0] = 0\n",
    "ZB18A_noBoundary[:,:,13,0] = 0\n",
    "\n",
    "ZB18D_noBoundary = h5py.File('bkg/EphemeralZeroBias2018RunD_2.h5', 'r')\n",
    "ZB18D_noBoundary = np.stack((ZB18D_noBoundary['CaloRegions'][:500000].astype('float32')))\n",
    "ZB18D_noBoundary = np.reshape(ZB18D_noBoundary, (-1,18,14,1))\n",
    "ZB18D_noBoundary[:,:,0,0] = 0\n",
    "ZB18D_noBoundary[:,:,13,0] = 0\n",
    "\n",
    "ZB23_noBoundary = h5py.File('bkg/EZB2023_0.h5', 'r')\n",
    "ZB23_noBoundary = np.stack((ZB23_noBoundary['CaloRegions'][:500000].astype('float32')))\n",
    "ZB23_noBoundary = np.reshape(ZB23_noBoundary, (-1,18,14,1))\n",
    "ZB23_noBoundary[:,:,0,0] = 0\n",
    "ZB23_noBoundary[:,:,13,0] = 0\n",
    "\n",
    "plt.hist(ZB18A_noBoundary.reshape((-1)), bins = 20, range=(0,1024), density=1, label='2018A', log = True, histtype='step')\n",
    "plt.hist(ZB18D_noBoundary.reshape((-1)), bins = 20, range=(0,1024), density=1, label='2018D', log = True, histtype='step')\n",
    "plt.hist(ZB23_noBoundary.reshape((-1)), bins = 20, range=(0,1024), density=1, label='2023', log = True, histtype='step')\n",
    "plt.xlabel(\"ZB Et (excluding RCT_Eta=4,17)\")\n",
    "plt.legend(loc='best')\n",
    "plt.show()\n",
    "\n",
    "print('Mean ZB2018A pT (excluding RCT_Eta=4,17)= ' + str(np.mean(ZB18A_noBoundary.reshape(-1))))\n",
    "print('Mean ZB2018D pT (excluding RCT_Eta=4,17)= ' + str(np.mean(ZB18D_noBoundary.reshape(-1))))\n",
    "print('Mean ZB2023  pT (excluding RCT_Eta=4,17)= ' + str(np.mean(ZB23_noBoundary.reshape(-1))))\n",
    "\n",
    "ZB18A_noBoundary_mean = np.mean(ZB18A_noBoundary, axis = 0)\n",
    "ZB18D_noBoundary_mean = np.mean(ZB18D_noBoundary, axis = 0)\n",
    "ZB23_noBoundary_mean = np.mean(ZB23_noBoundary, axis = 0)\n",
    "\n",
    "fig, ax = plt.subplots(figsize = (10,10))\n",
    "ax = plt.subplot(2, 2, 2)\n",
    "ax = sns.heatmap(ZB18A_noBoundary_mean.reshape(18, 14), vmin = 0, vmax = ZB18A_noBoundary_mean.max(), cmap = \"Purples\", cbar_kws = {'label': 'ET (GeV)'})\n",
    "ax.get_xaxis().set_visible(False)\n",
    "ax.get_yaxis().set_visible(False)\n",
    "ax.set_title('Mean Et (ZB2018RunA), excluding RCT_Eta=4,17')\n",
    "plt.show()\n",
    "\n",
    "fig, ax = plt.subplots(figsize = (10,10))\n",
    "ax = plt.subplot(2, 2, 2)\n",
    "ax = sns.heatmap(ZB18D_noBoundary_mean.reshape(18, 14), vmin = 0, vmax = ZB18D_noBoundary_mean.max(), cmap = \"Purples\", cbar_kws = {'label': 'ET (GeV)'})\n",
    "ax.get_xaxis().set_visible(False)\n",
    "ax.get_yaxis().set_visible(False)\n",
    "ax.set_title('Mean Et (ZB2018RunD), excluding RCT_Eta=4,17')\n",
    "plt.show()\n",
    "\n",
    "fig, ax = plt.subplots(figsize = (10,10))\n",
    "ax = plt.subplot(2, 2, 2)\n",
    "ax = sns.heatmap(ZB23_noBoundary_mean.reshape(18, 14), vmin = 0, vmax = ZB23_noBoundary_mean.max(), cmap = \"Purples\", cbar_kws = {'label': 'ET (GeV)'})\n",
    "ax.get_xaxis().set_visible(False)\n",
    "ax.get_yaxis().set_visible(False)\n",
    "ax.set_title('Mean Et (ZB2023), excluding RCT_Eta=4,17')\n",
    "plt.show()\n",
    "\n",
    "del ZB18A_noBoundary, ZB18D_noBoundary, ZB23_noBoundary, ZB18A_noBoundary_mean, ZB18D_noBoundary_mean, ZB23_noBoundary_mean"
   ]
  },
  {
   "cell_type": "markdown",
   "metadata": {},
   "source": [
    "# CNN AE (teacher model)"
   ]
  },
  {
   "cell_type": "code",
   "execution_count": null,
   "metadata": {},
   "outputs": [],
   "source": [
    "encoder_input = tf.keras.Input(shape=(18,14,1), name='input')\n",
    "\n",
    "encoder = layers.Conv2D(20, (3,3), strides=1, padding='same', name='conv2d_1')(encoder_input)\n",
    "encoder = layers.Activation('relu', name='relu_1')(encoder)\n",
    "encoder = layers.AveragePooling2D((2,2), name='pool_1')(encoder)\n",
    "encoder = layers.Conv2D(30, (3,3), strides=1, padding='same', name='conv2d_2')(encoder)\n",
    "encoder = layers.Activation('relu', name='relu_2')(encoder)\n",
    "encoder = layers.Flatten(name='flatten')(encoder)\n",
    "\n",
    "encoder_output = layers.Dense(100, activation='relu', name='latent')(encoder)\n",
    "\n",
    "encoder = tf.keras.models.Model(encoder_input, encoder_output)\n",
    "encoder.summary()"
   ]
  },
  {
   "cell_type": "code",
   "execution_count": null,
   "metadata": {},
   "outputs": [],
   "source": [
    "decoder = layers.Dense(9*7*30, name='dense')(encoder_output)\n",
    "decoder = layers.Reshape((9,7,30), name='reshape2')(decoder)\n",
    "decoder = layers.Activation('relu', name='relu_3')(decoder)\n",
    "decoder = layers.Conv2D(30, (3,3), strides=1, padding='same', name='conv2d_3')(decoder)\n",
    "decoder = layers.Activation('relu', name='relu_4')(decoder)\n",
    "decoder = layers.UpSampling2D((2,2), name='upsampling')(decoder)\n",
    "decoder = layers.Conv2D(20, (3,3), strides=1, padding='same', name='conv2d_4')(decoder)\n",
    "decoder = layers.Activation('relu', name='relu_5')(decoder)\n",
    "\n",
    "decoder_output = layers.Conv2D(1, (3,3), activation='relu', strides=1, padding='same', name='output')(decoder)"
   ]
  },
  {
   "cell_type": "code",
   "execution_count": null,
   "metadata": {},
   "outputs": [],
   "source": [
    "teacher = tf.keras.Model(encoder_input, decoder_output)\n",
    "teacher.summary()"
   ]
  },
  {
   "cell_type": "code",
   "execution_count": null,
   "metadata": {},
   "outputs": [],
   "source": [
    "teacher.compile(optimizer = keras.optimizers.Adam(learning_rate=0.002), loss = 'mse')"
   ]
  },
  {
   "cell_type": "markdown",
   "metadata": {},
   "source": [
    "# Training"
   ]
  },
  {
   "cell_type": "code",
   "execution_count": null,
   "metadata": {},
   "outputs": [],
   "source": [
    "X = ZB23\n",
    "\n",
    "train_ratio = 0.01\n",
    "val_ratio = 0.01\n",
    "test_ratio = 1 - train_ratio - val_ratio\n",
    "X_train_val, X_test = train_test_split(X, test_size = test_ratio, random_state = 123)\n",
    "X_train, X_val = train_test_split(X_train_val, test_size = val_ratio/(val_ratio + train_ratio), random_state = 123)"
   ]
  },
  {
   "cell_type": "code",
   "execution_count": null,
   "metadata": {
    "scrolled": true
   },
   "outputs": [],
   "source": [
    "history = teacher.fit(X_train, X_train,\n",
    "                      epochs = 80,\n",
    "                      validation_data = (X_val, X_val),\n",
    "                      batch_size = 128)"
   ]
  },
  {
   "cell_type": "code",
   "execution_count": null,
   "metadata": {},
   "outputs": [],
   "source": [
    "plt.figure(figsize = (15,10))\n",
    "axes = plt.subplot(2, 2, 1)\n",
    "axes.plot(history.history['loss'], label = 'train loss')\n",
    "axes.plot(history.history['val_loss'], label = 'val loss')\n",
    "axes.legend(loc = \"upper right\")\n",
    "axes.set_xlabel('Epoch')\n",
    "axes.set_ylabel('Loss')"
   ]
  },
  {
   "cell_type": "markdown",
   "metadata": {},
   "source": [
    "# Save/load trained models"
   ]
  },
  {
   "cell_type": "code",
   "execution_count": null,
   "metadata": {},
   "outputs": [],
   "source": [
    "teacher.save('saved_models/teacher_ZB2023')"
   ]
  },
  {
   "cell_type": "code",
   "execution_count": null,
   "metadata": {},
   "outputs": [],
   "source": [
    "teacher = tf.keras.models.load_model('saved_models/teacher_ZB2023')\n",
    "teacher.summary()"
   ]
  },
  {
   "cell_type": "code",
   "execution_count": null,
   "metadata": {},
   "outputs": [],
   "source": [
    "#student.save('saved_models/student_ZB2023_v1/')\n",
    "student.save('saved_models/student_ZB2023_v2/')"
   ]
  },
  {
   "cell_type": "code",
   "execution_count": null,
   "metadata": {
    "scrolled": true
   },
   "outputs": [],
   "source": [
    "tf.get_logger().setLevel('ERROR')\n",
    "#student = qkeras.utils.load_qmodel('saved_models/model_sA') # 2018 v1\n",
    "#student = qkeras.utils.load_qmodel('saved_models/qmodel_oct24') # 2018 v2\n",
    "#student = qkeras.utils.load_qmodel('saved_models/student_ZB2023_v1') # 2023 v1\n",
    "student = qkeras.utils.load_qmodel('saved_models/student_ZB2023_v2') # 2023 v2\n",
    "student.summary()\n",
    "student.get_config()"
   ]
  },
  {
   "cell_type": "markdown",
   "metadata": {},
   "source": [
    "# Loss distribution"
   ]
  },
  {
   "cell_type": "code",
   "execution_count": null,
   "metadata": {},
   "outputs": [],
   "source": [
    "X_train_predict_teacher = teacher.predict(X_train)\n",
    "X_val_predict_teacher = teacher.predict(X_val)\n",
    "X_test_predict_teacher = teacher.predict(X_test)\n",
    "MC_predict_teacher = []\n",
    "for i in range(len(MC)):\n",
    "    MC_predict_teacher.append(teacher.predict(MC[i]))"
   ]
  },
  {
   "cell_type": "code",
   "execution_count": null,
   "metadata": {},
   "outputs": [],
   "source": [
    "def loss(y_true, y_pred, choice):\n",
    "    if choice == 'mse':\n",
    "        loss = np.mean((y_true - y_pred)**2, axis = (1,2,3))\n",
    "        return loss"
   ]
  },
  {
   "cell_type": "code",
   "execution_count": null,
   "metadata": {},
   "outputs": [],
   "source": [
    "X_train_loss_teacher = loss(X_train, X_train_predict_teacher, 'mse')\n",
    "X_val_loss_teacher = loss(X_val, X_val_predict_teacher, 'mse')\n",
    "X_test_loss_teacher = loss(X_test, X_test_predict_teacher, 'mse')\n",
    "\n",
    "MC_loss_teacher = []\n",
    "for i in range(len(MC)):\n",
    "    MC_loss_teacher.append(loss(MC[i], MC_predict_teacher[i], 'mse'))"
   ]
  },
  {
   "cell_type": "code",
   "execution_count": null,
   "metadata": {},
   "outputs": [],
   "source": [
    "nbins = 80\n",
    "rmin = 0\n",
    "rmax = 100\n",
    "plt.hist(X_test_loss_teacher, density = 1, bins = nbins, alpha = 0.3, label = 'test (ZeroBias)', range = (rmin, rmax), log = True)\n",
    "plt.hist(MC_loss_teacher[3], density = 1, bins = nbins, label = 'H->tautau', color='green', histtype = 'step', range = (rmin, rmax))\n",
    "plt.hist(MC_loss_teacher[4], density = 1, bins = nbins, label = 'SM HH->4b', color='red', histtype = 'step', range = (rmin, rmax))\n",
    "plt.hist(MC_loss_teacher[5], density = 1, bins = nbins, label = 'TTbar', color='blue', histtype = 'step', range = (rmin, rmax))\n",
    "plt.hist(MC_loss_teacher[6], density = 1, bins = nbins, label = 'H->aa->4b', color='orange', histtype = 'step', range = (rmin, rmax))\n",
    "plt.hist(MC_loss_teacher[7], density = 1, bins = nbins, label = 'SUEP', color='purple', histtype = 'step', range = (rmin, rmax))\n",
    "plt.legend(loc='center left', bbox_to_anchor=(1, 0.5))\n",
    "plt.xlabel(\"Anomaly score (teacher)\")\n",
    "plt.show()"
   ]
  },
  {
   "cell_type": "markdown",
   "metadata": {},
   "source": [
    "# Comparison between original and reconstructed inputs"
   ]
  },
  {
   "cell_type": "code",
   "execution_count": null,
   "metadata": {
    "scrolled": false
   },
   "outputs": [],
   "source": [
    "show_ZB = True\n",
    "#show_ZB = False\n",
    "n = 5\n",
    "for i in range(20,30):\n",
    "    fig, ax = plt.subplots(figsize = (17,17))\n",
    "    if show_ZB == True:\n",
    "        print('ZB test\\nloss = ' + str(X_test_loss_teacher[i]))\n",
    "    else:\n",
    "        print(str(MC_files[n]) + '\\nloss = ' + str(MC_loss_teacher[n][i]))\n",
    "    ax = plt.subplot(3, 3, 1)\n",
    "    if show_ZB == True:\n",
    "        ax = sns.heatmap(X_test[i].reshape(18, 14), vmin = 0, vmax = X_test[i].max(), cmap = \"Purples\", cbar_kws = {'label': 'ET (GeV)'})\n",
    "    else:\n",
    "        ax = sns.heatmap(MC[n][i].reshape(18, 14), vmin = 0, vmax = MC[n][i].max(), cmap = \"Purples\", cbar_kws = {'label': 'ET (GeV)'})\n",
    "    ax.get_xaxis().set_visible(False)\n",
    "    ax.get_yaxis().set_visible(False)\n",
    "    ax.set_title('Original')\n",
    "    \n",
    "    ax = plt.subplot(3, 3, 2)\n",
    "    if show_ZB == True:\n",
    "        ax = sns.heatmap(X_test_predict_teacher[i].reshape(18, 14), vmin = 0, vmax = X_test[i].max(), cmap = \"Purples\", cbar_kws = {'label': 'ET (GeV)'})\n",
    "    else:\n",
    "        ax = sns.heatmap(MC_predict_teacher[n][i].reshape(18, 14), vmin = 0, vmax = MC[n][i].max(), cmap = \"Purples\", cbar_kws = {'label': 'ET (GeV)'})\n",
    "    ax.get_xaxis().set_visible(False)\n",
    "    ax.get_yaxis().set_visible(False)\n",
    "    ax.set_title('Reconstructed')\n",
    "    \n",
    "    ax = plt.subplot(3, 3, 3)\n",
    "    if show_ZB == True:\n",
    "        ax = sns.heatmap(np.absolute(X_test_predict_teacher[i].reshape(18, 14) - X_test[i].reshape(18, 14)), vmin = 0, vmax = X_test[i].max(), cmap = \"Purples\", cbar_kws = {'label': 'ET (GeV)'})\n",
    "    else:\n",
    "        ax = sns.heatmap(np.absolute(MC_predict_teacher[n][i].reshape(18, 14) - MC[n][i].reshape(18, 14)), vmin = 0, vmax = MC[n][i].max(), cmap = \"Purples\", cbar_kws = {'label': 'ET (GeV)'})\n",
    "    ax.get_xaxis().set_visible(False)\n",
    "    ax.get_yaxis().set_visible(False)\n",
    "    ax.set_title('abs(original-reconstructed)')\n",
    "\n",
    "    plt.show()"
   ]
  },
  {
   "cell_type": "markdown",
   "metadata": {},
   "source": [
    "# Knowledge Distillation (+ quantizing with QKeras)"
   ]
  },
  {
   "cell_type": "code",
   "execution_count": null,
   "metadata": {},
   "outputs": [],
   "source": [
    "# v1\n",
    "x_in = layers.Input(shape=(252,), name=\"In\")\n",
    "\n",
    "x = QDense(15, kernel_quantizer=quantized_bits(2, 0, 1, alpha=1.0),\n",
    "           use_bias=False, name='dense1')(x_in)\n",
    "x = QBatchNormalization(beta_quantizer=quantized_bits(10, 2, 1, alpha='auto'),\n",
    "                        gamma_quantizer=quantized_bits(10, 2, 1, alpha='auto'),\n",
    "                        mean_quantizer=quantized_bits(10, 2, 1, alpha='auto'),\n",
    "                        variance_quantizer=quantized_bits(10, 2, 1, alpha='auto'),\n",
    "                        name = 'QBN1')(x)\n",
    "x = QActivation('quantized_relu(5, 2)', name='relu1')(x)\n",
    "x = QDense(1, kernel_quantizer=quantized_bits(4, 0, 1, alpha=1.0),\n",
    "           use_bias=False, name='output')(x)\n",
    "\n",
    "student = tf.keras.models.Model(x_in, x)\n",
    "student.summary()\n",
    "student.compile(optimizer = 'adam', loss = 'mse')"
   ]
  },
  {
   "cell_type": "code",
   "execution_count": null,
   "metadata": {},
   "outputs": [],
   "source": [
    "# v2\n",
    "x_in = layers.Input(shape=(252,), name=\"In\")\n",
    "x = layers.Reshape((18,14,1), name='reshape')(x_in)\n",
    "\n",
    "x = QConv2D(3,(3,3), strides=2, padding=\"valid\", use_bias=False,\n",
    "            kernel_quantizer=quantized_bits(16,4,1,alpha='auto'), name='conv')(x)\n",
    "x = QActivation('quantized_relu(16,4)', name='relu1')(x)\n",
    "x = layers.Flatten(name='flatten')(x)\n",
    "x = QDense(20, kernel_quantizer=quantized_bits(16,4,1,alpha='auto'),\n",
    "           use_bias=False, name='dense1')(x)\n",
    "x = QActivation('quantized_relu(16,4)', name='relu2')(x)\n",
    "x = QDense(1, kernel_quantizer=quantized_bits(16,2,1,alpha='auto'),\n",
    "           use_bias=False, name='output')(x)\n",
    "\n",
    "student = tf.keras.models.Model(x_in, x)\n",
    "student.summary()\n",
    "student.compile(optimizer = 'adam', loss = 'mse')"
   ]
  },
  {
   "cell_type": "code",
   "execution_count": null,
   "metadata": {
    "scrolled": true
   },
   "outputs": [],
   "source": [
    "history = student.fit(X_train.reshape((-1,252,1)), X_train_loss_teacher,\n",
    "                      epochs = 100,\n",
    "                      validation_data = (X_val.reshape((-1,252,1)), X_val_loss_teacher),\n",
    "                      batch_size = 512)"
   ]
  },
  {
   "cell_type": "code",
   "execution_count": null,
   "metadata": {},
   "outputs": [],
   "source": [
    "plt.figure(figsize = (15,10))\n",
    "axes = plt.subplot(2, 2, 1)\n",
    "axes.plot(history.history['loss'], label = 'train loss')\n",
    "#axes.set_yscale(value = \"log\")\n",
    "axes.plot(history.history['val_loss'], label = 'val loss')\n",
    "axes.legend(loc = \"upper right\")\n",
    "axes.set_xlabel('Epoch')\n",
    "axes.set_ylabel('Loss')"
   ]
  },
  {
   "cell_type": "code",
   "execution_count": null,
   "metadata": {},
   "outputs": [],
   "source": [
    "X_train_loss_student = student.predict(X_train.reshape((-1,252,1)))\n",
    "X_val_loss_student = student.predict(X_val.reshape((-1,252,1)))\n",
    "X_test_loss_student = student.predict(X_test.reshape((-1,252,1)))\n",
    "MC_loss_student = []\n",
    "for i in range(len(MC)):\n",
    "    MC_loss_student.append(student.predict(MC[i].reshape((-1,252,1))))"
   ]
  },
  {
   "cell_type": "code",
   "execution_count": null,
   "metadata": {},
   "outputs": [],
   "source": [
    "nbins = 60\n",
    "rmin = 0\n",
    "rmax = 20\n",
    "plt.hist(X_test_loss_student, density = 1, bins = nbins, alpha = 0.3, label = 'ZB23', range = (rmin, rmax), log = True)\n",
    "plt.hist(MC_loss_student[3], density = 1, bins = nbins, label = 'H->tautau', color='green', histtype = 'step', range = (rmin, rmax))\n",
    "plt.hist(MC_loss_student[4], density = 1, bins = nbins, label = 'SM HH->4b', color='red', histtype = 'step', range = (rmin, rmax))\n",
    "plt.hist(MC_loss_student[5], density = 1, bins = nbins, label = 'TTbar', color='blue', histtype = 'step', range = (rmin, rmax))\n",
    "plt.hist(MC_loss_student[6], density = 1, bins = nbins, label = 'H->aa->4b', color='orange', histtype = 'step', range = (rmin, rmax))\n",
    "plt.hist(MC_loss_student[7], density = 1, bins = nbins, label = 'SUEP', color='purple', histtype = 'step', range = (rmin, rmax))\n",
    "#plt.legend(loc='center left', bbox_to_anchor=(1, 0.5))\n",
    "#plt.legend(loc='center left', bbox_to_anchor=(0.57, 0.5))\n",
    "plt.title('CICADA_v1, ZB scores')\n",
    "plt.legend(loc='best')\n",
    "plt.xlabel(\"Anomaly score\")\n",
    "#plt.xticks(np.arange(rmin, rmax, step = 0.0002))\n",
    "plt.show()"
   ]
  },
  {
   "cell_type": "markdown",
   "metadata": {},
   "source": [
    "# ROC plotting"
   ]
  },
  {
   "cell_type": "markdown",
   "metadata": {},
   "source": [
    "### Assigning labels and arranging for ROC plotting"
   ]
  },
  {
   "cell_type": "code",
   "execution_count": null,
   "metadata": {},
   "outputs": [],
   "source": [
    "#Baseline\n",
    "#Assuming only the mean ZB is learned\n",
    "#Take mean ZB as outputs no matter what inputs are\n",
    "#Classifier of baseline = MSE(inputs, ZeroBias_mean)\n",
    "ZB_mean = np.mean(X_test.reshape((-1,252,1)), axis = 0)\n",
    "\n",
    "baseline_zb = np.mean((X_test.reshape(-1,252,1) - ZB_mean)**2, axis = (1))\n",
    "baseline_mc = []\n",
    "for i in range(len(MC)):\n",
    "    baseline_mc.append(np.mean((MC[i].reshape(-1,252,1) - ZB_mean)**2, axis = (1)))"
   ]
  },
  {
   "cell_type": "code",
   "execution_count": null,
   "metadata": {},
   "outputs": [],
   "source": [
    "#Assign labels for various signals (y = 1) and backgrounds (y = 0)\n",
    "Y_zb = np.zeros((X_test.shape[0], 1))\n",
    "Y_mc = []\n",
    "for i in range(len(MC)):\n",
    "    Y_mc.append(np.ones((MC[i].shape[0], 1)))\n",
    "\n",
    "#Concatenate datasets to make ROC curves, i.e. QCD/SingleNu/signals vs ZB\n",
    "\n",
    "#True labels\n",
    "Y_true = []\n",
    "#Baseline scores\n",
    "Y_baseline = []\n",
    "#Model scores\n",
    "Y_teacher = []\n",
    "Y_student = []\n",
    "\n",
    "for i in range(len(MC)):\n",
    "    Y_true.append(np.concatenate((Y_mc[i], Y_zb)))\n",
    "    Y_baseline.append(np.concatenate((baseline_mc[i], baseline_zb)))\n",
    "    #Y_teacher.append(np.concatenate((MC_loss_teacher[i], X_test_loss_teacher)))\n",
    "    Y_student.append(np.concatenate((MC_loss_student[i], X_test_loss_student)))"
   ]
  },
  {
   "cell_type": "markdown",
   "metadata": {},
   "source": [
    "### Baseline ROC"
   ]
  },
  {
   "cell_type": "code",
   "execution_count": null,
   "metadata": {},
   "outputs": [],
   "source": [
    "plt.figure(figsize = (13, 13))\n",
    "axes = plt.subplot(2, 2, 1)\n",
    "fpr_baseline = []\n",
    "tpr_baseline = []\n",
    "thresholds_baseline = []\n",
    "roc_auc_baseline = []\n",
    "for i in range(len(MC)):\n",
    "    fpr_baseline.append(np.empty((Y_true[i].shape[0],1)))\n",
    "    tpr_baseline.append(np.empty((Y_true[i].shape[0],1)))\n",
    "    thresholds_baseline.append(np.empty((Y_true[i].shape[0],1)))\n",
    "    roc_auc_baseline.append(np.empty((Y_true[i].shape[0],1)))\n",
    "    fpr_baseline[i], tpr_baseline[i], thresholds_baseline[i] = roc_curve(Y_true[i], Y_baseline[i])\n",
    "    roc_auc_baseline[i] = auc(fpr_baseline[i], tpr_baseline[i])\n",
    "    fpr_baseline[i] *= 28.61\n",
    "    if i == 3:\n",
    "        axes.plot(fpr_baseline[3], tpr_baseline[3], linestyle = '-', lw = 1.5, color = 'green', label = 'H->2Tau (AUC = %.5f)' % (roc_auc_baseline[3]))\n",
    "    if i == 4:\n",
    "        axes.plot(fpr_baseline[4], tpr_baseline[4], linestyle = '-', lw = 1.5, color = 'red', label = 'SM HH->4b (AUC = %.5f)' % (roc_auc_baseline[4]))\n",
    "    if i == 5:\n",
    "        axes.plot(fpr_baseline[5], tpr_baseline[5], linestyle = '-', lw = 1.5, color = 'blue', label = 'TTbar (AUC = %.5f)' % (roc_auc_baseline[5]))\n",
    "    if i == 6:\n",
    "        axes.plot(fpr_baseline[6], tpr_baseline[6], linestyle = '-', lw = 1.5, color = 'orange', label = 'H->aa->4b (AUC = %.5f)' % (roc_auc_baseline[6]))\n",
    "    if i == 7:\n",
    "        axes.plot(fpr_baseline[7], tpr_baseline[7], linestyle = '-', lw = 1.5, color = 'purple', label = 'SUEP (AUC = %.5f)' % (roc_auc_baseline[7]))\n",
    "axes.plot([0.001, 0.001], [0, 1], linestyle = '--', lw = 1, color = 'black', label = 'Trigger rate = 1 kHz')\n",
    "axes.set_xlim([0.0001, 28.61])\n",
    "axes.set_ylim([0.000001, 1.0])\n",
    "axes.set_xscale(value = \"log\")\n",
    "axes.set_yscale(value = \"log\")\n",
    "axes.set_xlabel('Trigger Rate (MHz)',size=15)\n",
    "axes.set_ylabel('Signal Efficiency',size=15)\n",
    "axes.set_title('Baseline (Energy Cut-Based)',size=15)\n",
    "axes.legend(loc='center left', bbox_to_anchor=(1, 0.3),fontsize=12)\n",
    "plt.show()"
   ]
  },
  {
   "cell_type": "markdown",
   "metadata": {},
   "source": [
    "### Teacher model ROC"
   ]
  },
  {
   "cell_type": "code",
   "execution_count": null,
   "metadata": {},
   "outputs": [],
   "source": [
    "plt.figure(figsize = (13, 13))\n",
    "axes = plt.subplot(2, 2, 1)\n",
    "fpr_teacher = []\n",
    "tpr_teacher = []\n",
    "thresholds_teacher = []\n",
    "roc_auc_teacher = []\n",
    "for i in range(len(MC)):\n",
    "    fpr_teacher.append(np.empty((Y_true[i].shape[0],1)))\n",
    "    tpr_teacher.append(np.empty((Y_true[i].shape[0],1)))\n",
    "    thresholds_teacher.append(np.empty((Y_true[i].shape[0],1)))\n",
    "    roc_auc_teacher.append(np.empty((Y_true[i].shape[0],1)))\n",
    "    fpr_teacher[i], tpr_teacher[i], thresholds_teacher[i] = roc_curve(Y_true[i], Y_teacher[i])\n",
    "    roc_auc_teacher[i] = auc(fpr_teacher[i], tpr_teacher[i])\n",
    "    fpr_teacher[i] *= 28.61\n",
    "    if i == 3:\n",
    "        axes.plot(fpr_teacher[3], tpr_teacher[3], linestyle = '-', lw = 1.5, color = 'green', label = 'H->tautau (AUC = %.5f)' % (roc_auc_teacher[3]))\n",
    "    if i == 4:\n",
    "        axes.plot(fpr_teacher[4], tpr_teacher[4], linestyle = '-', lw = 1.5, color = 'red', label = 'SM HH->4b (AUC = %.5f)' % (roc_auc_teacher[4]))\n",
    "    if i == 5:\n",
    "        axes.plot(fpr_teacher[5], tpr_teacher[5], linestyle = '-', lw = 1.5, color = 'blue', label = 'TTbar (AUC = %.5f)' % (roc_auc_teacher[5]))\n",
    "    if i == 6:\n",
    "        axes.plot(fpr_teacher[6], tpr_teacher[6], linestyle = '-', lw = 1.5, color = 'orange', label = 'H->aa->4b (AUC = %.5f)' % (roc_auc_teacher[6]))\n",
    "    if i == 7:\n",
    "        axes.plot(fpr_teacher[7], tpr_teacher[7], linestyle = '-', lw = 1.5, color = 'purple', label = 'SUEP (AUC = %.5f)' % (roc_auc_teacher[7]))\n",
    "axes.plot([0.001, 0.001], [0, 1], linestyle = '--', lw = 1, color = 'black', label = 'Trigger rate = 1 kHz')\n",
    "#axes.set_xlim([0.00002861, 28.61])\n",
    "axes.set_xlim([0.0001, 28.61])\n",
    "axes.set_ylim([0.000001, 1.0])\n",
    "axes.set_xscale(value = \"log\")\n",
    "axes.set_yscale(value = \"log\")\n",
    "axes.set_xlabel('Trigger Rate (MHz)',size=15)\n",
    "axes.set_ylabel('Signal Efficiency',size=15)\n",
    "axes.set_title('Teacher Network',size=15)\n",
    "#axes.legend(loc='center left', bbox_to_anchor = (0.3, 0.3),fontsize=12)\n",
    "axes.legend(loc='center left', bbox_to_anchor=(1, 0.3),fontsize=12)\n",
    "plt.show()"
   ]
  },
  {
   "cell_type": "markdown",
   "metadata": {},
   "source": [
    "### Student model ROC"
   ]
  },
  {
   "cell_type": "code",
   "execution_count": null,
   "metadata": {},
   "outputs": [],
   "source": [
    "plt.figure(figsize = (13, 13))\n",
    "axes = plt.subplot(2, 2, 1)\n",
    "fpr_student = []\n",
    "tpr_student = []\n",
    "thresholds_student = []\n",
    "roc_auc_student = []\n",
    "\n",
    "for i in range(len(MC)):\n",
    "    fpr_student.append(np.empty((Y_true[i].shape[0],1)))\n",
    "    tpr_student.append(np.empty((Y_true[i].shape[0],1)))\n",
    "    thresholds_student.append(np.empty((Y_true[i].shape[0],1)))\n",
    "    roc_auc_student.append(np.empty((Y_true[i].shape[0],1)))\n",
    "    fpr_student[i], tpr_student[i], thresholds_student[i] = roc_curve(Y_true[i], Y_student[i])\n",
    "    roc_auc_student[i] = auc(fpr_student[i], tpr_student[i])\n",
    "    fpr_student[i] *= 28.61\n",
    "    if i == 3:\n",
    "        axes.plot(fpr_student[3], tpr_student[3], linestyle = '-', lw = 1.5, color = 'green', label = 'H->tautau (AUC = %.5f)' % (roc_auc_student[3]))\n",
    "    if i == 4:\n",
    "        axes.plot(fpr_student[4], tpr_student[4], linestyle = '-', lw = 1.5, color = 'red', label = 'SM HH->4b (AUC = %.5f)' % (roc_auc_student[4]))\n",
    "    if i == 5:\n",
    "        axes.plot(fpr_student[5], tpr_student[5], linestyle = '-', lw = 1.5, color = 'blue', label = 'TTbar (AUC = %.5f)' % (roc_auc_student[5]))\n",
    "    if i == 6:\n",
    "        axes.plot(fpr_student[6], tpr_student[6], linestyle = '-', lw = 1.5, color = 'orange', label = 'H->aa->4b (AUC = %.5f)' % (roc_auc_student[6]))\n",
    "    if i == 7:\n",
    "        axes.plot(fpr_student[7], tpr_student[7], linestyle = '-', lw = 1.5, color = 'purple', label = 'SUEP (AUC = %.5f)' % (roc_auc_student[7]))\n",
    "axes.plot([0.003, 0.003], [0, 1], linestyle = '--', lw = 1, color = 'black', label = 'Trigger rate = 3 kHz')\n",
    "#axes.set_xlim([0.00002861, 28.61])\n",
    "axes.set_xlim([0.0001, 28.61])\n",
    "axes.set_ylim([0.000001, 1])\n",
    "axes.set_xscale(value = \"log\")\n",
    "axes.set_yscale(value = \"log\")\n",
    "axes.set_xlabel('Trigger Rate (MHz)',size=15)\n",
    "axes.set_ylabel('Signal Efficiency',size=15)\n",
    "axes.set_title('Student Network',size=15)\n",
    "#axes.legend(loc='center left', bbox_to_anchor = (0.3, 0.3),fontsize=12)\n",
    "axes.legend(loc='center left', bbox_to_anchor=(1, 0.3),fontsize=12)\n",
    "plt.show()"
   ]
  },
  {
   "cell_type": "markdown",
   "metadata": {},
   "source": [
    "# cross-validation"
   ]
  },
  {
   "cell_type": "code",
   "execution_count": null,
   "metadata": {},
   "outputs": [],
   "source": [
    "Y_zb = np.zeros((X_test.shape[0], 1))\n",
    "Y_mc = []\n",
    "for i in range(len(MC)):\n",
    "    Y_mc.append(np.ones((MC[i].shape[0], 1)))\n",
    "\n",
    "def kfold(y, k):\n",
    "    N=y.shape[0]\n",
    "    n=np.floor(N/k).astype(int)\n",
    "    y_kf=[]\n",
    "    for i in range(k):\n",
    "        y_kf.append(y[i*n : (i+1)*n])\n",
    "    return y_kf\n",
    "\n",
    "kf=10\n",
    "X_test_loss_model = X_test_loss_student\n",
    "Y_model = Y_student\n",
    "MC_loss_model = MC_loss_student\n",
    "\n",
    "X_test_loss_model_kf=kfold(X_test_loss_model,kf)\n",
    "Y_zb_kf=kfold(Y_zb,kf)\n",
    "\n",
    "plt.figure(figsize = (16, 16))\n",
    "axes = plt.subplot(2, 2, 1)\n",
    "\n",
    "fpr = []\n",
    "tpr = []\n",
    "thresholds = []\n",
    "roc_auc = []\n",
    "\n",
    "for j in range(len(MC)):\n",
    "    fpr.append(np.empty((Y_true[j].shape[0],1)))\n",
    "    tpr.append(np.empty((Y_true[j].shape[0],1)))\n",
    "    thresholds.append(np.empty((Y_true[j].shape[0],1)))\n",
    "    roc_auc.append(np.empty((Y_true[j].shape[0],1)))\n",
    "    fpr[j], tpr[j], thresholds[j] = roc_curve(Y_true[j], Y_model[j])\n",
    "    roc_auc[j] = auc(fpr[j], tpr[j])\n",
    "    fpr[j] *= 28.61\n",
    "    \n",
    "    MC_loss_model_kf=kfold(MC_loss_model[j],kf)\n",
    "    Y_mc_kf=kfold(Y_mc[j],kf)\n",
    "\n",
    "    Y_true_kf=[]\n",
    "    Y_model_kf=[]\n",
    "    for i in range(kf):\n",
    "        Y_true_kf.append(np.concatenate((Y_mc_kf[i],Y_zb_kf[i])))\n",
    "        Y_model_kf.append((np.concatenate((MC_loss_model_kf[i],X_test_loss_model_kf[i]))))\n",
    "\n",
    "    fpr_mean=np.linspace(0,1,10000000)\n",
    "    tpr_kf=[]\n",
    "    fpr_kf=[]\n",
    "    thresholds_kf=[]\n",
    "    roc_auc_kf=[]\n",
    "    for i in range(kf):\n",
    "        tpr_kf.append(np.empty((Y_true_kf[i].shape[0],1)))\n",
    "        fpr_kf.append(np.empty((Y_true_kf[i].shape[0],1)))\n",
    "        thresholds_kf.append(np.empty((Y_true_kf[i].shape[0],1)))\n",
    "        roc_auc_kf.append(np.empty((Y_true_kf[i].shape[0],1)))\n",
    "        fpr_kf[i], tpr_kf[i], thresholds_kf[i] = roc_curve(Y_true_kf[i], Y_model_kf[i])\n",
    "        roc_auc_kf[i] = auc(fpr_kf[i], tpr_kf[i])\n",
    "\n",
    "    tpr_total=[]\n",
    "    for i in range(kf):\n",
    "        interp_tpr=np.interp(fpr_mean, fpr_kf[i], tpr_kf[i])\n",
    "        interp_tpr[0]=0.0\n",
    "        tpr_total.append(interp_tpr)\n",
    "    tpr_mean=np.mean(tpr_total, axis=0)\n",
    "    tpr_mean[-1]=1.0\n",
    "    roc_auc_mean=auc(fpr_mean,tpr_mean)\n",
    "    roc_auc_std=np.std(roc_auc_kf)\n",
    "    \n",
    "    tpr_std=np.std(tpr_total, axis=0)\n",
    "    tpr_up=np.minimum(tpr_mean+tpr_std,1)\n",
    "    tpr_down=np.maximum(tpr_mean-tpr_std,0)\n",
    "\n",
    "    fpr_mean *= 28.61\n",
    "    \n",
    "    if j == 3:\n",
    "        axes.plot(fpr_mean, tpr_mean, linestyle = '-', lw = 1.5, color = 'green', label = 'H->tautau (AUC = %.3f $\\pm$ %0.4f)' % (roc_auc_mean, roc_auc_std))\n",
    "        axes.fill_between(fpr_mean, tpr_down, tpr_up, color='green', alpha=0.1)\n",
    "        #axes.plot(fpr[3], tpr[3], linestyle = '--', lw = 1.5, color = 'green', label = 'H->tautau (AUC = %.3f)' % (roc_auc[3]))\n",
    "    if j == 4:\n",
    "        axes.plot(fpr_mean, tpr_mean, linestyle = '-', lw = 1.5, color = 'red', label = 'SM HH->4b (AUC = %.3f $\\pm$ %0.4f)' % (roc_auc_mean, roc_auc_std))\n",
    "        axes.fill_between(fpr_mean, tpr_down, tpr_up, color='red', alpha=0.1)\n",
    "        #axes.plot(fpr[4], tpr[4], linestyle = '--', lw = 1.5, color = 'red', label = 'SM HH->4b (AUC = %.3f)' % (roc_auc[4]))\n",
    "    if j == 5:\n",
    "        axes.plot(fpr_mean, tpr_mean, linestyle = '-', lw = 1.5, color = 'blue', label = 'TTbar (AUC = %.3f $\\pm$ %0.4f)' % (roc_auc_mean, roc_auc_std))\n",
    "        axes.fill_between(fpr_mean, tpr_down, tpr_up, color='blue', alpha=0.1)\n",
    "        #axes.plot(fpr[5], tpr[5], linestyle = '--', lw = 1.5, color = 'blue', label = 'TTbar (AUC = %.3f)' % (roc_auc[5]))\n",
    "    if j == 6:\n",
    "        axes.plot(fpr_mean, tpr_mean, linestyle = '-', lw = 1.5, color = 'orange', label = 'H->aa->4b (AUC = %.3f $\\pm$ %0.4f)' % (roc_auc_mean, roc_auc_std))\n",
    "        axes.fill_between(fpr_mean, tpr_down, tpr_up, color='orange', alpha=0.1)\n",
    "        #axes.plot(fpr[6], tpr[6], linestyle = '--', lw = 1.5, color = 'orange', label = 'H->aa->4b (AUC = %.3f)' % (roc_auc[6]))\n",
    "    if j == 7:\n",
    "        axes.plot(fpr_mean, tpr_mean, linestyle = '-', lw = 1.5, color = 'purple', label = 'SUEP (AUC = %.3f $\\pm$ %0.4f)' % (roc_auc_mean, roc_auc_std))\n",
    "        axes.fill_between(fpr_mean, tpr_down, tpr_up, color='purple', alpha=0.1)\n",
    "        #axes.plot(fpr[7], tpr[7], linestyle = '--', lw = 1.5, color = 'purple', label = 'SUEP (AUC = %.3f)' % (roc_auc[7]))\n",
    "\n",
    "axes.plot([0.003, 0.003], [0, 1], linestyle = '--', lw = 1, color = 'black', label = 'Trigger rate = 3 kHz')\n",
    "axes.set_xlim([0.0001, 28.61])\n",
    "axes.set_ylim([0.000001, 1])\n",
    "axes.set_xscale(value = \"log\")\n",
    "axes.set_yscale(value = \"log\")\n",
    "axes.set_xlabel('Trigger Rate (MHz)',size=17)\n",
    "axes.set_ylabel('Signal Efficiency',size=17)\n",
    "axes.set_title('CICADA_v3_v1, signal(Run2) vs ZB(2023)',size=17)\n",
    "axes.legend(loc='center left', bbox_to_anchor = (0.3, 0.3),fontsize=11)\n",
    "plt.show()"
   ]
  },
  {
   "cell_type": "markdown",
   "metadata": {},
   "source": [
    "# sensitivity table"
   ]
  },
  {
   "cell_type": "code",
   "execution_count": null,
   "metadata": {},
   "outputs": [],
   "source": [
    "thr=0.002\n",
    "table_tpr_baseline = []\n",
    "table_tpr_teacher = []\n",
    "table_tpr_student = []\n",
    "table_tpr_change = []\n",
    "for i in range(len(fpr_baseline)):\n",
    "    for j in range(len(fpr_baseline[i])):\n",
    "        if fpr_baseline[i][j] > thr:\n",
    "            table_tpr_baseline.append(tpr_baseline[i][j] * 100)\n",
    "            break\n",
    "    #for j in range(len(fpr_model[i])):\n",
    "        #if fpr_model[i][j] > thr:\n",
    "            #table_tpr_teacher.append(tpr_teacher[i][j] * 100)\n",
    "            #break\n",
    "    for j in range(len(fpr_student[i])):\n",
    "        if fpr_student[i][j] > thr:\n",
    "            table_tpr_student.append(tpr_student[i][j] * 100)\n",
    "            break\n",
    "\n",
    "#for i in range(len(MC)):\n",
    "    #table_tpr_change.append(100 * (table_tpr_model[i] - table_tpr_baseline[i])/table_tpr_baseline[i])\n",
    "\n",
    "MC_names = ['H->tautau','SM HH->4b','TTbar','H->aa->4b','SUEP']\n",
    "table_tpr = pd.DataFrame({'Baseline': table_tpr_baseline[3:],\n",
    "                          #'Teacher': table_tpr_teacher[3:],\n",
    "                          'Student': table_tpr_student[3:]},\n",
    "                         index = MC_names)\n",
    "#table_tpr = table_tpr.sort_values(by = 'delta', ascending = False)\n",
    "\n",
    "pd.set_option('display.max_colwidth', None)\n",
    "table_tpr"
   ]
  },
  {
   "cell_type": "code",
   "execution_count": null,
   "metadata": {},
   "outputs": [],
   "source": []
  }
 ],
 "metadata": {
  "kernelspec": {
   "display_name": "Python 3 (ipykernel)",
   "language": "python",
   "name": "python3"
  },
  "language_info": {
   "codemirror_mode": {
    "name": "ipython",
    "version": 3
   },
   "file_extension": ".py",
   "mimetype": "text/x-python",
   "name": "python",
   "nbconvert_exporter": "python",
   "pygments_lexer": "ipython3",
   "version": "3.9.12"
  }
 },
 "nbformat": 4,
 "nbformat_minor": 4
}
